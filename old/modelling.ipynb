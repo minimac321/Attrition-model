{
 "cells": [
  {
   "cell_type": "markdown",
   "metadata": {},
   "source": [
    "## Modelling employee attrition"
   ]
  },
  {
   "cell_type": "markdown",
   "metadata": {},
   "source": [
    "### Process:\n",
    "\n",
    "- We are working with cleaned data\n",
    "- Split into Train / Valid / Test datasets.\n",
    "- "
   ]
  },
  {
   "cell_type": "code",
   "execution_count": 1,
   "metadata": {},
   "outputs": [],
   "source": [
    "import os\n",
    "import sys\n",
    "from pathlib import Path\n",
    "\n",
    "import pandas as pd\n",
    "import numpy as np\n",
    "import matplotlib.pyplot as plt\n",
    "import seaborn as sns\n",
    "\n",
    "import xgboost\n",
    "import mlflow\n",
    "import warnings\n",
    "\n",
    "from sklearn.preprocessing import LabelEncoder, OneHotEncoder\n"
   ]
  },
  {
   "cell_type": "code",
   "execution_count": 2,
   "metadata": {},
   "outputs": [],
   "source": [
    "import matplotlib as mpl\n",
    "mpl.rcParams['font.family'] = 'sans-serif'"
   ]
  },
  {
   "cell_type": "code",
   "execution_count": 3,
   "metadata": {},
   "outputs": [
    {
     "name": "stdout",
     "output_type": "stream",
     "text": [
      "/Users/ryanmccarlie/Documents/Problems/PwC Interview/Code\n"
     ]
    }
   ],
   "source": [
    "# Add my parent directory to path variables\n",
    "current_location = Path(os.path.abspath('')).parent.resolve()\n",
    "print(current_location)\n",
    "sys.path.append(str(current_location))"
   ]
  },
  {
   "cell_type": "code",
   "execution_count": 4,
   "metadata": {},
   "outputs": [],
   "source": [
    "raw_data_dir = os.path.join(current_location, \"raw_data\")\n",
    "os.makedirs(raw_data_dir, exist_ok=True)\n",
    "\n",
    "transformed_data_dir = os.path.join(current_location, \"transformed_data\")\n",
    "os.makedirs(transformed_data_dir, exist_ok=True)\n",
    "\n",
    "output_data_dir = os.path.join(current_location, \"output_data\")\n",
    "os.makedirs(output_data_dir, exist_ok=True)\n",
    "\n",
    "processed_dir = os.path.join(current_location, \"processed_dir\")\n",
    "os.makedirs(processed_dir, exist_ok=True)\n",
    "\n",
    "models_dir = os.path.join(current_location, \"models\")\n",
    "os.makedirs(models_dir, exist_ok=True)\n",
    "\n",
    "# report_dir = os.path.join(current_location, \"reports\")\n",
    "# os.makedirs(report_dir, exist_ok=True)"
   ]
  },
  {
   "cell_type": "code",
   "execution_count": 5,
   "metadata": {},
   "outputs": [
    {
     "data": {
      "text/plain": [
       "42"
      ]
     },
     "execution_count": 5,
     "metadata": {},
     "output_type": "execute_result"
    }
   ],
   "source": [
    "random_state_var = 42\n",
    "random_state_var"
   ]
  },
  {
   "cell_type": "code",
   "execution_count": 6,
   "metadata": {},
   "outputs": [],
   "source": [
    "def get_or_create_experiment(experiment_name: str) -> str:\n",
    "    \"\"\"\n",
    "    Fetches the experiment with the given name if it exists. If it doesn't exist, creates a new one.\n",
    "    \n",
    "    Parameters:\n",
    "    - experiment_name (str): The name of the MLFlow experiment.\n",
    "    \n",
    "    Returns:\n",
    "    - experiment_id (str): The ID of the experiment to use.\n",
    "    \"\"\"\n",
    "    mlflow.set_tracking_uri(\"file:///Users/ryanmccarlie/Documents/Problems/PwC%20Interview/Code/mlruns\")\n",
    "\n",
    "    # Fetch the experiment if it exists\n",
    "    try:\n",
    "        experiment = mlflow.get_experiment_by_name(experiment_name)\n",
    "        if experiment is not None:\n",
    "            print(f\"Experiment '{experiment_name}' exists with ID: {experiment.experiment_id}\")\n",
    "            return experiment.experiment_id\n",
    "        else:\n",
    "            # Create a new experiment if it does not exist\n",
    "            experiment_id = mlflow.create_experiment(experiment_name)\n",
    "            print(f\"Created new experiment '{experiment_name}' with ID: {experiment_id}\")\n",
    "            return experiment_id\n",
    "    except mlflow.MlflowException as e:\n",
    "        print(f\"Error: {e}\")\n",
    "        raise"
   ]
  },
  {
   "cell_type": "code",
   "execution_count": 7,
   "metadata": {},
   "outputs": [
    {
     "name": "stdout",
     "output_type": "stream",
     "text": [
      "Experiment 'Employee_Attrition_Experiment' exists with ID: 127905123878869483\n"
     ]
    },
    {
     "data": {
      "text/plain": [
       "<Experiment: artifact_location='file:///Users/ryanmccarlie/Documents/Problems/PwC%20Interview/Code/mlruns/127905123878869483', creation_time=1726585527884, experiment_id='127905123878869483', last_update_time=1726585527884, lifecycle_stage='active', name='Employee_Attrition_Experiment', tags={}>"
      ]
     },
     "execution_count": 7,
     "metadata": {},
     "output_type": "execute_result"
    }
   ],
   "source": [
    "# Example usage\n",
    "experiment_name = \"Employee_Attrition_Experiment\"\n",
    "\n",
    "# Get or create the experiment\n",
    "experiment_id = get_or_create_experiment(experiment_name)\n",
    "\n",
    "# Set the experiment ID for subsequent logging\n",
    "mlflow.set_experiment(experiment_id=experiment_id)"
   ]
  },
  {
   "cell_type": "markdown",
   "metadata": {},
   "source": [
    "## Read in transformed data"
   ]
  },
  {
   "cell_type": "code",
   "execution_count": 11,
   "metadata": {},
   "outputs": [
    {
     "name": "stdout",
     "output_type": "stream",
     "text": [
      "(4327, 34)\n"
     ]
    },
    {
     "data": {
      "text/html": [
       "<div>\n",
       "<style scoped>\n",
       "    .dataframe tbody tr th:only-of-type {\n",
       "        vertical-align: middle;\n",
       "    }\n",
       "\n",
       "    .dataframe tbody tr th {\n",
       "        vertical-align: top;\n",
       "    }\n",
       "\n",
       "    .dataframe thead th {\n",
       "        text-align: right;\n",
       "    }\n",
       "</style>\n",
       "<table border=\"1\" class=\"dataframe\">\n",
       "  <thead>\n",
       "    <tr style=\"text-align: right;\">\n",
       "      <th></th>\n",
       "      <th>Age</th>\n",
       "      <th>YearsAtCompany</th>\n",
       "      <th>MonthlyIncome</th>\n",
       "      <th>DistanceFromHome</th>\n",
       "      <th>JobLevel</th>\n",
       "      <th>PercentSalaryHike</th>\n",
       "      <th>PerformanceRating</th>\n",
       "      <th>YearsInCurrentRole</th>\n",
       "      <th>YearsSinceLastPromotion</th>\n",
       "      <th>YearsWithCurrManager</th>\n",
       "      <th>...</th>\n",
       "      <th>SalaryHikeToJobLevel</th>\n",
       "      <th>IncomeToDeptAvg</th>\n",
       "      <th>IncomeToJobRoleAvg</th>\n",
       "      <th>DeptOvertimeRatio</th>\n",
       "      <th>DistanceGroup</th>\n",
       "      <th>AgeGroup</th>\n",
       "      <th>MaritalGenderInteraction</th>\n",
       "      <th>OvertimeJobSatisfactionInteraction</th>\n",
       "      <th>YearsAtCompanyPerformanceInteraction</th>\n",
       "      <th>target</th>\n",
       "    </tr>\n",
       "  </thead>\n",
       "  <tbody>\n",
       "    <tr>\n",
       "      <th>0</th>\n",
       "      <td>56.0</td>\n",
       "      <td>9.0</td>\n",
       "      <td>19844.0</td>\n",
       "      <td>9.0</td>\n",
       "      <td>4.0</td>\n",
       "      <td>24.0</td>\n",
       "      <td>2.0</td>\n",
       "      <td>2.0</td>\n",
       "      <td>1.0</td>\n",
       "      <td>0.0</td>\n",
       "      <td>...</td>\n",
       "      <td>6.0</td>\n",
       "      <td>1.803461</td>\n",
       "      <td>1.759983</td>\n",
       "      <td>0.486797</td>\n",
       "      <td>Close</td>\n",
       "      <td>50+</td>\n",
       "      <td>Married_Male</td>\n",
       "      <td>No_1.0</td>\n",
       "      <td>18.0</td>\n",
       "      <td>0</td>\n",
       "    </tr>\n",
       "    <tr>\n",
       "      <th>1</th>\n",
       "      <td>46.0</td>\n",
       "      <td>29.0</td>\n",
       "      <td>6687.0</td>\n",
       "      <td>39.0</td>\n",
       "      <td>1.0</td>\n",
       "      <td>20.0</td>\n",
       "      <td>1.0</td>\n",
       "      <td>14.0</td>\n",
       "      <td>11.0</td>\n",
       "      <td>7.0</td>\n",
       "      <td>...</td>\n",
       "      <td>20.0</td>\n",
       "      <td>0.603178</td>\n",
       "      <td>0.592464</td>\n",
       "      <td>0.483835</td>\n",
       "      <td>Very Far</td>\n",
       "      <td>40-50</td>\n",
       "      <td>Single_Female</td>\n",
       "      <td>No_1.0</td>\n",
       "      <td>29.0</td>\n",
       "      <td>0</td>\n",
       "    </tr>\n",
       "    <tr>\n",
       "      <th>2</th>\n",
       "      <td>32.0</td>\n",
       "      <td>35.0</td>\n",
       "      <td>7357.0</td>\n",
       "      <td>1.0</td>\n",
       "      <td>1.0</td>\n",
       "      <td>12.0</td>\n",
       "      <td>1.0</td>\n",
       "      <td>11.0</td>\n",
       "      <td>7.0</td>\n",
       "      <td>0.0</td>\n",
       "      <td>...</td>\n",
       "      <td>12.0</td>\n",
       "      <td>0.658943</td>\n",
       "      <td>0.676739</td>\n",
       "      <td>0.474654</td>\n",
       "      <td>Close</td>\n",
       "      <td>30-40</td>\n",
       "      <td>Single_Male</td>\n",
       "      <td>No_4.0</td>\n",
       "      <td>35.0</td>\n",
       "      <td>1</td>\n",
       "    </tr>\n",
       "  </tbody>\n",
       "</table>\n",
       "<p>3 rows × 34 columns</p>\n",
       "</div>"
      ],
      "text/plain": [
       "    Age  YearsAtCompany  MonthlyIncome  DistanceFromHome  JobLevel  \\\n",
       "0  56.0             9.0        19844.0               9.0       4.0   \n",
       "1  46.0            29.0         6687.0              39.0       1.0   \n",
       "2  32.0            35.0         7357.0               1.0       1.0   \n",
       "\n",
       "   PercentSalaryHike  PerformanceRating  YearsInCurrentRole  \\\n",
       "0               24.0                2.0                 2.0   \n",
       "1               20.0                1.0                14.0   \n",
       "2               12.0                1.0                11.0   \n",
       "\n",
       "   YearsSinceLastPromotion  YearsWithCurrManager  ...  SalaryHikeToJobLevel  \\\n",
       "0                      1.0                   0.0  ...                   6.0   \n",
       "1                     11.0                   7.0  ...                  20.0   \n",
       "2                      7.0                   0.0  ...                  12.0   \n",
       "\n",
       "  IncomeToDeptAvg IncomeToJobRoleAvg DeptOvertimeRatio DistanceGroup AgeGroup  \\\n",
       "0        1.803461           1.759983          0.486797         Close      50+   \n",
       "1        0.603178           0.592464          0.483835      Very Far    40-50   \n",
       "2        0.658943           0.676739          0.474654         Close    30-40   \n",
       "\n",
       "  MaritalGenderInteraction OvertimeJobSatisfactionInteraction  \\\n",
       "0             Married_Male                             No_1.0   \n",
       "1            Single_Female                             No_1.0   \n",
       "2              Single_Male                             No_4.0   \n",
       "\n",
       "   YearsAtCompanyPerformanceInteraction  target  \n",
       "0                                  18.0       0  \n",
       "1                                  29.0       0  \n",
       "2                                  35.0       1  \n",
       "\n",
       "[3 rows x 34 columns]"
      ]
     },
     "execution_count": 11,
     "metadata": {},
     "output_type": "execute_result"
    }
   ],
   "source": [
    "cleaned_fname = os.path.join(transformed_data_dir, \"cleaned_non_scaled_non_one_hot_data_17_09_2024.csv\")\n",
    "modelling_data = pd.read_csv(cleaned_fname)\n",
    "\n",
    "modelling_data = modelling_data.drop(columns=[\"Attrition\"], errors=\"ignore\")\n",
    "\n",
    "# print(modelling_data.columns)\n",
    "print(modelling_data.shape)\n",
    "modelling_data.head(3)"
   ]
  },
  {
   "cell_type": "code",
   "execution_count": null,
   "metadata": {},
   "outputs": [],
   "source": []
  },
  {
   "cell_type": "markdown",
   "metadata": {},
   "source": [
    "## Train Test Split"
   ]
  },
  {
   "cell_type": "code",
   "execution_count": 16,
   "metadata": {},
   "outputs": [],
   "source": [
    "# src/data_preprocessing.py\n",
    "import pandas as pd\n",
    "from sklearn.model_selection import train_test_split\n",
    "import os\n",
    "from datetime import datetime\n",
    "\n",
    "def split_and_save_data(input_df: pd.DataFrame, target_col: str, processed_dir:str, random_state=random_state_var):\n",
    "    # Define features and target\n",
    "    X = input_df.drop(target_col, axis=1)\n",
    "    y = input_df[target_col]\n",
    "    \n",
    "    # Split into train (70%), validation (15%), and test (15%)\n",
    "    X_train, X_temp, y_train, y_temp = train_test_split(\n",
    "        X, y, test_size=0.3, random_state=random_state, stratify=y\n",
    "    )\n",
    "    X_valid, X_test, y_valid, y_test = train_test_split(\n",
    "        X_temp, y_temp, test_size=0.5, random_state=random_state, stratify=y_temp\n",
    "    )\n",
    "    \n",
    "    # Save splits\n",
    "    train_df = pd.concat([X_train, y_train], axis=1)\n",
    "    valid_df = pd.concat([X_valid, y_valid], axis=1)\n",
    "    test_df = pd.concat([X_test, y_test], axis=1)\n",
    "    \n",
    "    current_date = datetime.now().strftime(\"%d_%m_%y\")\n",
    "\n",
    "    \n",
    "    train_df.to_csv(os.path.join(processed_dir, f'train_{current_date}.csv'), index=False)\n",
    "    valid_df.to_csv(os.path.join(processed_dir, f'validation{current_date}.csv'), index=False)\n",
    "    test_df.to_csv(os.path.join(processed_dir, f'test_{current_date}.csv'), index=False)\n",
    "    \n",
    "\n",
    "    return {\n",
    "        'X_train': X_train,\n",
    "        'y_train': y_train,\n",
    "        'X_valid': X_valid,\n",
    "        'y_valid': y_valid,\n",
    "        'X_test': X_test,\n",
    "        'y_test': y_test\n",
    "    }\n"
   ]
  },
  {
   "cell_type": "code",
   "execution_count": 17,
   "metadata": {},
   "outputs": [
    {
     "name": "stdout",
     "output_type": "stream",
     "text": [
      "X_train.shape: (3028, 33)\n",
      "y_train.shape: (3028,)\n",
      "X_valid.shape: (649, 33)\n",
      "y_valid.shape: (649,)\n",
      "X_test.shape: (650, 33)\n",
      "y_test.shape: (650,)\n"
     ]
    }
   ],
   "source": [
    "data_splits = split_and_save_data(\n",
    "    input_df=modelling_data,\n",
    "    target_col=\"target\",\n",
    "    processed_dir=processed_dir,\n",
    "    random_state=random_state_var, \n",
    ")\n",
    "X_train = data_splits['X_train']\n",
    "y_train = data_splits['y_train']\n",
    "X_valid = data_splits['X_valid']\n",
    "y_valid = data_splits['y_valid']\n",
    "X_test = data_splits['X_test']\n",
    "y_test = data_splits['y_test']\n",
    "\n",
    "print(f\"X_train.shape: {X_train.shape}\")\n",
    "print(f\"y_train.shape: {y_train.shape}\")\n",
    "print(f\"X_valid.shape: {X_valid.shape}\")\n",
    "print(f\"y_valid.shape: {y_valid.shape}\")\n",
    "print(f\"X_test.shape: {X_test.shape}\")\n",
    "print(f\"y_test.shape: {y_test.shape}\")"
   ]
  },
  {
   "cell_type": "code",
   "execution_count": 20,
   "metadata": {},
   "outputs": [
    {
     "data": {
      "text/plain": [
       "Index(['Age', 'YearsAtCompany', 'MonthlyIncome', 'DistanceFromHome',\n",
       "       'JobLevel', 'PercentSalaryHike', 'PerformanceRating',\n",
       "       'YearsInCurrentRole', 'YearsSinceLastPromotion', 'YearsWithCurrManager',\n",
       "       'JobSatisfaction', 'Gender', 'Department', 'Education', 'MaritalStatus',\n",
       "       'JobRole', 'OverTime', 'BusinessTravel', 'WorkLifeBalanceScore_dummy',\n",
       "       'WorkPlaceSatisfactionScore_dummy', 'EmployeeEngagementLevel_dummy',\n",
       "       'TrainingOpportunitiesBool_dummy', 'RoleToCompanyRatio',\n",
       "       'PromotionToCompanyRatio', 'SalaryHikeToJobLevel', 'IncomeToDeptAvg',\n",
       "       'IncomeToJobRoleAvg', 'DeptOvertimeRatio', 'DistanceGroup', 'AgeGroup',\n",
       "       'MaritalGenderInteraction', 'OvertimeJobSatisfactionInteraction',\n",
       "       'YearsAtCompanyPerformanceInteraction'],\n",
       "      dtype='object')"
      ]
     },
     "execution_count": 20,
     "metadata": {},
     "output_type": "execute_result"
    }
   ],
   "source": [
    "X_test.columns"
   ]
  },
  {
   "cell_type": "code",
   "execution_count": null,
   "metadata": {},
   "outputs": [],
   "source": [
    "columns_to_train = [\n",
    "   'Age', 'YearsAtCompany', 'MonthlyIncome', 'DistanceFromHome',\n",
    "    'JobLevel', 'PercentSalaryHike', 'PerformanceRating',\n",
    "    'YearsInCurrentRole', 'YearsSinceLastPromotion', 'YearsWithCurrManager',\n",
    "    'JobSatisfaction', 'Gender', 'Department', 'Education', 'MaritalStatus',\n",
    "    'JobRole', 'OverTime', 'BusinessTravel',  'RoleToCompanyRatio',\n",
    "    'PromotionToCompanyRatio', 'SalaryHikeToJobLevel', 'IncomeToDeptAvg',\n",
    "    'IncomeToJobRoleAvg', 'DeptOvertimeRatio', 'DistanceGroup', 'AgeGroup',\n",
    "    'MaritalGenderInteraction', 'OvertimeJobSatisfactionInteraction',\n",
    "    'YearsAtCompanyPerformanceInteraction' \n",
    "]\n",
    "\n",
    "cols_to_skip = [\n",
    "    'WorkLifeBalanceScore_dummy', 'WorkPlaceSatisfactionScore_dummy', \n",
    "    'EmployeeEngagementLevel_dummy', 'TrainingOpportunitiesBool_dummy',\n",
    "]"
   ]
  },
  {
   "cell_type": "code",
   "execution_count": 18,
   "metadata": {},
   "outputs": [
    {
     "data": {
      "text/html": [
       "<div>\n",
       "<style scoped>\n",
       "    .dataframe tbody tr th:only-of-type {\n",
       "        vertical-align: middle;\n",
       "    }\n",
       "\n",
       "    .dataframe tbody tr th {\n",
       "        vertical-align: top;\n",
       "    }\n",
       "\n",
       "    .dataframe thead th {\n",
       "        text-align: right;\n",
       "    }\n",
       "</style>\n",
       "<table border=\"1\" class=\"dataframe\">\n",
       "  <thead>\n",
       "    <tr style=\"text-align: right;\">\n",
       "      <th></th>\n",
       "      <th>Age</th>\n",
       "      <th>YearsAtCompany</th>\n",
       "      <th>MonthlyIncome</th>\n",
       "      <th>DistanceFromHome</th>\n",
       "      <th>JobLevel</th>\n",
       "      <th>PercentSalaryHike</th>\n",
       "      <th>PerformanceRating</th>\n",
       "      <th>YearsInCurrentRole</th>\n",
       "      <th>YearsSinceLastPromotion</th>\n",
       "      <th>YearsWithCurrManager</th>\n",
       "      <th>...</th>\n",
       "      <th>PromotionToCompanyRatio</th>\n",
       "      <th>SalaryHikeToJobLevel</th>\n",
       "      <th>IncomeToDeptAvg</th>\n",
       "      <th>IncomeToJobRoleAvg</th>\n",
       "      <th>DeptOvertimeRatio</th>\n",
       "      <th>DistanceGroup</th>\n",
       "      <th>AgeGroup</th>\n",
       "      <th>MaritalGenderInteraction</th>\n",
       "      <th>OvertimeJobSatisfactionInteraction</th>\n",
       "      <th>YearsAtCompanyPerformanceInteraction</th>\n",
       "    </tr>\n",
       "  </thead>\n",
       "  <tbody>\n",
       "    <tr>\n",
       "      <th>3610</th>\n",
       "      <td>24.0</td>\n",
       "      <td>5.0</td>\n",
       "      <td>16702.0</td>\n",
       "      <td>48.0</td>\n",
       "      <td>3.0</td>\n",
       "      <td>4.0</td>\n",
       "      <td>1.0</td>\n",
       "      <td>0.0</td>\n",
       "      <td>0.0</td>\n",
       "      <td>0.0</td>\n",
       "      <td>...</td>\n",
       "      <td>0.000000</td>\n",
       "      <td>1.333333</td>\n",
       "      <td>1.517910</td>\n",
       "      <td>1.536347</td>\n",
       "      <td>0.486797</td>\n",
       "      <td>Very Far</td>\n",
       "      <td>Under 30</td>\n",
       "      <td>Married_Female</td>\n",
       "      <td>No_1.0</td>\n",
       "      <td>5.0</td>\n",
       "    </tr>\n",
       "    <tr>\n",
       "      <th>3844</th>\n",
       "      <td>37.0</td>\n",
       "      <td>36.0</td>\n",
       "      <td>11630.0</td>\n",
       "      <td>43.0</td>\n",
       "      <td>4.0</td>\n",
       "      <td>14.0</td>\n",
       "      <td>1.0</td>\n",
       "      <td>8.0</td>\n",
       "      <td>7.0</td>\n",
       "      <td>1.0</td>\n",
       "      <td>...</td>\n",
       "      <td>0.194444</td>\n",
       "      <td>3.500000</td>\n",
       "      <td>1.037612</td>\n",
       "      <td>1.041694</td>\n",
       "      <td>0.506418</td>\n",
       "      <td>Very Far</td>\n",
       "      <td>30-40</td>\n",
       "      <td>Married_Female</td>\n",
       "      <td>Yes_3.0</td>\n",
       "      <td>36.0</td>\n",
       "    </tr>\n",
       "  </tbody>\n",
       "</table>\n",
       "<p>2 rows × 33 columns</p>\n",
       "</div>"
      ],
      "text/plain": [
       "       Age  YearsAtCompany  MonthlyIncome  DistanceFromHome  JobLevel  \\\n",
       "3610  24.0             5.0        16702.0              48.0       3.0   \n",
       "3844  37.0            36.0        11630.0              43.0       4.0   \n",
       "\n",
       "      PercentSalaryHike  PerformanceRating  YearsInCurrentRole  \\\n",
       "3610                4.0                1.0                 0.0   \n",
       "3844               14.0                1.0                 8.0   \n",
       "\n",
       "      YearsSinceLastPromotion  YearsWithCurrManager  ...  \\\n",
       "3610                      0.0                   0.0  ...   \n",
       "3844                      7.0                   1.0  ...   \n",
       "\n",
       "      PromotionToCompanyRatio SalaryHikeToJobLevel IncomeToDeptAvg  \\\n",
       "3610                 0.000000             1.333333        1.517910   \n",
       "3844                 0.194444             3.500000        1.037612   \n",
       "\n",
       "     IncomeToJobRoleAvg DeptOvertimeRatio DistanceGroup  AgeGroup  \\\n",
       "3610           1.536347          0.486797      Very Far  Under 30   \n",
       "3844           1.041694          0.506418      Very Far     30-40   \n",
       "\n",
       "     MaritalGenderInteraction  OvertimeJobSatisfactionInteraction  \\\n",
       "3610           Married_Female                              No_1.0   \n",
       "3844           Married_Female                             Yes_3.0   \n",
       "\n",
       "      YearsAtCompanyPerformanceInteraction  \n",
       "3610                                   5.0  \n",
       "3844                                  36.0  \n",
       "\n",
       "[2 rows x 33 columns]"
      ]
     },
     "execution_count": 18,
     "metadata": {},
     "output_type": "execute_result"
    }
   ],
   "source": [
    "X_train.head(2)"
   ]
  },
  {
   "cell_type": "code",
   "execution_count": 19,
   "metadata": {},
   "outputs": [
    {
     "data": {
      "text/plain": [
       "3610    0\n",
       "3844    0\n",
       "4235    1\n",
       "1671    0\n",
       "1187    0\n",
       "Name: target, dtype: int64"
      ]
     },
     "execution_count": 19,
     "metadata": {},
     "output_type": "execute_result"
    }
   ],
   "source": [
    "y_train.head()"
   ]
  },
  {
   "cell_type": "code",
   "execution_count": 80,
   "metadata": {},
   "outputs": [],
   "source": [
    "# src/model.py\n",
    "import mlflow\n",
    "import mlflow.sklearn\n",
    "from sklearn.pipeline import Pipeline\n",
    "from sklearn.model_selection import RandomizedSearchCV\n",
    "from sklearn.ensemble import RandomForestClassifier\n",
    "from xgboost import XGBClassifier\n",
    "import joblib\n",
    "import numpy as np\n",
    "from sklearn.metrics import classification_report, roc_auc_score, confusion_matrix\n",
    "import joblib\n",
    "import pandas as pd\n",
    "import mlflow\n",
    "# Define preprocessing pipeline\n",
    "from sklearn.pipeline import Pipeline\n",
    "from sklearn.impute import SimpleImputer\n",
    "\n"
   ]
  },
  {
   "cell_type": "code",
   "execution_count": 40,
   "metadata": {},
   "outputs": [],
   "source": [
    "\n",
    "from utils.train import create_preprocessing_pipeline\n",
    "\n",
    "\n",
    "def get_model_and_params(model_name, random_state=random_state_var):\n",
    "    if model_name == 'RandomForest':\n",
    "        model = RandomForestClassifier(random_state=random_state, class_weight='balanced')\n",
    "        param_distributions = {\n",
    "            'classifier__n_estimators': [100, 200, 300, 400, 500],\n",
    "            'classifier__max_depth': [None, 10, 20, 30, 40, 50],\n",
    "            'classifier__min_samples_split': [2, 5, 10],\n",
    "            'classifier__min_samples_leaf': [1, 2, 4],\n",
    "            'classifier__max_features': ['sqrt', 'log2']\n",
    "        }\n",
    "    elif model_name == 'XGBoost':\n",
    "        model = XGBClassifier(random_state=random_state, eval_metric='logloss')\n",
    "        param_distributions = {\n",
    "            'classifier__n_estimators': [100, 200, 300, 400, 500],\n",
    "            'classifier__max_depth': [3, 5, 7, 9, 11],\n",
    "            'classifier__learning_rate': [0.01, 0.05, 0.1, 0.2],\n",
    "            'classifier__subsample': [0.6, 0.8, 1.0],\n",
    "            'classifier__colsample_bytree': [0.6, 0.8, 1.0]\n",
    "        }\n",
    "    else:\n",
    "        raise ValueError(\"Unsupported model name\")\n",
    "    \n",
    "    return model, param_distributions\n",
    "\n",
    "\n",
    "def train_model(model_name, X_train, y_train, preprocessing_pipeline, param_distributions, cv=5, n_iter=50, random_state=random_state_var):\n",
    "    # Start an MLflow run for the specific model\n",
    "    with mlflow.start_run(run_name=model_name) as run:\n",
    "        mlflow.log_param(\"model\", model_name)\n",
    "        mlflow.log_param(\"cv\", cv)\n",
    "        mlflow.log_param(\"n_iter\", n_iter)\n",
    "        mlflow.log_param(\"random_state\", random_state)\n",
    "                \n",
    "        # Get the model and its parameter grid\n",
    "        classifier, param_distributions = get_model_and_params(model_name, random_state)\n",
    "\n",
    "        # Create a preprocessing pipeline\n",
    "        preprocessor = create_preprocessing_pipeline(X_train)\n",
    "\n",
    "        # Combine preprocessing and model into one pipeline\n",
    "        pipeline = Pipeline(steps=[\n",
    "            ('preprocessor', preprocessor),\n",
    "            ('classifier', classifier)\n",
    "        ])\n",
    "    \n",
    "        # Initialize RandomizedSearchCV\n",
    "        search = RandomizedSearchCV(\n",
    "            estimator=pipeline,\n",
    "            param_distributions=param_distributions,\n",
    "            n_iter=n_iter,\n",
    "            scoring='roc_auc',\n",
    "            cv=cv,\n",
    "            verbose=2,\n",
    "            random_state=random_state,\n",
    "            n_jobs=-1\n",
    "        )\n",
    "        \n",
    "        # Fit the model\n",
    "        search.fit(X_train, y_train)\n",
    "        \n",
    "        # Log the best parameters and score\n",
    "        mlflow.log_params(search.best_params_)\n",
    "        mlflow.log_metric(\"best_score\", search.best_score_)\n",
    "        \n",
    "        # Log the best model\n",
    "        mlflow.sklearn.log_model(search.best_estimator_, \"best_model\")\n",
    "        \n",
    "        return search\n",
    "    \n",
    "\n",
    "def evaluate_model(model, X, y, model_name=\"Model\", dataset_name=\"validation\"):\n",
    "    with mlflow.start_run(run_name=f\"Evaluation_{model_name}_{dataset_name}\", nested=True):\n",
    "        # Predictions\n",
    "        y_pred = model.predict(X)\n",
    "        y_proba = model.predict_proba(X)[:,1]\n",
    "        \n",
    "        # Evaluation Metrics\n",
    "        report = classification_report(y, y_pred, output_dict=True)\n",
    "        roc_auc = roc_auc_score(y, y_proba)\n",
    "        conf_matrix = confusion_matrix(y, y_pred)\n",
    "        \n",
    "        # Log metrics\n",
    "        mlflow.log_metric(\"roc_auc\", roc_auc)\n",
    "        mlflow.log_metrics({\n",
    "            \"precision\": report['1']['precision'],\n",
    "            \"recall\": report['1']['recall'],\n",
    "            \"f1_score\": report['1']['f1-score']\n",
    "        })\n",
    "        \n",
    "        # Log confusion matrix as an artifact\n",
    "        conf_matrix_df = pd.DataFrame(conf_matrix, index=['Actual 0', 'Actual 1'], columns=['Predicted 0', 'Predicted 1'])\n",
    "        conf_matrix_df.to_csv('confusion_matrix.csv')\n",
    "        mlflow.log_artifact('confusion_matrix.csv')\n",
    "        \n",
    "        # Save evaluation metrics\n",
    "        eval_metrics = {\n",
    "            'classification_report': report,\n",
    "            'roc_auc_score': roc_auc,\n",
    "            'confusion_matrix': conf_matrix.tolist()\n",
    "        }\n",
    "        return eval_metrics"
   ]
  },
  {
   "cell_type": "code",
   "execution_count": 45,
   "metadata": {},
   "outputs": [],
   "source": [
    "# Set the maximum number of rows to display\n",
    "pd.set_option('display.max_rows', 5)\n",
    "\n"
   ]
  },
  {
   "cell_type": "code",
   "execution_count": 44,
   "metadata": {},
   "outputs": [
    {
     "name": "stdout",
     "output_type": "stream",
     "text": [
      "Fitting 5 folds for each of 50 candidates, totalling 250 fits\n"
     ]
    },
    {
     "name": "stderr",
     "output_type": "stream",
     "text": [
      "/Users/ryanmccarlie/.pyenv/versions/3.11.6/envs/PwC-Attrition-model-3.11/lib/python3.11/site-packages/xgboost/core.py:158: UserWarning: [19:23:58] WARNING: /Users/runner/work/xgboost/xgboost/src/learner.cc:740: \n",
      "Parameters: { \"use_label_encoder\" } are not used.\n",
      "\n",
      "  warnings.warn(smsg, UserWarning)\n",
      "/Users/ryanmccarlie/.pyenv/versions/3.11.6/envs/PwC-Attrition-model-3.11/lib/python3.11/site-packages/xgboost/core.py:158: UserWarning: [19:23:58] WARNING: /Users/runner/work/xgboost/xgboost/src/learner.cc:740: \n",
      "Parameters: { \"use_label_encoder\" } are not used.\n",
      "\n",
      "  warnings.warn(smsg, UserWarning)\n",
      "/Users/ryanmccarlie/.pyenv/versions/3.11.6/envs/PwC-Attrition-model-3.11/lib/python3.11/site-packages/xgboost/core.py:158: UserWarning: [19:23:58] WARNING: /Users/runner/work/xgboost/xgboost/src/learner.cc:740: \n",
      "Parameters: { \"use_label_encoder\" } are not used.\n",
      "\n",
      "  warnings.warn(smsg, UserWarning)\n",
      "/Users/ryanmccarlie/.pyenv/versions/3.11.6/envs/PwC-Attrition-model-3.11/lib/python3.11/site-packages/xgboost/core.py:158: UserWarning: [19:23:58] WARNING: /Users/runner/work/xgboost/xgboost/src/learner.cc:740: \n",
      "Parameters: { \"use_label_encoder\" } are not used.\n",
      "\n",
      "  warnings.warn(smsg, UserWarning)\n",
      "/Users/ryanmccarlie/.pyenv/versions/3.11.6/envs/PwC-Attrition-model-3.11/lib/python3.11/site-packages/xgboost/core.py:158: UserWarning: [19:23:58] WARNING: /Users/runner/work/xgboost/xgboost/src/learner.cc:740: \n",
      "Parameters: { \"use_label_encoder\" } are not used.\n",
      "\n",
      "  warnings.warn(smsg, UserWarning)\n",
      "/Users/ryanmccarlie/.pyenv/versions/3.11.6/envs/PwC-Attrition-model-3.11/lib/python3.11/site-packages/xgboost/core.py:158: UserWarning: [19:23:58] WARNING: /Users/runner/work/xgboost/xgboost/src/learner.cc:740: \n",
      "Parameters: { \"use_label_encoder\" } are not used.\n",
      "\n",
      "  warnings.warn(smsg, UserWarning)\n",
      "/Users/ryanmccarlie/.pyenv/versions/3.11.6/envs/PwC-Attrition-model-3.11/lib/python3.11/site-packages/xgboost/core.py:158: UserWarning: [19:23:58] WARNING: /Users/runner/work/xgboost/xgboost/src/learner.cc:740: \n",
      "Parameters: { \"use_label_encoder\" } are not used.\n",
      "\n",
      "  warnings.warn(smsg, UserWarning)\n",
      "/Users/ryanmccarlie/.pyenv/versions/3.11.6/envs/PwC-Attrition-model-3.11/lib/python3.11/site-packages/xgboost/core.py:158: UserWarning: [19:23:58] WARNING: /Users/runner/work/xgboost/xgboost/src/learner.cc:740: \n",
      "Parameters: { \"use_label_encoder\" } are not used.\n",
      "\n",
      "  warnings.warn(smsg, UserWarning)\n"
     ]
    },
    {
     "name": "stdout",
     "output_type": "stream",
     "text": [
      "[CV] END classifier__colsample_bytree=1.0, classifier__learning_rate=0.2, classifier__max_depth=3, classifier__n_estimators=100, classifier__subsample=1.0; total time=   0.2s\n",
      "[CV] END classifier__colsample_bytree=1.0, classifier__learning_rate=0.2, classifier__max_depth=3, classifier__n_estimators=100, classifier__subsample=1.0; total time=   0.2s\n",
      "[CV] END classifier__colsample_bytree=1.0, classifier__learning_rate=0.2, classifier__max_depth=3, classifier__n_estimators=100, classifier__subsample=1.0; total time=   0.2s\n",
      "[CV] END classifier__colsample_bytree=1.0, classifier__learning_rate=0.2, classifier__max_depth=3, classifier__n_estimators=100, classifier__subsample=1.0; total time=   0.1s\n"
     ]
    },
    {
     "name": "stderr",
     "output_type": "stream",
     "text": [
      "/Users/ryanmccarlie/.pyenv/versions/3.11.6/envs/PwC-Attrition-model-3.11/lib/python3.11/site-packages/xgboost/core.py:158: UserWarning: [19:23:59] WARNING: /Users/runner/work/xgboost/xgboost/src/learner.cc:740: \n",
      "Parameters: { \"use_label_encoder\" } are not used.\n",
      "\n",
      "  warnings.warn(smsg, UserWarning)\n",
      "/Users/ryanmccarlie/.pyenv/versions/3.11.6/envs/PwC-Attrition-model-3.11/lib/python3.11/site-packages/xgboost/core.py:158: UserWarning: [19:23:59] WARNING: /Users/runner/work/xgboost/xgboost/src/learner.cc:740: \n",
      "Parameters: { \"use_label_encoder\" } are not used.\n",
      "\n",
      "  warnings.warn(smsg, UserWarning)\n",
      "/Users/ryanmccarlie/.pyenv/versions/3.11.6/envs/PwC-Attrition-model-3.11/lib/python3.11/site-packages/xgboost/core.py:158: UserWarning: [19:23:59] WARNING: /Users/runner/work/xgboost/xgboost/src/learner.cc:740: \n",
      "Parameters: { \"use_label_encoder\" } are not used.\n",
      "\n",
      "  warnings.warn(smsg, UserWarning)\n",
      "/Users/ryanmccarlie/.pyenv/versions/3.11.6/envs/PwC-Attrition-model-3.11/lib/python3.11/site-packages/xgboost/core.py:158: UserWarning: [19:23:59] WARNING: /Users/runner/work/xgboost/xgboost/src/learner.cc:740: \n",
      "Parameters: { \"use_label_encoder\" } are not used.\n",
      "\n",
      "  warnings.warn(smsg, UserWarning)\n",
      "/Users/ryanmccarlie/.pyenv/versions/3.11.6/envs/PwC-Attrition-model-3.11/lib/python3.11/site-packages/xgboost/core.py:158: UserWarning: [19:23:59] WARNING: /Users/runner/work/xgboost/xgboost/src/learner.cc:740: \n",
      "Parameters: { \"use_label_encoder\" } are not used.\n",
      "\n",
      "  warnings.warn(smsg, UserWarning)\n"
     ]
    },
    {
     "name": "stdout",
     "output_type": "stream",
     "text": [
      "[CV] END classifier__colsample_bytree=1.0, classifier__learning_rate=0.2, classifier__max_depth=3, classifier__n_estimators=100, classifier__subsample=1.0; total time=   0.2s\n",
      "[CV] END classifier__colsample_bytree=0.6, classifier__learning_rate=0.2, classifier__max_depth=3, classifier__n_estimators=300, classifier__subsample=0.6; total time=   0.4s\n",
      "[CV] END classifier__colsample_bytree=0.6, classifier__learning_rate=0.2, classifier__max_depth=3, classifier__n_estimators=300, classifier__subsample=0.6; total time=   0.3s\n",
      "[CV] END classifier__colsample_bytree=0.6, classifier__learning_rate=0.2, classifier__max_depth=3, classifier__n_estimators=300, classifier__subsample=0.6; total time=   0.3s\n"
     ]
    },
    {
     "name": "stderr",
     "output_type": "stream",
     "text": [
      "/Users/ryanmccarlie/.pyenv/versions/3.11.6/envs/PwC-Attrition-model-3.11/lib/python3.11/site-packages/xgboost/core.py:158: UserWarning: [19:23:59] WARNING: /Users/runner/work/xgboost/xgboost/src/learner.cc:740: \n",
      "Parameters: { \"use_label_encoder\" } are not used.\n",
      "\n",
      "  warnings.warn(smsg, UserWarning)\n",
      "/Users/ryanmccarlie/.pyenv/versions/3.11.6/envs/PwC-Attrition-model-3.11/lib/python3.11/site-packages/xgboost/core.py:158: UserWarning: [19:23:59] WARNING: /Users/runner/work/xgboost/xgboost/src/learner.cc:740: \n",
      "Parameters: { \"use_label_encoder\" } are not used.\n",
      "\n",
      "  warnings.warn(smsg, UserWarning)\n",
      "/Users/ryanmccarlie/.pyenv/versions/3.11.6/envs/PwC-Attrition-model-3.11/lib/python3.11/site-packages/xgboost/core.py:158: UserWarning: [19:23:59] WARNING: /Users/runner/work/xgboost/xgboost/src/learner.cc:740: \n",
      "Parameters: { \"use_label_encoder\" } are not used.\n",
      "\n",
      "  warnings.warn(smsg, UserWarning)\n"
     ]
    },
    {
     "name": "stdout",
     "output_type": "stream",
     "text": [
      "[CV] END classifier__colsample_bytree=0.6, classifier__learning_rate=0.2, classifier__max_depth=3, classifier__n_estimators=300, classifier__subsample=0.6; total time=   0.2s\n",
      "[CV] END classifier__colsample_bytree=0.6, classifier__learning_rate=0.2, classifier__max_depth=3, classifier__n_estimators=300, classifier__subsample=0.6; total time=   0.2s\n"
     ]
    },
    {
     "name": "stderr",
     "output_type": "stream",
     "text": [
      "/Users/ryanmccarlie/.pyenv/versions/3.11.6/envs/PwC-Attrition-model-3.11/lib/python3.11/site-packages/xgboost/core.py:158: UserWarning: [19:23:59] WARNING: /Users/runner/work/xgboost/xgboost/src/learner.cc:740: \n",
      "Parameters: { \"use_label_encoder\" } are not used.\n",
      "\n",
      "  warnings.warn(smsg, UserWarning)\n",
      "/Users/ryanmccarlie/.pyenv/versions/3.11.6/envs/PwC-Attrition-model-3.11/lib/python3.11/site-packages/xgboost/core.py:158: UserWarning: [19:23:59] WARNING: /Users/runner/work/xgboost/xgboost/src/learner.cc:740: \n",
      "Parameters: { \"use_label_encoder\" } are not used.\n",
      "\n",
      "  warnings.warn(smsg, UserWarning)\n"
     ]
    },
    {
     "name": "stdout",
     "output_type": "stream",
     "text": [
      "[CV] END classifier__colsample_bytree=0.8, classifier__learning_rate=0.2, classifier__max_depth=11, classifier__n_estimators=200, classifier__subsample=0.6; total time=   0.6s\n",
      "[CV] END classifier__colsample_bytree=0.8, classifier__learning_rate=0.2, classifier__max_depth=11, classifier__n_estimators=200, classifier__subsample=0.6; total time=   0.5s\n"
     ]
    },
    {
     "name": "stderr",
     "output_type": "stream",
     "text": [
      "/Users/ryanmccarlie/.pyenv/versions/3.11.6/envs/PwC-Attrition-model-3.11/lib/python3.11/site-packages/xgboost/core.py:158: UserWarning: [19:24:00] WARNING: /Users/runner/work/xgboost/xgboost/src/learner.cc:740: \n",
      "Parameters: { \"use_label_encoder\" } are not used.\n",
      "\n",
      "  warnings.warn(smsg, UserWarning)\n",
      "/Users/ryanmccarlie/.pyenv/versions/3.11.6/envs/PwC-Attrition-model-3.11/lib/python3.11/site-packages/xgboost/core.py:158: UserWarning: [19:24:00] WARNING: /Users/runner/work/xgboost/xgboost/src/learner.cc:740: \n",
      "Parameters: { \"use_label_encoder\" } are not used.\n",
      "\n",
      "  warnings.warn(smsg, UserWarning)\n"
     ]
    },
    {
     "name": "stdout",
     "output_type": "stream",
     "text": [
      "[CV] END classifier__colsample_bytree=0.8, classifier__learning_rate=0.2, classifier__max_depth=11, classifier__n_estimators=200, classifier__subsample=0.6; total time=   0.6s\n"
     ]
    },
    {
     "name": "stderr",
     "output_type": "stream",
     "text": [
      "/Users/ryanmccarlie/.pyenv/versions/3.11.6/envs/PwC-Attrition-model-3.11/lib/python3.11/site-packages/xgboost/core.py:158: UserWarning: [19:24:00] WARNING: /Users/runner/work/xgboost/xgboost/src/learner.cc:740: \n",
      "Parameters: { \"use_label_encoder\" } are not used.\n",
      "\n",
      "  warnings.warn(smsg, UserWarning)\n"
     ]
    },
    {
     "name": "stdout",
     "output_type": "stream",
     "text": [
      "[CV] END classifier__colsample_bytree=0.6, classifier__learning_rate=0.01, classifier__max_depth=11, classifier__n_estimators=400, classifier__subsample=0.8; total time=   2.0s\n",
      "[CV] END classifier__colsample_bytree=0.6, classifier__learning_rate=0.01, classifier__max_depth=11, classifier__n_estimators=400, classifier__subsample=0.8; total time=   2.0s\n",
      "[CV] END classifier__colsample_bytree=0.6, classifier__learning_rate=0.01, classifier__max_depth=11, classifier__n_estimators=400, classifier__subsample=0.8; total time=   2.1s\n",
      "[CV] END classifier__colsample_bytree=0.6, classifier__learning_rate=0.01, classifier__max_depth=11, classifier__n_estimators=400, classifier__subsample=0.8; total time=   2.2s\n",
      "[CV] END classifier__colsample_bytree=0.8, classifier__learning_rate=0.2, classifier__max_depth=11, classifier__n_estimators=200, classifier__subsample=0.6; total time=   0.7s\n",
      "[CV] END classifier__colsample_bytree=0.6, classifier__learning_rate=0.01, classifier__max_depth=11, classifier__n_estimators=400, classifier__subsample=0.8; total time=   2.1s\n"
     ]
    },
    {
     "name": "stderr",
     "output_type": "stream",
     "text": [
      "/Users/ryanmccarlie/.pyenv/versions/3.11.6/envs/PwC-Attrition-model-3.11/lib/python3.11/site-packages/xgboost/core.py:158: UserWarning: [19:24:00] WARNING: /Users/runner/work/xgboost/xgboost/src/learner.cc:740: \n",
      "Parameters: { \"use_label_encoder\" } are not used.\n",
      "\n",
      "  warnings.warn(smsg, UserWarning)\n",
      "/Users/ryanmccarlie/.pyenv/versions/3.11.6/envs/PwC-Attrition-model-3.11/lib/python3.11/site-packages/xgboost/core.py:158: UserWarning: [19:24:00] WARNING: /Users/runner/work/xgboost/xgboost/src/learner.cc:740: \n",
      "Parameters: { \"use_label_encoder\" } are not used.\n",
      "\n",
      "  warnings.warn(smsg, UserWarning)\n",
      "/Users/ryanmccarlie/.pyenv/versions/3.11.6/envs/PwC-Attrition-model-3.11/lib/python3.11/site-packages/xgboost/core.py:158: UserWarning: [19:24:00] WARNING: /Users/runner/work/xgboost/xgboost/src/learner.cc:740: \n",
      "Parameters: { \"use_label_encoder\" } are not used.\n",
      "\n",
      "  warnings.warn(smsg, UserWarning)\n",
      "/Users/ryanmccarlie/.pyenv/versions/3.11.6/envs/PwC-Attrition-model-3.11/lib/python3.11/site-packages/xgboost/core.py:158: UserWarning: [19:24:00] WARNING: /Users/runner/work/xgboost/xgboost/src/learner.cc:740: \n",
      "Parameters: { \"use_label_encoder\" } are not used.\n",
      "\n",
      "  warnings.warn(smsg, UserWarning)\n",
      "/Users/ryanmccarlie/.pyenv/versions/3.11.6/envs/PwC-Attrition-model-3.11/lib/python3.11/site-packages/xgboost/core.py:158: UserWarning: [19:24:00] WARNING: /Users/runner/work/xgboost/xgboost/src/learner.cc:740: \n",
      "Parameters: { \"use_label_encoder\" } are not used.\n",
      "\n",
      "  warnings.warn(smsg, UserWarning)\n",
      "/Users/ryanmccarlie/.pyenv/versions/3.11.6/envs/PwC-Attrition-model-3.11/lib/python3.11/site-packages/xgboost/core.py:158: UserWarning: [19:24:00] WARNING: /Users/runner/work/xgboost/xgboost/src/learner.cc:740: \n",
      "Parameters: { \"use_label_encoder\" } are not used.\n",
      "\n",
      "  warnings.warn(smsg, UserWarning)\n"
     ]
    },
    {
     "name": "stdout",
     "output_type": "stream",
     "text": [
      "[CV] END classifier__colsample_bytree=0.8, classifier__learning_rate=0.2, classifier__max_depth=11, classifier__n_estimators=200, classifier__subsample=0.6; total time=   0.7s\n"
     ]
    },
    {
     "name": "stderr",
     "output_type": "stream",
     "text": [
      "/Users/ryanmccarlie/.pyenv/versions/3.11.6/envs/PwC-Attrition-model-3.11/lib/python3.11/site-packages/xgboost/core.py:158: UserWarning: [19:24:00] WARNING: /Users/runner/work/xgboost/xgboost/src/learner.cc:740: \n",
      "Parameters: { \"use_label_encoder\" } are not used.\n",
      "\n",
      "  warnings.warn(smsg, UserWarning)\n"
     ]
    },
    {
     "name": "stdout",
     "output_type": "stream",
     "text": [
      "[CV] END classifier__colsample_bytree=0.6, classifier__learning_rate=0.01, classifier__max_depth=7, classifier__n_estimators=400, classifier__subsample=0.6; total time=   0.9s\n"
     ]
    },
    {
     "name": "stderr",
     "output_type": "stream",
     "text": [
      "/Users/ryanmccarlie/.pyenv/versions/3.11.6/envs/PwC-Attrition-model-3.11/lib/python3.11/site-packages/xgboost/core.py:158: UserWarning: [19:24:01] WARNING: /Users/runner/work/xgboost/xgboost/src/learner.cc:740: \n",
      "Parameters: { \"use_label_encoder\" } are not used.\n",
      "\n",
      "  warnings.warn(smsg, UserWarning)\n"
     ]
    },
    {
     "name": "stdout",
     "output_type": "stream",
     "text": [
      "[CV] END classifier__colsample_bytree=0.6, classifier__learning_rate=0.01, classifier__max_depth=7, classifier__n_estimators=400, classifier__subsample=0.6; total time=   0.9s\n",
      "[CV] END classifier__colsample_bytree=0.6, classifier__learning_rate=0.01, classifier__max_depth=7, classifier__n_estimators=400, classifier__subsample=0.6; total time=   1.0s\n",
      "[CV] END classifier__colsample_bytree=0.6, classifier__learning_rate=0.01, classifier__max_depth=7, classifier__n_estimators=400, classifier__subsample=0.6; total time=   0.9s\n",
      "[CV] END classifier__colsample_bytree=0.6, classifier__learning_rate=0.01, classifier__max_depth=7, classifier__n_estimators=400, classifier__subsample=0.6; total time=   0.9s\n"
     ]
    },
    {
     "name": "stderr",
     "output_type": "stream",
     "text": [
      "/Users/ryanmccarlie/.pyenv/versions/3.11.6/envs/PwC-Attrition-model-3.11/lib/python3.11/site-packages/xgboost/core.py:158: UserWarning: [19:24:01] WARNING: /Users/runner/work/xgboost/xgboost/src/learner.cc:740: \n",
      "Parameters: { \"use_label_encoder\" } are not used.\n",
      "\n",
      "  warnings.warn(smsg, UserWarning)\n",
      "/Users/ryanmccarlie/.pyenv/versions/3.11.6/envs/PwC-Attrition-model-3.11/lib/python3.11/site-packages/xgboost/core.py:158: UserWarning: [19:24:01] WARNING: /Users/runner/work/xgboost/xgboost/src/learner.cc:740: \n",
      "Parameters: { \"use_label_encoder\" } are not used.\n",
      "\n",
      "  warnings.warn(smsg, UserWarning)\n",
      "/Users/ryanmccarlie/.pyenv/versions/3.11.6/envs/PwC-Attrition-model-3.11/lib/python3.11/site-packages/xgboost/core.py:158: UserWarning: [19:24:01] WARNING: /Users/runner/work/xgboost/xgboost/src/learner.cc:740: \n",
      "Parameters: { \"use_label_encoder\" } are not used.\n",
      "\n",
      "  warnings.warn(smsg, UserWarning)\n",
      "/Users/ryanmccarlie/.pyenv/versions/3.11.6/envs/PwC-Attrition-model-3.11/lib/python3.11/site-packages/xgboost/core.py:158: UserWarning: [19:24:01] WARNING: /Users/runner/work/xgboost/xgboost/src/learner.cc:740: \n",
      "Parameters: { \"use_label_encoder\" } are not used.\n",
      "\n",
      "  warnings.warn(smsg, UserWarning)\n"
     ]
    },
    {
     "name": "stdout",
     "output_type": "stream",
     "text": [
      "[CV] END classifier__colsample_bytree=1.0, classifier__learning_rate=0.05, classifier__max_depth=9, classifier__n_estimators=400, classifier__subsample=1.0; total time=   1.3s\n",
      "[CV] END classifier__colsample_bytree=1.0, classifier__learning_rate=0.05, classifier__max_depth=9, classifier__n_estimators=400, classifier__subsample=1.0; total time=   1.3s\n",
      "[CV] END classifier__colsample_bytree=1.0, classifier__learning_rate=0.05, classifier__max_depth=9, classifier__n_estimators=400, classifier__subsample=1.0; total time=   1.2s\n"
     ]
    },
    {
     "name": "stderr",
     "output_type": "stream",
     "text": [
      "/Users/ryanmccarlie/.pyenv/versions/3.11.6/envs/PwC-Attrition-model-3.11/lib/python3.11/site-packages/xgboost/core.py:158: UserWarning: [19:24:02] WARNING: /Users/runner/work/xgboost/xgboost/src/learner.cc:740: \n",
      "Parameters: { \"use_label_encoder\" } are not used.\n",
      "\n",
      "  warnings.warn(smsg, UserWarning)\n",
      "/Users/ryanmccarlie/.pyenv/versions/3.11.6/envs/PwC-Attrition-model-3.11/lib/python3.11/site-packages/xgboost/core.py:158: UserWarning: [19:24:02] WARNING: /Users/runner/work/xgboost/xgboost/src/learner.cc:740: \n",
      "Parameters: { \"use_label_encoder\" } are not used.\n",
      "\n",
      "  warnings.warn(smsg, UserWarning)\n",
      "/Users/ryanmccarlie/.pyenv/versions/3.11.6/envs/PwC-Attrition-model-3.11/lib/python3.11/site-packages/xgboost/core.py:158: UserWarning: [19:24:02] WARNING: /Users/runner/work/xgboost/xgboost/src/learner.cc:740: \n",
      "Parameters: { \"use_label_encoder\" } are not used.\n",
      "\n",
      "  warnings.warn(smsg, UserWarning)\n"
     ]
    },
    {
     "name": "stdout",
     "output_type": "stream",
     "text": [
      "[CV] END classifier__colsample_bytree=0.6, classifier__learning_rate=0.2, classifier__max_depth=11, classifier__n_estimators=500, classifier__subsample=1.0; total time=   0.8s\n",
      "[CV] END classifier__colsample_bytree=0.6, classifier__learning_rate=0.2, classifier__max_depth=11, classifier__n_estimators=500, classifier__subsample=1.0; total time=   0.9s\n",
      "[CV] END classifier__colsample_bytree=0.6, classifier__learning_rate=0.2, classifier__max_depth=11, classifier__n_estimators=500, classifier__subsample=1.0; total time=   0.9s\n",
      "[CV] END classifier__colsample_bytree=0.6, classifier__learning_rate=0.05, classifier__max_depth=7, classifier__n_estimators=200, classifier__subsample=1.0; total time=   0.4s\n",
      "[CV] END classifier__colsample_bytree=1.0, classifier__learning_rate=0.05, classifier__max_depth=9, classifier__n_estimators=400, classifier__subsample=1.0; total time=   1.3s\n"
     ]
    },
    {
     "name": "stderr",
     "output_type": "stream",
     "text": [
      "/Users/ryanmccarlie/.pyenv/versions/3.11.6/envs/PwC-Attrition-model-3.11/lib/python3.11/site-packages/xgboost/core.py:158: UserWarning: [19:24:02] WARNING: /Users/runner/work/xgboost/xgboost/src/learner.cc:740: \n",
      "Parameters: { \"use_label_encoder\" } are not used.\n",
      "\n",
      "  warnings.warn(smsg, UserWarning)\n",
      "/Users/ryanmccarlie/.pyenv/versions/3.11.6/envs/PwC-Attrition-model-3.11/lib/python3.11/site-packages/xgboost/core.py:158: UserWarning: [19:24:02] WARNING: /Users/runner/work/xgboost/xgboost/src/learner.cc:740: \n",
      "Parameters: { \"use_label_encoder\" } are not used.\n",
      "\n",
      "  warnings.warn(smsg, UserWarning)\n",
      "/Users/ryanmccarlie/.pyenv/versions/3.11.6/envs/PwC-Attrition-model-3.11/lib/python3.11/site-packages/xgboost/core.py:158: UserWarning: [19:24:02] WARNING: /Users/runner/work/xgboost/xgboost/src/learner.cc:740: \n",
      "Parameters: { \"use_label_encoder\" } are not used.\n",
      "\n",
      "  warnings.warn(smsg, UserWarning)\n",
      "/Users/ryanmccarlie/.pyenv/versions/3.11.6/envs/PwC-Attrition-model-3.11/lib/python3.11/site-packages/xgboost/core.py:158: UserWarning: [19:24:02] WARNING: /Users/runner/work/xgboost/xgboost/src/learner.cc:740: \n",
      "Parameters: { \"use_label_encoder\" } are not used.\n",
      "\n",
      "  warnings.warn(smsg, UserWarning)\n",
      "/Users/ryanmccarlie/.pyenv/versions/3.11.6/envs/PwC-Attrition-model-3.11/lib/python3.11/site-packages/xgboost/core.py:158: UserWarning: [19:24:02] WARNING: /Users/runner/work/xgboost/xgboost/src/learner.cc:740: \n",
      "Parameters: { \"use_label_encoder\" } are not used.\n",
      "\n",
      "  warnings.warn(smsg, UserWarning)\n"
     ]
    },
    {
     "name": "stdout",
     "output_type": "stream",
     "text": [
      "[CV] END classifier__colsample_bytree=1.0, classifier__learning_rate=0.05, classifier__max_depth=9, classifier__n_estimators=400, classifier__subsample=1.0; total time=   1.3s\n",
      "[CV] END classifier__colsample_bytree=0.6, classifier__learning_rate=0.05, classifier__max_depth=7, classifier__n_estimators=200, classifier__subsample=1.0; total time=   0.4s\n",
      "[CV] END classifier__colsample_bytree=0.6, classifier__learning_rate=0.05, classifier__max_depth=7, classifier__n_estimators=200, classifier__subsample=1.0; total time=   0.4s\n",
      "[CV] END classifier__colsample_bytree=0.6, classifier__learning_rate=0.05, classifier__max_depth=7, classifier__n_estimators=200, classifier__subsample=1.0; total time=   0.4s\n",
      "[CV] END classifier__colsample_bytree=0.6, classifier__learning_rate=0.2, classifier__max_depth=11, classifier__n_estimators=500, classifier__subsample=1.0; total time=   0.9s\n",
      "[CV] END classifier__colsample_bytree=0.6, classifier__learning_rate=0.05, classifier__max_depth=7, classifier__n_estimators=200, classifier__subsample=1.0; total time=   0.5s\n",
      "[CV] END classifier__colsample_bytree=0.6, classifier__learning_rate=0.2, classifier__max_depth=11, classifier__n_estimators=500, classifier__subsample=1.0; total time=   0.9s\n"
     ]
    },
    {
     "name": "stderr",
     "output_type": "stream",
     "text": [
      "/Users/ryanmccarlie/.pyenv/versions/3.11.6/envs/PwC-Attrition-model-3.11/lib/python3.11/site-packages/xgboost/core.py:158: UserWarning: [19:24:02] WARNING: /Users/runner/work/xgboost/xgboost/src/learner.cc:740: \n",
      "Parameters: { \"use_label_encoder\" } are not used.\n",
      "\n",
      "  warnings.warn(smsg, UserWarning)\n",
      "/Users/ryanmccarlie/.pyenv/versions/3.11.6/envs/PwC-Attrition-model-3.11/lib/python3.11/site-packages/xgboost/core.py:158: UserWarning: [19:24:02] WARNING: /Users/runner/work/xgboost/xgboost/src/learner.cc:740: \n",
      "Parameters: { \"use_label_encoder\" } are not used.\n",
      "\n",
      "  warnings.warn(smsg, UserWarning)\n",
      "/Users/ryanmccarlie/.pyenv/versions/3.11.6/envs/PwC-Attrition-model-3.11/lib/python3.11/site-packages/xgboost/core.py:158: UserWarning: [19:24:02] WARNING: /Users/runner/work/xgboost/xgboost/src/learner.cc:740: \n",
      "Parameters: { \"use_label_encoder\" } are not used.\n",
      "\n",
      "  warnings.warn(smsg, UserWarning)\n",
      "/Users/ryanmccarlie/.pyenv/versions/3.11.6/envs/PwC-Attrition-model-3.11/lib/python3.11/site-packages/xgboost/core.py:158: UserWarning: [19:24:03] WARNING: /Users/runner/work/xgboost/xgboost/src/learner.cc:740: \n",
      "Parameters: { \"use_label_encoder\" } are not used.\n",
      "\n",
      "  warnings.warn(smsg, UserWarning)\n",
      "/Users/ryanmccarlie/.pyenv/versions/3.11.6/envs/PwC-Attrition-model-3.11/lib/python3.11/site-packages/xgboost/core.py:158: UserWarning: [19:24:03] WARNING: /Users/runner/work/xgboost/xgboost/src/learner.cc:740: \n",
      "Parameters: { \"use_label_encoder\" } are not used.\n",
      "\n",
      "  warnings.warn(smsg, UserWarning)\n",
      "/Users/ryanmccarlie/.pyenv/versions/3.11.6/envs/PwC-Attrition-model-3.11/lib/python3.11/site-packages/xgboost/core.py:158: UserWarning: [19:24:03] WARNING: /Users/runner/work/xgboost/xgboost/src/learner.cc:740: \n",
      "Parameters: { \"use_label_encoder\" } are not used.\n",
      "\n",
      "  warnings.warn(smsg, UserWarning)\n",
      "/Users/ryanmccarlie/.pyenv/versions/3.11.6/envs/PwC-Attrition-model-3.11/lib/python3.11/site-packages/xgboost/core.py:158: UserWarning: [19:24:03] WARNING: /Users/runner/work/xgboost/xgboost/src/learner.cc:740: \n",
      "Parameters: { \"use_label_encoder\" } are not used.\n",
      "\n",
      "  warnings.warn(smsg, UserWarning)\n"
     ]
    },
    {
     "name": "stdout",
     "output_type": "stream",
     "text": [
      "[CV] END classifier__colsample_bytree=0.6, classifier__learning_rate=0.05, classifier__max_depth=3, classifier__n_estimators=400, classifier__subsample=1.0; total time=   0.3s\n",
      "[CV] END classifier__colsample_bytree=0.6, classifier__learning_rate=0.05, classifier__max_depth=3, classifier__n_estimators=400, classifier__subsample=1.0; total time=   0.4s\n",
      "[CV] END classifier__colsample_bytree=0.6, classifier__learning_rate=0.05, classifier__max_depth=3, classifier__n_estimators=400, classifier__subsample=1.0; total time=   0.3s\n"
     ]
    },
    {
     "name": "stderr",
     "output_type": "stream",
     "text": [
      "/Users/ryanmccarlie/.pyenv/versions/3.11.6/envs/PwC-Attrition-model-3.11/lib/python3.11/site-packages/xgboost/core.py:158: UserWarning: [19:24:03] WARNING: /Users/runner/work/xgboost/xgboost/src/learner.cc:740: \n",
      "Parameters: { \"use_label_encoder\" } are not used.\n",
      "\n",
      "  warnings.warn(smsg, UserWarning)\n",
      "/Users/ryanmccarlie/.pyenv/versions/3.11.6/envs/PwC-Attrition-model-3.11/lib/python3.11/site-packages/xgboost/core.py:158: UserWarning: [19:24:03] WARNING: /Users/runner/work/xgboost/xgboost/src/learner.cc:740: \n",
      "Parameters: { \"use_label_encoder\" } are not used.\n",
      "\n",
      "  warnings.warn(smsg, UserWarning)\n",
      "/Users/ryanmccarlie/.pyenv/versions/3.11.6/envs/PwC-Attrition-model-3.11/lib/python3.11/site-packages/xgboost/core.py:158: UserWarning: [19:24:03] WARNING: /Users/runner/work/xgboost/xgboost/src/learner.cc:740: \n",
      "Parameters: { \"use_label_encoder\" } are not used.\n",
      "\n",
      "  warnings.warn(smsg, UserWarning)\n"
     ]
    },
    {
     "name": "stdout",
     "output_type": "stream",
     "text": [
      "[CV] END classifier__colsample_bytree=0.6, classifier__learning_rate=0.05, classifier__max_depth=3, classifier__n_estimators=400, classifier__subsample=1.0; total time=   0.4s\n",
      "[CV] END classifier__colsample_bytree=0.6, classifier__learning_rate=0.05, classifier__max_depth=3, classifier__n_estimators=400, classifier__subsample=1.0; total time=   0.4s\n"
     ]
    },
    {
     "name": "stderr",
     "output_type": "stream",
     "text": [
      "/Users/ryanmccarlie/.pyenv/versions/3.11.6/envs/PwC-Attrition-model-3.11/lib/python3.11/site-packages/xgboost/core.py:158: UserWarning: [19:24:03] WARNING: /Users/runner/work/xgboost/xgboost/src/learner.cc:740: \n",
      "Parameters: { \"use_label_encoder\" } are not used.\n",
      "\n",
      "  warnings.warn(smsg, UserWarning)\n",
      "/Users/ryanmccarlie/.pyenv/versions/3.11.6/envs/PwC-Attrition-model-3.11/lib/python3.11/site-packages/xgboost/core.py:158: UserWarning: [19:24:03] WARNING: /Users/runner/work/xgboost/xgboost/src/learner.cc:740: \n",
      "Parameters: { \"use_label_encoder\" } are not used.\n",
      "\n",
      "  warnings.warn(smsg, UserWarning)\n"
     ]
    },
    {
     "name": "stdout",
     "output_type": "stream",
     "text": [
      "[CV] END classifier__colsample_bytree=0.6, classifier__learning_rate=0.05, classifier__max_depth=11, classifier__n_estimators=200, classifier__subsample=0.8; total time=   1.0s\n",
      "[CV] END classifier__colsample_bytree=0.6, classifier__learning_rate=0.05, classifier__max_depth=11, classifier__n_estimators=200, classifier__subsample=0.8; total time=   0.8s\n"
     ]
    },
    {
     "name": "stderr",
     "output_type": "stream",
     "text": [
      "/Users/ryanmccarlie/.pyenv/versions/3.11.6/envs/PwC-Attrition-model-3.11/lib/python3.11/site-packages/xgboost/core.py:158: UserWarning: [19:24:04] WARNING: /Users/runner/work/xgboost/xgboost/src/learner.cc:740: \n",
      "Parameters: { \"use_label_encoder\" } are not used.\n",
      "\n",
      "  warnings.warn(smsg, UserWarning)\n",
      "/Users/ryanmccarlie/.pyenv/versions/3.11.6/envs/PwC-Attrition-model-3.11/lib/python3.11/site-packages/xgboost/core.py:158: UserWarning: [19:24:04] WARNING: /Users/runner/work/xgboost/xgboost/src/learner.cc:740: \n",
      "Parameters: { \"use_label_encoder\" } are not used.\n",
      "\n",
      "  warnings.warn(smsg, UserWarning)\n"
     ]
    },
    {
     "name": "stdout",
     "output_type": "stream",
     "text": [
      "[CV] END classifier__colsample_bytree=0.6, classifier__learning_rate=0.01, classifier__max_depth=11, classifier__n_estimators=500, classifier__subsample=0.6; total time=   2.1s\n",
      "[CV] END classifier__colsample_bytree=0.6, classifier__learning_rate=0.05, classifier__max_depth=11, classifier__n_estimators=200, classifier__subsample=0.8; total time=   0.9s\n"
     ]
    },
    {
     "name": "stderr",
     "output_type": "stream",
     "text": [
      "/Users/ryanmccarlie/.pyenv/versions/3.11.6/envs/PwC-Attrition-model-3.11/lib/python3.11/site-packages/xgboost/core.py:158: UserWarning: [19:24:04] WARNING: /Users/runner/work/xgboost/xgboost/src/learner.cc:740: \n",
      "Parameters: { \"use_label_encoder\" } are not used.\n",
      "\n",
      "  warnings.warn(smsg, UserWarning)\n",
      "/Users/ryanmccarlie/.pyenv/versions/3.11.6/envs/PwC-Attrition-model-3.11/lib/python3.11/site-packages/xgboost/core.py:158: UserWarning: [19:24:04] WARNING: /Users/runner/work/xgboost/xgboost/src/learner.cc:740: \n",
      "Parameters: { \"use_label_encoder\" } are not used.\n",
      "\n",
      "  warnings.warn(smsg, UserWarning)\n"
     ]
    },
    {
     "name": "stdout",
     "output_type": "stream",
     "text": [
      "[CV] END classifier__colsample_bytree=0.8, classifier__learning_rate=0.2, classifier__max_depth=3, classifier__n_estimators=300, classifier__subsample=1.0; total time=   0.2s\n",
      "[CV] END classifier__colsample_bytree=0.6, classifier__learning_rate=0.01, classifier__max_depth=11, classifier__n_estimators=500, classifier__subsample=0.6; total time=   2.1s\n",
      "[CV] END classifier__colsample_bytree=0.8, classifier__learning_rate=0.2, classifier__max_depth=3, classifier__n_estimators=300, classifier__subsample=1.0; total time=   0.3s\n",
      "[CV] END classifier__colsample_bytree=0.6, classifier__learning_rate=0.01, classifier__max_depth=11, classifier__n_estimators=500, classifier__subsample=0.6; total time=   2.1s\n",
      "[CV] END classifier__colsample_bytree=0.6, classifier__learning_rate=0.01, classifier__max_depth=11, classifier__n_estimators=500, classifier__subsample=0.6; total time=   2.1s\n"
     ]
    },
    {
     "name": "stderr",
     "output_type": "stream",
     "text": [
      "/Users/ryanmccarlie/.pyenv/versions/3.11.6/envs/PwC-Attrition-model-3.11/lib/python3.11/site-packages/xgboost/core.py:158: UserWarning: [19:24:04] WARNING: /Users/runner/work/xgboost/xgboost/src/learner.cc:740: \n",
      "Parameters: { \"use_label_encoder\" } are not used.\n",
      "\n",
      "  warnings.warn(smsg, UserWarning)\n",
      "/Users/ryanmccarlie/.pyenv/versions/3.11.6/envs/PwC-Attrition-model-3.11/lib/python3.11/site-packages/xgboost/core.py:158: UserWarning: [19:24:05] WARNING: /Users/runner/work/xgboost/xgboost/src/learner.cc:740: \n",
      "Parameters: { \"use_label_encoder\" } are not used.\n",
      "\n",
      "  warnings.warn(smsg, UserWarning)\n",
      "/Users/ryanmccarlie/.pyenv/versions/3.11.6/envs/PwC-Attrition-model-3.11/lib/python3.11/site-packages/xgboost/core.py:158: UserWarning: [19:24:05] WARNING: /Users/runner/work/xgboost/xgboost/src/learner.cc:740: \n",
      "Parameters: { \"use_label_encoder\" } are not used.\n",
      "\n",
      "  warnings.warn(smsg, UserWarning)\n",
      "/Users/ryanmccarlie/.pyenv/versions/3.11.6/envs/PwC-Attrition-model-3.11/lib/python3.11/site-packages/xgboost/core.py:158: UserWarning: [19:24:05] WARNING: /Users/runner/work/xgboost/xgboost/src/learner.cc:740: \n",
      "Parameters: { \"use_label_encoder\" } are not used.\n",
      "\n",
      "  warnings.warn(smsg, UserWarning)\n",
      "/Users/ryanmccarlie/.pyenv/versions/3.11.6/envs/PwC-Attrition-model-3.11/lib/python3.11/site-packages/xgboost/core.py:158: UserWarning: [19:24:05] WARNING: /Users/runner/work/xgboost/xgboost/src/learner.cc:740: \n",
      "Parameters: { \"use_label_encoder\" } are not used.\n",
      "\n",
      "  warnings.warn(smsg, UserWarning)\n"
     ]
    },
    {
     "name": "stdout",
     "output_type": "stream",
     "text": [
      "[CV] END classifier__colsample_bytree=0.8, classifier__learning_rate=0.2, classifier__max_depth=3, classifier__n_estimators=300, classifier__subsample=1.0; total time=   0.3s\n",
      "[CV] END classifier__colsample_bytree=0.6, classifier__learning_rate=0.01, classifier__max_depth=11, classifier__n_estimators=500, classifier__subsample=0.6; total time=   2.2s\n",
      "[CV] END classifier__colsample_bytree=0.6, classifier__learning_rate=0.05, classifier__max_depth=11, classifier__n_estimators=200, classifier__subsample=0.8; total time=   0.8s\n",
      "[CV] END classifier__colsample_bytree=0.8, classifier__learning_rate=0.2, classifier__max_depth=3, classifier__n_estimators=300, classifier__subsample=1.0; total time=   0.3s\n",
      "[CV] END classifier__colsample_bytree=0.8, classifier__learning_rate=0.2, classifier__max_depth=3, classifier__n_estimators=300, classifier__subsample=1.0; total time=   0.3s\n",
      "[CV] END classifier__colsample_bytree=0.6, classifier__learning_rate=0.05, classifier__max_depth=11, classifier__n_estimators=200, classifier__subsample=0.8; total time=   0.7s\n"
     ]
    },
    {
     "name": "stderr",
     "output_type": "stream",
     "text": [
      "/Users/ryanmccarlie/.pyenv/versions/3.11.6/envs/PwC-Attrition-model-3.11/lib/python3.11/site-packages/xgboost/core.py:158: UserWarning: [19:24:05] WARNING: /Users/runner/work/xgboost/xgboost/src/learner.cc:740: \n",
      "Parameters: { \"use_label_encoder\" } are not used.\n",
      "\n",
      "  warnings.warn(smsg, UserWarning)\n",
      "/Users/ryanmccarlie/.pyenv/versions/3.11.6/envs/PwC-Attrition-model-3.11/lib/python3.11/site-packages/xgboost/core.py:158: UserWarning: [19:24:05] WARNING: /Users/runner/work/xgboost/xgboost/src/learner.cc:740: \n",
      "Parameters: { \"use_label_encoder\" } are not used.\n",
      "\n",
      "  warnings.warn(smsg, UserWarning)\n",
      "/Users/ryanmccarlie/.pyenv/versions/3.11.6/envs/PwC-Attrition-model-3.11/lib/python3.11/site-packages/xgboost/core.py:158: UserWarning: [19:24:05] WARNING: /Users/runner/work/xgboost/xgboost/src/learner.cc:740: \n",
      "Parameters: { \"use_label_encoder\" } are not used.\n",
      "\n",
      "  warnings.warn(smsg, UserWarning)\n",
      "/Users/ryanmccarlie/.pyenv/versions/3.11.6/envs/PwC-Attrition-model-3.11/lib/python3.11/site-packages/xgboost/core.py:158: UserWarning: [19:24:05] WARNING: /Users/runner/work/xgboost/xgboost/src/learner.cc:740: \n",
      "Parameters: { \"use_label_encoder\" } are not used.\n",
      "\n",
      "  warnings.warn(smsg, UserWarning)\n",
      "/Users/ryanmccarlie/.pyenv/versions/3.11.6/envs/PwC-Attrition-model-3.11/lib/python3.11/site-packages/xgboost/core.py:158: UserWarning: [19:24:05] WARNING: /Users/runner/work/xgboost/xgboost/src/learner.cc:740: \n",
      "Parameters: { \"use_label_encoder\" } are not used.\n",
      "\n",
      "  warnings.warn(smsg, UserWarning)\n",
      "/Users/ryanmccarlie/.pyenv/versions/3.11.6/envs/PwC-Attrition-model-3.11/lib/python3.11/site-packages/xgboost/core.py:158: UserWarning: [19:24:05] WARNING: /Users/runner/work/xgboost/xgboost/src/learner.cc:740: \n",
      "Parameters: { \"use_label_encoder\" } are not used.\n",
      "\n",
      "  warnings.warn(smsg, UserWarning)\n"
     ]
    },
    {
     "name": "stdout",
     "output_type": "stream",
     "text": [
      "[CV] END classifier__colsample_bytree=0.6, classifier__learning_rate=0.05, classifier__max_depth=9, classifier__n_estimators=100, classifier__subsample=0.6; total time=   0.4s\n",
      "[CV] END classifier__colsample_bytree=0.6, classifier__learning_rate=0.05, classifier__max_depth=9, classifier__n_estimators=100, classifier__subsample=0.6; total time=   0.3s\n",
      "[CV] END classifier__colsample_bytree=0.6, classifier__learning_rate=0.05, classifier__max_depth=9, classifier__n_estimators=100, classifier__subsample=0.6; total time=   0.4s\n"
     ]
    },
    {
     "name": "stderr",
     "output_type": "stream",
     "text": [
      "/Users/ryanmccarlie/.pyenv/versions/3.11.6/envs/PwC-Attrition-model-3.11/lib/python3.11/site-packages/xgboost/core.py:158: UserWarning: [19:24:05] WARNING: /Users/runner/work/xgboost/xgboost/src/learner.cc:740: \n",
      "Parameters: { \"use_label_encoder\" } are not used.\n",
      "\n",
      "  warnings.warn(smsg, UserWarning)\n",
      "/Users/ryanmccarlie/.pyenv/versions/3.11.6/envs/PwC-Attrition-model-3.11/lib/python3.11/site-packages/xgboost/core.py:158: UserWarning: [19:24:05] WARNING: /Users/runner/work/xgboost/xgboost/src/learner.cc:740: \n",
      "Parameters: { \"use_label_encoder\" } are not used.\n",
      "\n",
      "  warnings.warn(smsg, UserWarning)\n",
      "/Users/ryanmccarlie/.pyenv/versions/3.11.6/envs/PwC-Attrition-model-3.11/lib/python3.11/site-packages/xgboost/core.py:158: UserWarning: [19:24:05] WARNING: /Users/runner/work/xgboost/xgboost/src/learner.cc:740: \n",
      "Parameters: { \"use_label_encoder\" } are not used.\n",
      "\n",
      "  warnings.warn(smsg, UserWarning)\n"
     ]
    },
    {
     "name": "stdout",
     "output_type": "stream",
     "text": [
      "[CV] END classifier__colsample_bytree=1.0, classifier__learning_rate=0.1, classifier__max_depth=9, classifier__n_estimators=300, classifier__subsample=0.6; total time=   0.9s\n",
      "[CV] END classifier__colsample_bytree=1.0, classifier__learning_rate=0.1, classifier__max_depth=9, classifier__n_estimators=300, classifier__subsample=0.6; total time=   0.9s\n",
      "[CV] END classifier__colsample_bytree=0.6, classifier__learning_rate=0.05, classifier__max_depth=9, classifier__n_estimators=100, classifier__subsample=0.6; total time=   0.4s\n",
      "[CV] END classifier__colsample_bytree=0.6, classifier__learning_rate=0.05, classifier__max_depth=9, classifier__n_estimators=100, classifier__subsample=0.6; total time=   0.4s\n"
     ]
    },
    {
     "name": "stderr",
     "output_type": "stream",
     "text": [
      "/Users/ryanmccarlie/.pyenv/versions/3.11.6/envs/PwC-Attrition-model-3.11/lib/python3.11/site-packages/xgboost/core.py:158: UserWarning: [19:24:05] WARNING: /Users/runner/work/xgboost/xgboost/src/learner.cc:740: \n",
      "Parameters: { \"use_label_encoder\" } are not used.\n",
      "\n",
      "  warnings.warn(smsg, UserWarning)\n",
      "/Users/ryanmccarlie/.pyenv/versions/3.11.6/envs/PwC-Attrition-model-3.11/lib/python3.11/site-packages/xgboost/core.py:158: UserWarning: [19:24:05] WARNING: /Users/runner/work/xgboost/xgboost/src/learner.cc:740: \n",
      "Parameters: { \"use_label_encoder\" } are not used.\n",
      "\n",
      "  warnings.warn(smsg, UserWarning)\n",
      "/Users/ryanmccarlie/.pyenv/versions/3.11.6/envs/PwC-Attrition-model-3.11/lib/python3.11/site-packages/xgboost/core.py:158: UserWarning: [19:24:05] WARNING: /Users/runner/work/xgboost/xgboost/src/learner.cc:740: \n",
      "Parameters: { \"use_label_encoder\" } are not used.\n",
      "\n",
      "  warnings.warn(smsg, UserWarning)\n",
      "/Users/ryanmccarlie/.pyenv/versions/3.11.6/envs/PwC-Attrition-model-3.11/lib/python3.11/site-packages/xgboost/core.py:158: UserWarning: [19:24:06] WARNING: /Users/runner/work/xgboost/xgboost/src/learner.cc:740: \n",
      "Parameters: { \"use_label_encoder\" } are not used.\n",
      "\n",
      "  warnings.warn(smsg, UserWarning)\n"
     ]
    },
    {
     "name": "stdout",
     "output_type": "stream",
     "text": [
      "[CV] END classifier__colsample_bytree=1.0, classifier__learning_rate=0.1, classifier__max_depth=9, classifier__n_estimators=300, classifier__subsample=0.6; total time=   0.8s\n",
      "[CV] END classifier__colsample_bytree=1.0, classifier__learning_rate=0.1, classifier__max_depth=9, classifier__n_estimators=300, classifier__subsample=0.6; total time=   0.9s\n",
      "[CV] END classifier__colsample_bytree=1.0, classifier__learning_rate=0.1, classifier__max_depth=9, classifier__n_estimators=300, classifier__subsample=0.6; total time=   0.9s\n"
     ]
    },
    {
     "name": "stderr",
     "output_type": "stream",
     "text": [
      "/Users/ryanmccarlie/.pyenv/versions/3.11.6/envs/PwC-Attrition-model-3.11/lib/python3.11/site-packages/xgboost/core.py:158: UserWarning: [19:24:06] WARNING: /Users/runner/work/xgboost/xgboost/src/learner.cc:740: \n",
      "Parameters: { \"use_label_encoder\" } are not used.\n",
      "\n",
      "  warnings.warn(smsg, UserWarning)\n",
      "/Users/ryanmccarlie/.pyenv/versions/3.11.6/envs/PwC-Attrition-model-3.11/lib/python3.11/site-packages/xgboost/core.py:158: UserWarning: [19:24:06] WARNING: /Users/runner/work/xgboost/xgboost/src/learner.cc:740: \n",
      "Parameters: { \"use_label_encoder\" } are not used.\n",
      "\n",
      "  warnings.warn(smsg, UserWarning)\n",
      "/Users/ryanmccarlie/.pyenv/versions/3.11.6/envs/PwC-Attrition-model-3.11/lib/python3.11/site-packages/xgboost/core.py:158: UserWarning: [19:24:06] WARNING: /Users/runner/work/xgboost/xgboost/src/learner.cc:740: \n",
      "Parameters: { \"use_label_encoder\" } are not used.\n",
      "\n",
      "  warnings.warn(smsg, UserWarning)\n"
     ]
    },
    {
     "name": "stdout",
     "output_type": "stream",
     "text": [
      "[CV] END classifier__colsample_bytree=1.0, classifier__learning_rate=0.05, classifier__max_depth=7, classifier__n_estimators=300, classifier__subsample=0.6; total time=   0.9s\n",
      "[CV] END classifier__colsample_bytree=0.8, classifier__learning_rate=0.2, classifier__max_depth=11, classifier__n_estimators=200, classifier__subsample=1.0; total time=   0.6s\n",
      "[CV] END classifier__colsample_bytree=1.0, classifier__learning_rate=0.05, classifier__max_depth=7, classifier__n_estimators=300, classifier__subsample=0.6; total time=   0.8s\n",
      "[CV] END classifier__colsample_bytree=0.8, classifier__learning_rate=0.2, classifier__max_depth=11, classifier__n_estimators=200, classifier__subsample=1.0; total time=   0.5s\n",
      "[CV] END classifier__colsample_bytree=0.8, classifier__learning_rate=0.2, classifier__max_depth=11, classifier__n_estimators=200, classifier__subsample=1.0; total time=   0.6s\n",
      "[CV] END classifier__colsample_bytree=1.0, classifier__learning_rate=0.05, classifier__max_depth=7, classifier__n_estimators=300, classifier__subsample=0.6; total time=   0.8s\n",
      "[CV] END classifier__colsample_bytree=1.0, classifier__learning_rate=0.05, classifier__max_depth=7, classifier__n_estimators=300, classifier__subsample=0.6; total time=   0.8s\n"
     ]
    },
    {
     "name": "stderr",
     "output_type": "stream",
     "text": [
      "/Users/ryanmccarlie/.pyenv/versions/3.11.6/envs/PwC-Attrition-model-3.11/lib/python3.11/site-packages/xgboost/core.py:158: UserWarning: [19:24:06] WARNING: /Users/runner/work/xgboost/xgboost/src/learner.cc:740: \n",
      "Parameters: { \"use_label_encoder\" } are not used.\n",
      "\n",
      "  warnings.warn(smsg, UserWarning)\n",
      "/Users/ryanmccarlie/.pyenv/versions/3.11.6/envs/PwC-Attrition-model-3.11/lib/python3.11/site-packages/xgboost/core.py:158: UserWarning: [19:24:06] WARNING: /Users/runner/work/xgboost/xgboost/src/learner.cc:740: \n",
      "Parameters: { \"use_label_encoder\" } are not used.\n",
      "\n",
      "  warnings.warn(smsg, UserWarning)\n",
      "/Users/ryanmccarlie/.pyenv/versions/3.11.6/envs/PwC-Attrition-model-3.11/lib/python3.11/site-packages/xgboost/core.py:158: UserWarning: [19:24:06] WARNING: /Users/runner/work/xgboost/xgboost/src/learner.cc:740: \n",
      "Parameters: { \"use_label_encoder\" } are not used.\n",
      "\n",
      "  warnings.warn(smsg, UserWarning)\n",
      "/Users/ryanmccarlie/.pyenv/versions/3.11.6/envs/PwC-Attrition-model-3.11/lib/python3.11/site-packages/xgboost/core.py:158: UserWarning: [19:24:06] WARNING: /Users/runner/work/xgboost/xgboost/src/learner.cc:740: \n",
      "Parameters: { \"use_label_encoder\" } are not used.\n",
      "\n",
      "  warnings.warn(smsg, UserWarning)\n",
      "/Users/ryanmccarlie/.pyenv/versions/3.11.6/envs/PwC-Attrition-model-3.11/lib/python3.11/site-packages/xgboost/core.py:158: UserWarning: [19:24:06] WARNING: /Users/runner/work/xgboost/xgboost/src/learner.cc:740: \n",
      "Parameters: { \"use_label_encoder\" } are not used.\n",
      "\n",
      "  warnings.warn(smsg, UserWarning)\n",
      "/Users/ryanmccarlie/.pyenv/versions/3.11.6/envs/PwC-Attrition-model-3.11/lib/python3.11/site-packages/xgboost/core.py:158: UserWarning: [19:24:06] WARNING: /Users/runner/work/xgboost/xgboost/src/learner.cc:740: \n",
      "Parameters: { \"use_label_encoder\" } are not used.\n",
      "\n",
      "  warnings.warn(smsg, UserWarning)\n",
      "/Users/ryanmccarlie/.pyenv/versions/3.11.6/envs/PwC-Attrition-model-3.11/lib/python3.11/site-packages/xgboost/core.py:158: UserWarning: [19:24:06] WARNING: /Users/runner/work/xgboost/xgboost/src/learner.cc:740: \n",
      "Parameters: { \"use_label_encoder\" } are not used.\n",
      "\n",
      "  warnings.warn(smsg, UserWarning)\n"
     ]
    },
    {
     "name": "stdout",
     "output_type": "stream",
     "text": [
      "[CV] END classifier__colsample_bytree=1.0, classifier__learning_rate=0.05, classifier__max_depth=7, classifier__n_estimators=300, classifier__subsample=0.6; total time=   0.8s\n",
      "[CV] END classifier__colsample_bytree=0.6, classifier__learning_rate=0.1, classifier__max_depth=5, classifier__n_estimators=200, classifier__subsample=0.6; total time=   0.3s\n",
      "[CV] END classifier__colsample_bytree=0.6, classifier__learning_rate=0.1, classifier__max_depth=5, classifier__n_estimators=200, classifier__subsample=0.6; total time=   0.3s\n"
     ]
    },
    {
     "name": "stderr",
     "output_type": "stream",
     "text": [
      "/Users/ryanmccarlie/.pyenv/versions/3.11.6/envs/PwC-Attrition-model-3.11/lib/python3.11/site-packages/xgboost/core.py:158: UserWarning: [19:24:06] WARNING: /Users/runner/work/xgboost/xgboost/src/learner.cc:740: \n",
      "Parameters: { \"use_label_encoder\" } are not used.\n",
      "\n",
      "  warnings.warn(smsg, UserWarning)\n",
      "/Users/ryanmccarlie/.pyenv/versions/3.11.6/envs/PwC-Attrition-model-3.11/lib/python3.11/site-packages/xgboost/core.py:158: UserWarning: [19:24:07] WARNING: /Users/runner/work/xgboost/xgboost/src/learner.cc:740: \n",
      "Parameters: { \"use_label_encoder\" } are not used.\n",
      "\n",
      "  warnings.warn(smsg, UserWarning)\n",
      "/Users/ryanmccarlie/.pyenv/versions/3.11.6/envs/PwC-Attrition-model-3.11/lib/python3.11/site-packages/xgboost/core.py:158: UserWarning: [19:24:07] WARNING: /Users/runner/work/xgboost/xgboost/src/learner.cc:740: \n",
      "Parameters: { \"use_label_encoder\" } are not used.\n",
      "\n",
      "  warnings.warn(smsg, UserWarning)\n"
     ]
    },
    {
     "name": "stdout",
     "output_type": "stream",
     "text": [
      "[CV] END classifier__colsample_bytree=0.6, classifier__learning_rate=0.1, classifier__max_depth=5, classifier__n_estimators=200, classifier__subsample=0.6; total time=   0.3s\n",
      "[CV] END classifier__colsample_bytree=0.6, classifier__learning_rate=0.1, classifier__max_depth=5, classifier__n_estimators=200, classifier__subsample=0.6; total time=   0.4s\n",
      "[CV] END classifier__colsample_bytree=0.6, classifier__learning_rate=0.1, classifier__max_depth=5, classifier__n_estimators=200, classifier__subsample=0.6; total time=   0.4s\n"
     ]
    },
    {
     "name": "stderr",
     "output_type": "stream",
     "text": [
      "/Users/ryanmccarlie/.pyenv/versions/3.11.6/envs/PwC-Attrition-model-3.11/lib/python3.11/site-packages/xgboost/core.py:158: UserWarning: [19:24:07] WARNING: /Users/runner/work/xgboost/xgboost/src/learner.cc:740: \n",
      "Parameters: { \"use_label_encoder\" } are not used.\n",
      "\n",
      "  warnings.warn(smsg, UserWarning)\n",
      "/Users/ryanmccarlie/.pyenv/versions/3.11.6/envs/PwC-Attrition-model-3.11/lib/python3.11/site-packages/xgboost/core.py:158: UserWarning: [19:24:07] WARNING: /Users/runner/work/xgboost/xgboost/src/learner.cc:740: \n",
      "Parameters: { \"use_label_encoder\" } are not used.\n",
      "\n",
      "  warnings.warn(smsg, UserWarning)\n",
      "/Users/ryanmccarlie/.pyenv/versions/3.11.6/envs/PwC-Attrition-model-3.11/lib/python3.11/site-packages/xgboost/core.py:158: UserWarning: [19:24:07] WARNING: /Users/runner/work/xgboost/xgboost/src/learner.cc:740: \n",
      "Parameters: { \"use_label_encoder\" } are not used.\n",
      "\n",
      "  warnings.warn(smsg, UserWarning)\n"
     ]
    },
    {
     "name": "stdout",
     "output_type": "stream",
     "text": [
      "[CV] END classifier__colsample_bytree=0.8, classifier__learning_rate=0.2, classifier__max_depth=11, classifier__n_estimators=200, classifier__subsample=1.0; total time=   0.7s\n",
      "[CV] END classifier__colsample_bytree=0.8, classifier__learning_rate=0.05, classifier__max_depth=9, classifier__n_estimators=100, classifier__subsample=1.0; total time=   0.6s\n",
      "[CV] END classifier__colsample_bytree=0.8, classifier__learning_rate=0.2, classifier__max_depth=11, classifier__n_estimators=200, classifier__subsample=1.0; total time=   0.8s\n"
     ]
    },
    {
     "name": "stderr",
     "output_type": "stream",
     "text": [
      "/Users/ryanmccarlie/.pyenv/versions/3.11.6/envs/PwC-Attrition-model-3.11/lib/python3.11/site-packages/xgboost/core.py:158: UserWarning: [19:24:07] WARNING: /Users/runner/work/xgboost/xgboost/src/learner.cc:740: \n",
      "Parameters: { \"use_label_encoder\" } are not used.\n",
      "\n",
      "  warnings.warn(smsg, UserWarning)\n",
      "/Users/ryanmccarlie/.pyenv/versions/3.11.6/envs/PwC-Attrition-model-3.11/lib/python3.11/site-packages/xgboost/core.py:158: UserWarning: [19:24:07] WARNING: /Users/runner/work/xgboost/xgboost/src/learner.cc:740: \n",
      "Parameters: { \"use_label_encoder\" } are not used.\n",
      "\n",
      "  warnings.warn(smsg, UserWarning)\n",
      "/Users/ryanmccarlie/.pyenv/versions/3.11.6/envs/PwC-Attrition-model-3.11/lib/python3.11/site-packages/xgboost/core.py:158: UserWarning: [19:24:07] WARNING: /Users/runner/work/xgboost/xgboost/src/learner.cc:740: \n",
      "Parameters: { \"use_label_encoder\" } are not used.\n",
      "\n",
      "  warnings.warn(smsg, UserWarning)\n"
     ]
    },
    {
     "name": "stdout",
     "output_type": "stream",
     "text": [
      "[CV] END classifier__colsample_bytree=0.8, classifier__learning_rate=0.05, classifier__max_depth=9, classifier__n_estimators=100, classifier__subsample=1.0; total time=   0.6s\n",
      "[CV] END classifier__colsample_bytree=0.8, classifier__learning_rate=0.05, classifier__max_depth=9, classifier__n_estimators=100, classifier__subsample=1.0; total time=   0.6s\n",
      "[CV] END classifier__colsample_bytree=0.8, classifier__learning_rate=0.05, classifier__max_depth=9, classifier__n_estimators=100, classifier__subsample=1.0; total time=   0.6s\n",
      "[CV] END classifier__colsample_bytree=0.8, classifier__learning_rate=0.05, classifier__max_depth=9, classifier__n_estimators=100, classifier__subsample=1.0; total time=   0.6s\n"
     ]
    },
    {
     "name": "stderr",
     "output_type": "stream",
     "text": [
      "/Users/ryanmccarlie/.pyenv/versions/3.11.6/envs/PwC-Attrition-model-3.11/lib/python3.11/site-packages/xgboost/core.py:158: UserWarning: [19:24:07] WARNING: /Users/runner/work/xgboost/xgboost/src/learner.cc:740: \n",
      "Parameters: { \"use_label_encoder\" } are not used.\n",
      "\n",
      "  warnings.warn(smsg, UserWarning)\n",
      "/Users/ryanmccarlie/.pyenv/versions/3.11.6/envs/PwC-Attrition-model-3.11/lib/python3.11/site-packages/xgboost/core.py:158: UserWarning: [19:24:07] WARNING: /Users/runner/work/xgboost/xgboost/src/learner.cc:740: \n",
      "Parameters: { \"use_label_encoder\" } are not used.\n",
      "\n",
      "  warnings.warn(smsg, UserWarning)\n",
      "/Users/ryanmccarlie/.pyenv/versions/3.11.6/envs/PwC-Attrition-model-3.11/lib/python3.11/site-packages/xgboost/core.py:158: UserWarning: [19:24:07] WARNING: /Users/runner/work/xgboost/xgboost/src/learner.cc:740: \n",
      "Parameters: { \"use_label_encoder\" } are not used.\n",
      "\n",
      "  warnings.warn(smsg, UserWarning)\n",
      "/Users/ryanmccarlie/.pyenv/versions/3.11.6/envs/PwC-Attrition-model-3.11/lib/python3.11/site-packages/xgboost/core.py:158: UserWarning: [19:24:07] WARNING: /Users/runner/work/xgboost/xgboost/src/learner.cc:740: \n",
      "Parameters: { \"use_label_encoder\" } are not used.\n",
      "\n",
      "  warnings.warn(smsg, UserWarning)\n"
     ]
    },
    {
     "name": "stdout",
     "output_type": "stream",
     "text": [
      "[CV] END classifier__colsample_bytree=0.8, classifier__learning_rate=0.05, classifier__max_depth=11, classifier__n_estimators=500, classifier__subsample=0.6; total time=   1.6s\n",
      "[CV] END classifier__colsample_bytree=0.6, classifier__learning_rate=0.01, classifier__max_depth=11, classifier__n_estimators=300, classifier__subsample=0.8; total time=   1.3s\n",
      "[CV] END classifier__colsample_bytree=0.8, classifier__learning_rate=0.05, classifier__max_depth=11, classifier__n_estimators=500, classifier__subsample=0.6; total time=   1.6s\n",
      "[CV] END classifier__colsample_bytree=0.8, classifier__learning_rate=0.05, classifier__max_depth=11, classifier__n_estimators=500, classifier__subsample=0.6; total time=   1.5s\n"
     ]
    },
    {
     "name": "stderr",
     "output_type": "stream",
     "text": [
      "/Users/ryanmccarlie/.pyenv/versions/3.11.6/envs/PwC-Attrition-model-3.11/lib/python3.11/site-packages/xgboost/core.py:158: UserWarning: [19:24:08] WARNING: /Users/runner/work/xgboost/xgboost/src/learner.cc:740: \n",
      "Parameters: { \"use_label_encoder\" } are not used.\n",
      "\n",
      "  warnings.warn(smsg, UserWarning)\n",
      "/Users/ryanmccarlie/.pyenv/versions/3.11.6/envs/PwC-Attrition-model-3.11/lib/python3.11/site-packages/xgboost/core.py:158: UserWarning: [19:24:09] WARNING: /Users/runner/work/xgboost/xgboost/src/learner.cc:740: \n",
      "Parameters: { \"use_label_encoder\" } are not used.\n",
      "\n",
      "  warnings.warn(smsg, UserWarning)\n",
      "/Users/ryanmccarlie/.pyenv/versions/3.11.6/envs/PwC-Attrition-model-3.11/lib/python3.11/site-packages/xgboost/core.py:158: UserWarning: [19:24:09] WARNING: /Users/runner/work/xgboost/xgboost/src/learner.cc:740: \n",
      "Parameters: { \"use_label_encoder\" } are not used.\n",
      "\n",
      "  warnings.warn(smsg, UserWarning)\n",
      "/Users/ryanmccarlie/.pyenv/versions/3.11.6/envs/PwC-Attrition-model-3.11/lib/python3.11/site-packages/xgboost/core.py:158: UserWarning: [19:24:09] WARNING: /Users/runner/work/xgboost/xgboost/src/learner.cc:740: \n",
      "Parameters: { \"use_label_encoder\" } are not used.\n",
      "\n",
      "  warnings.warn(smsg, UserWarning)\n"
     ]
    },
    {
     "name": "stdout",
     "output_type": "stream",
     "text": [
      "[CV] END classifier__colsample_bytree=0.8, classifier__learning_rate=0.05, classifier__max_depth=11, classifier__n_estimators=500, classifier__subsample=0.6; total time=   1.5s\n",
      "[CV] END classifier__colsample_bytree=0.6, classifier__learning_rate=0.01, classifier__max_depth=11, classifier__n_estimators=300, classifier__subsample=0.8; total time=   1.4s\n",
      "[CV] END classifier__colsample_bytree=0.6, classifier__learning_rate=0.01, classifier__max_depth=11, classifier__n_estimators=300, classifier__subsample=0.8; total time=   1.4s\n"
     ]
    },
    {
     "name": "stderr",
     "output_type": "stream",
     "text": [
      "/Users/ryanmccarlie/.pyenv/versions/3.11.6/envs/PwC-Attrition-model-3.11/lib/python3.11/site-packages/xgboost/core.py:158: UserWarning: [19:24:09] WARNING: /Users/runner/work/xgboost/xgboost/src/learner.cc:740: \n",
      "Parameters: { \"use_label_encoder\" } are not used.\n",
      "\n",
      "  warnings.warn(smsg, UserWarning)\n",
      "/Users/ryanmccarlie/.pyenv/versions/3.11.6/envs/PwC-Attrition-model-3.11/lib/python3.11/site-packages/xgboost/core.py:158: UserWarning: [19:24:09] WARNING: /Users/runner/work/xgboost/xgboost/src/learner.cc:740: \n",
      "Parameters: { \"use_label_encoder\" } are not used.\n",
      "\n",
      "  warnings.warn(smsg, UserWarning)\n",
      "/Users/ryanmccarlie/.pyenv/versions/3.11.6/envs/PwC-Attrition-model-3.11/lib/python3.11/site-packages/xgboost/core.py:158: UserWarning: [19:24:09] WARNING: /Users/runner/work/xgboost/xgboost/src/learner.cc:740: \n",
      "Parameters: { \"use_label_encoder\" } are not used.\n",
      "\n",
      "  warnings.warn(smsg, UserWarning)\n"
     ]
    },
    {
     "name": "stdout",
     "output_type": "stream",
     "text": [
      "[CV] END classifier__colsample_bytree=0.8, classifier__learning_rate=0.05, classifier__max_depth=11, classifier__n_estimators=500, classifier__subsample=0.6; total time=   1.7s\n",
      "[CV] END classifier__colsample_bytree=0.6, classifier__learning_rate=0.1, classifier__max_depth=11, classifier__n_estimators=100, classifier__subsample=0.8; total time=   0.4s\n",
      "[CV] END classifier__colsample_bytree=0.6, classifier__learning_rate=0.1, classifier__max_depth=11, classifier__n_estimators=100, classifier__subsample=0.8; total time=   0.5s\n",
      "[CV] END classifier__colsample_bytree=0.6, classifier__learning_rate=0.1, classifier__max_depth=11, classifier__n_estimators=100, classifier__subsample=0.8; total time=   0.4s\n",
      "[CV] END classifier__colsample_bytree=0.6, classifier__learning_rate=0.1, classifier__max_depth=11, classifier__n_estimators=100, classifier__subsample=0.8; total time=   0.5s\n"
     ]
    },
    {
     "name": "stderr",
     "output_type": "stream",
     "text": [
      "/Users/ryanmccarlie/.pyenv/versions/3.11.6/envs/PwC-Attrition-model-3.11/lib/python3.11/site-packages/xgboost/core.py:158: UserWarning: [19:24:09] WARNING: /Users/runner/work/xgboost/xgboost/src/learner.cc:740: \n",
      "Parameters: { \"use_label_encoder\" } are not used.\n",
      "\n",
      "  warnings.warn(smsg, UserWarning)\n",
      "/Users/ryanmccarlie/.pyenv/versions/3.11.6/envs/PwC-Attrition-model-3.11/lib/python3.11/site-packages/xgboost/core.py:158: UserWarning: [19:24:09] WARNING: /Users/runner/work/xgboost/xgboost/src/learner.cc:740: \n",
      "Parameters: { \"use_label_encoder\" } are not used.\n",
      "\n",
      "  warnings.warn(smsg, UserWarning)\n",
      "/Users/ryanmccarlie/.pyenv/versions/3.11.6/envs/PwC-Attrition-model-3.11/lib/python3.11/site-packages/xgboost/core.py:158: UserWarning: [19:24:09] WARNING: /Users/runner/work/xgboost/xgboost/src/learner.cc:740: \n",
      "Parameters: { \"use_label_encoder\" } are not used.\n",
      "\n",
      "  warnings.warn(smsg, UserWarning)\n",
      "/Users/ryanmccarlie/.pyenv/versions/3.11.6/envs/PwC-Attrition-model-3.11/lib/python3.11/site-packages/xgboost/core.py:158: UserWarning: [19:24:09] WARNING: /Users/runner/work/xgboost/xgboost/src/learner.cc:740: \n",
      "Parameters: { \"use_label_encoder\" } are not used.\n",
      "\n",
      "  warnings.warn(smsg, UserWarning)\n",
      "/Users/ryanmccarlie/.pyenv/versions/3.11.6/envs/PwC-Attrition-model-3.11/lib/python3.11/site-packages/xgboost/core.py:158: UserWarning: [19:24:09] WARNING: /Users/runner/work/xgboost/xgboost/src/learner.cc:740: \n",
      "Parameters: { \"use_label_encoder\" } are not used.\n",
      "\n",
      "  warnings.warn(smsg, UserWarning)\n",
      "/Users/ryanmccarlie/.pyenv/versions/3.11.6/envs/PwC-Attrition-model-3.11/lib/python3.11/site-packages/xgboost/core.py:158: UserWarning: [19:24:09] WARNING: /Users/runner/work/xgboost/xgboost/src/learner.cc:740: \n",
      "Parameters: { \"use_label_encoder\" } are not used.\n",
      "\n",
      "  warnings.warn(smsg, UserWarning)\n"
     ]
    },
    {
     "name": "stdout",
     "output_type": "stream",
     "text": [
      "[CV] END classifier__colsample_bytree=0.6, classifier__learning_rate=0.1, classifier__max_depth=11, classifier__n_estimators=100, classifier__subsample=0.8; total time=   0.5s\n",
      "[CV] END classifier__colsample_bytree=1.0, classifier__learning_rate=0.05, classifier__max_depth=3, classifier__n_estimators=500, classifier__subsample=0.8; total time=   0.5s\n",
      "[CV] END classifier__colsample_bytree=0.6, classifier__learning_rate=0.01, classifier__max_depth=11, classifier__n_estimators=300, classifier__subsample=0.8; total time=   1.5s\n"
     ]
    },
    {
     "name": "stderr",
     "output_type": "stream",
     "text": [
      "/Users/ryanmccarlie/.pyenv/versions/3.11.6/envs/PwC-Attrition-model-3.11/lib/python3.11/site-packages/xgboost/core.py:158: UserWarning: [19:24:10] WARNING: /Users/runner/work/xgboost/xgboost/src/learner.cc:740: \n",
      "Parameters: { \"use_label_encoder\" } are not used.\n",
      "\n",
      "  warnings.warn(smsg, UserWarning)\n",
      "/Users/ryanmccarlie/.pyenv/versions/3.11.6/envs/PwC-Attrition-model-3.11/lib/python3.11/site-packages/xgboost/core.py:158: UserWarning: [19:24:10] WARNING: /Users/runner/work/xgboost/xgboost/src/learner.cc:740: \n",
      "Parameters: { \"use_label_encoder\" } are not used.\n",
      "\n",
      "  warnings.warn(smsg, UserWarning)\n"
     ]
    },
    {
     "name": "stdout",
     "output_type": "stream",
     "text": [
      "[CV] END classifier__colsample_bytree=0.6, classifier__learning_rate=0.01, classifier__max_depth=11, classifier__n_estimators=300, classifier__subsample=0.8; total time=   1.5s\n",
      "[CV] END classifier__colsample_bytree=1.0, classifier__learning_rate=0.05, classifier__max_depth=3, classifier__n_estimators=500, classifier__subsample=0.8; total time=   0.5s\n",
      "[CV] END classifier__colsample_bytree=1.0, classifier__learning_rate=0.05, classifier__max_depth=11, classifier__n_estimators=300, classifier__subsample=0.6; total time=   1.3s\n"
     ]
    },
    {
     "name": "stderr",
     "output_type": "stream",
     "text": [
      "/Users/ryanmccarlie/.pyenv/versions/3.11.6/envs/PwC-Attrition-model-3.11/lib/python3.11/site-packages/xgboost/core.py:158: UserWarning: [19:24:10] WARNING: /Users/runner/work/xgboost/xgboost/src/learner.cc:740: \n",
      "Parameters: { \"use_label_encoder\" } are not used.\n",
      "\n",
      "  warnings.warn(smsg, UserWarning)\n",
      "/Users/ryanmccarlie/.pyenv/versions/3.11.6/envs/PwC-Attrition-model-3.11/lib/python3.11/site-packages/xgboost/core.py:158: UserWarning: [19:24:10] WARNING: /Users/runner/work/xgboost/xgboost/src/learner.cc:740: \n",
      "Parameters: { \"use_label_encoder\" } are not used.\n",
      "\n",
      "  warnings.warn(smsg, UserWarning)\n",
      "/Users/ryanmccarlie/.pyenv/versions/3.11.6/envs/PwC-Attrition-model-3.11/lib/python3.11/site-packages/xgboost/core.py:158: UserWarning: [19:24:10] WARNING: /Users/runner/work/xgboost/xgboost/src/learner.cc:740: \n",
      "Parameters: { \"use_label_encoder\" } are not used.\n",
      "\n",
      "  warnings.warn(smsg, UserWarning)\n"
     ]
    },
    {
     "name": "stdout",
     "output_type": "stream",
     "text": [
      "[CV] END classifier__colsample_bytree=1.0, classifier__learning_rate=0.05, classifier__max_depth=11, classifier__n_estimators=300, classifier__subsample=0.6; total time=   1.2s\n",
      "[CV] END classifier__colsample_bytree=1.0, classifier__learning_rate=0.05, classifier__max_depth=3, classifier__n_estimators=500, classifier__subsample=0.8; total time=   0.5s\n",
      "[CV] END classifier__colsample_bytree=1.0, classifier__learning_rate=0.05, classifier__max_depth=11, classifier__n_estimators=300, classifier__subsample=0.6; total time=   1.4s\n",
      "[CV] END classifier__colsample_bytree=1.0, classifier__learning_rate=0.05, classifier__max_depth=11, classifier__n_estimators=300, classifier__subsample=0.6; total time=   1.4s\n",
      "[CV] END classifier__colsample_bytree=1.0, classifier__learning_rate=0.05, classifier__max_depth=11, classifier__n_estimators=300, classifier__subsample=0.6; total time=   1.4s\n",
      "[CV] END classifier__colsample_bytree=1.0, classifier__learning_rate=0.05, classifier__max_depth=3, classifier__n_estimators=500, classifier__subsample=0.8; total time=   0.4s\n"
     ]
    },
    {
     "name": "stderr",
     "output_type": "stream",
     "text": [
      "/Users/ryanmccarlie/.pyenv/versions/3.11.6/envs/PwC-Attrition-model-3.11/lib/python3.11/site-packages/xgboost/core.py:158: UserWarning: [19:24:10] WARNING: /Users/runner/work/xgboost/xgboost/src/learner.cc:740: \n",
      "Parameters: { \"use_label_encoder\" } are not used.\n",
      "\n",
      "  warnings.warn(smsg, UserWarning)\n",
      "/Users/ryanmccarlie/.pyenv/versions/3.11.6/envs/PwC-Attrition-model-3.11/lib/python3.11/site-packages/xgboost/core.py:158: UserWarning: [19:24:10] WARNING: /Users/runner/work/xgboost/xgboost/src/learner.cc:740: \n",
      "Parameters: { \"use_label_encoder\" } are not used.\n",
      "\n",
      "  warnings.warn(smsg, UserWarning)\n",
      "/Users/ryanmccarlie/.pyenv/versions/3.11.6/envs/PwC-Attrition-model-3.11/lib/python3.11/site-packages/xgboost/core.py:158: UserWarning: [19:24:10] WARNING: /Users/runner/work/xgboost/xgboost/src/learner.cc:740: \n",
      "Parameters: { \"use_label_encoder\" } are not used.\n",
      "\n",
      "  warnings.warn(smsg, UserWarning)\n",
      "/Users/ryanmccarlie/.pyenv/versions/3.11.6/envs/PwC-Attrition-model-3.11/lib/python3.11/site-packages/xgboost/core.py:158: UserWarning: [19:24:10] WARNING: /Users/runner/work/xgboost/xgboost/src/learner.cc:740: \n",
      "Parameters: { \"use_label_encoder\" } are not used.\n",
      "\n",
      "  warnings.warn(smsg, UserWarning)\n",
      "/Users/ryanmccarlie/.pyenv/versions/3.11.6/envs/PwC-Attrition-model-3.11/lib/python3.11/site-packages/xgboost/core.py:158: UserWarning: [19:24:10] WARNING: /Users/runner/work/xgboost/xgboost/src/learner.cc:740: \n",
      "Parameters: { \"use_label_encoder\" } are not used.\n",
      "\n",
      "  warnings.warn(smsg, UserWarning)\n",
      "/Users/ryanmccarlie/.pyenv/versions/3.11.6/envs/PwC-Attrition-model-3.11/lib/python3.11/site-packages/xgboost/core.py:158: UserWarning: [19:24:10] WARNING: /Users/runner/work/xgboost/xgboost/src/learner.cc:740: \n",
      "Parameters: { \"use_label_encoder\" } are not used.\n",
      "\n",
      "  warnings.warn(smsg, UserWarning)\n"
     ]
    },
    {
     "name": "stdout",
     "output_type": "stream",
     "text": [
      "[CV] END classifier__colsample_bytree=1.0, classifier__learning_rate=0.05, classifier__max_depth=3, classifier__n_estimators=500, classifier__subsample=0.8; total time=   0.4s\n",
      "[CV] END classifier__colsample_bytree=0.8, classifier__learning_rate=0.2, classifier__max_depth=5, classifier__n_estimators=100, classifier__subsample=1.0; total time=   0.2s\n",
      "[CV] END classifier__colsample_bytree=0.8, classifier__learning_rate=0.2, classifier__max_depth=5, classifier__n_estimators=100, classifier__subsample=1.0; total time=   0.2s\n",
      "[CV] END classifier__colsample_bytree=0.8, classifier__learning_rate=0.2, classifier__max_depth=5, classifier__n_estimators=100, classifier__subsample=1.0; total time=   0.2s\n",
      "[CV] END classifier__colsample_bytree=0.8, classifier__learning_rate=0.2, classifier__max_depth=5, classifier__n_estimators=100, classifier__subsample=1.0; total time=   0.2s\n"
     ]
    },
    {
     "name": "stderr",
     "output_type": "stream",
     "text": [
      "/Users/ryanmccarlie/.pyenv/versions/3.11.6/envs/PwC-Attrition-model-3.11/lib/python3.11/site-packages/xgboost/core.py:158: UserWarning: [19:24:11] WARNING: /Users/runner/work/xgboost/xgboost/src/learner.cc:740: \n",
      "Parameters: { \"use_label_encoder\" } are not used.\n",
      "\n",
      "  warnings.warn(smsg, UserWarning)\n",
      "/Users/ryanmccarlie/.pyenv/versions/3.11.6/envs/PwC-Attrition-model-3.11/lib/python3.11/site-packages/xgboost/core.py:158: UserWarning: [19:24:11] WARNING: /Users/runner/work/xgboost/xgboost/src/learner.cc:740: \n",
      "Parameters: { \"use_label_encoder\" } are not used.\n",
      "\n",
      "  warnings.warn(smsg, UserWarning)\n",
      "/Users/ryanmccarlie/.pyenv/versions/3.11.6/envs/PwC-Attrition-model-3.11/lib/python3.11/site-packages/xgboost/core.py:158: UserWarning: [19:24:11] WARNING: /Users/runner/work/xgboost/xgboost/src/learner.cc:740: \n",
      "Parameters: { \"use_label_encoder\" } are not used.\n",
      "\n",
      "  warnings.warn(smsg, UserWarning)\n",
      "/Users/ryanmccarlie/.pyenv/versions/3.11.6/envs/PwC-Attrition-model-3.11/lib/python3.11/site-packages/xgboost/core.py:158: UserWarning: [19:24:11] WARNING: /Users/runner/work/xgboost/xgboost/src/learner.cc:740: \n",
      "Parameters: { \"use_label_encoder\" } are not used.\n",
      "\n",
      "  warnings.warn(smsg, UserWarning)\n",
      "/Users/ryanmccarlie/.pyenv/versions/3.11.6/envs/PwC-Attrition-model-3.11/lib/python3.11/site-packages/xgboost/core.py:158: UserWarning: [19:24:11] WARNING: /Users/runner/work/xgboost/xgboost/src/learner.cc:740: \n",
      "Parameters: { \"use_label_encoder\" } are not used.\n",
      "\n",
      "  warnings.warn(smsg, UserWarning)\n"
     ]
    },
    {
     "name": "stdout",
     "output_type": "stream",
     "text": [
      "[CV] END classifier__colsample_bytree=0.8, classifier__learning_rate=0.01, classifier__max_depth=7, classifier__n_estimators=200, classifier__subsample=0.6; total time=   0.5s\n",
      "[CV] END classifier__colsample_bytree=0.8, classifier__learning_rate=0.01, classifier__max_depth=7, classifier__n_estimators=200, classifier__subsample=0.6; total time=   0.5s\n",
      "[CV] END classifier__colsample_bytree=0.8, classifier__learning_rate=0.2, classifier__max_depth=5, classifier__n_estimators=100, classifier__subsample=1.0; total time=   0.2s\n",
      "[CV] END classifier__colsample_bytree=0.8, classifier__learning_rate=0.01, classifier__max_depth=7, classifier__n_estimators=200, classifier__subsample=0.6; total time=   0.6s\n",
      "[CV] END classifier__colsample_bytree=0.8, classifier__learning_rate=0.01, classifier__max_depth=7, classifier__n_estimators=200, classifier__subsample=0.6; total time=   0.5s\n",
      "[CV] END classifier__colsample_bytree=0.8, classifier__learning_rate=0.01, classifier__max_depth=7, classifier__n_estimators=200, classifier__subsample=0.6; total time=   0.5s\n"
     ]
    },
    {
     "name": "stderr",
     "output_type": "stream",
     "text": [
      "/Users/ryanmccarlie/.pyenv/versions/3.11.6/envs/PwC-Attrition-model-3.11/lib/python3.11/site-packages/xgboost/core.py:158: UserWarning: [19:24:11] WARNING: /Users/runner/work/xgboost/xgboost/src/learner.cc:740: \n",
      "Parameters: { \"use_label_encoder\" } are not used.\n",
      "\n",
      "  warnings.warn(smsg, UserWarning)\n",
      "/Users/ryanmccarlie/.pyenv/versions/3.11.6/envs/PwC-Attrition-model-3.11/lib/python3.11/site-packages/xgboost/core.py:158: UserWarning: [19:24:11] WARNING: /Users/runner/work/xgboost/xgboost/src/learner.cc:740: \n",
      "Parameters: { \"use_label_encoder\" } are not used.\n",
      "\n",
      "  warnings.warn(smsg, UserWarning)\n",
      "/Users/ryanmccarlie/.pyenv/versions/3.11.6/envs/PwC-Attrition-model-3.11/lib/python3.11/site-packages/xgboost/core.py:158: UserWarning: [19:24:11] WARNING: /Users/runner/work/xgboost/xgboost/src/learner.cc:740: \n",
      "Parameters: { \"use_label_encoder\" } are not used.\n",
      "\n",
      "  warnings.warn(smsg, UserWarning)\n",
      "/Users/ryanmccarlie/.pyenv/versions/3.11.6/envs/PwC-Attrition-model-3.11/lib/python3.11/site-packages/xgboost/core.py:158: UserWarning: [19:24:11] WARNING: /Users/runner/work/xgboost/xgboost/src/learner.cc:740: \n",
      "Parameters: { \"use_label_encoder\" } are not used.\n",
      "\n",
      "  warnings.warn(smsg, UserWarning)\n",
      "/Users/ryanmccarlie/.pyenv/versions/3.11.6/envs/PwC-Attrition-model-3.11/lib/python3.11/site-packages/xgboost/core.py:158: UserWarning: [19:24:11] WARNING: /Users/runner/work/xgboost/xgboost/src/learner.cc:740: \n",
      "Parameters: { \"use_label_encoder\" } are not used.\n",
      "\n",
      "  warnings.warn(smsg, UserWarning)\n",
      "/Users/ryanmccarlie/.pyenv/versions/3.11.6/envs/PwC-Attrition-model-3.11/lib/python3.11/site-packages/xgboost/core.py:158: UserWarning: [19:24:11] WARNING: /Users/runner/work/xgboost/xgboost/src/learner.cc:740: \n",
      "Parameters: { \"use_label_encoder\" } are not used.\n",
      "\n",
      "  warnings.warn(smsg, UserWarning)\n"
     ]
    },
    {
     "name": "stdout",
     "output_type": "stream",
     "text": [
      "[CV] END classifier__colsample_bytree=0.6, classifier__learning_rate=0.01, classifier__max_depth=7, classifier__n_estimators=100, classifier__subsample=0.6; total time=   0.3s\n",
      "[CV] END classifier__colsample_bytree=0.6, classifier__learning_rate=0.01, classifier__max_depth=7, classifier__n_estimators=100, classifier__subsample=0.6; total time=   0.3s\n",
      "[CV] END classifier__colsample_bytree=0.6, classifier__learning_rate=0.01, classifier__max_depth=7, classifier__n_estimators=100, classifier__subsample=0.6; total time=   0.3s\n"
     ]
    },
    {
     "name": "stderr",
     "output_type": "stream",
     "text": [
      "/Users/ryanmccarlie/.pyenv/versions/3.11.6/envs/PwC-Attrition-model-3.11/lib/python3.11/site-packages/xgboost/core.py:158: UserWarning: [19:24:11] WARNING: /Users/runner/work/xgboost/xgboost/src/learner.cc:740: \n",
      "Parameters: { \"use_label_encoder\" } are not used.\n",
      "\n",
      "  warnings.warn(smsg, UserWarning)\n",
      "/Users/ryanmccarlie/.pyenv/versions/3.11.6/envs/PwC-Attrition-model-3.11/lib/python3.11/site-packages/xgboost/core.py:158: UserWarning: [19:24:11] WARNING: /Users/runner/work/xgboost/xgboost/src/learner.cc:740: \n",
      "Parameters: { \"use_label_encoder\" } are not used.\n",
      "\n",
      "  warnings.warn(smsg, UserWarning)\n",
      "/Users/ryanmccarlie/.pyenv/versions/3.11.6/envs/PwC-Attrition-model-3.11/lib/python3.11/site-packages/xgboost/core.py:158: UserWarning: [19:24:11] WARNING: /Users/runner/work/xgboost/xgboost/src/learner.cc:740: \n",
      "Parameters: { \"use_label_encoder\" } are not used.\n",
      "\n",
      "  warnings.warn(smsg, UserWarning)\n"
     ]
    },
    {
     "name": "stdout",
     "output_type": "stream",
     "text": [
      "[CV] END classifier__colsample_bytree=0.6, classifier__learning_rate=0.01, classifier__max_depth=7, classifier__n_estimators=100, classifier__subsample=0.6; total time=   0.4s\n",
      "[CV] END classifier__colsample_bytree=0.6, classifier__learning_rate=0.01, classifier__max_depth=7, classifier__n_estimators=100, classifier__subsample=0.6; total time=   0.4s\n"
     ]
    },
    {
     "name": "stderr",
     "output_type": "stream",
     "text": [
      "/Users/ryanmccarlie/.pyenv/versions/3.11.6/envs/PwC-Attrition-model-3.11/lib/python3.11/site-packages/xgboost/core.py:158: UserWarning: [19:24:12] WARNING: /Users/runner/work/xgboost/xgboost/src/learner.cc:740: \n",
      "Parameters: { \"use_label_encoder\" } are not used.\n",
      "\n",
      "  warnings.warn(smsg, UserWarning)\n",
      "/Users/ryanmccarlie/.pyenv/versions/3.11.6/envs/PwC-Attrition-model-3.11/lib/python3.11/site-packages/xgboost/core.py:158: UserWarning: [19:24:12] WARNING: /Users/runner/work/xgboost/xgboost/src/learner.cc:740: \n",
      "Parameters: { \"use_label_encoder\" } are not used.\n",
      "\n",
      "  warnings.warn(smsg, UserWarning)\n"
     ]
    },
    {
     "name": "stdout",
     "output_type": "stream",
     "text": [
      "[CV] END classifier__colsample_bytree=1.0, classifier__learning_rate=0.2, classifier__max_depth=3, classifier__n_estimators=500, classifier__subsample=0.6; total time=   0.8s\n"
     ]
    },
    {
     "name": "stderr",
     "output_type": "stream",
     "text": [
      "/Users/ryanmccarlie/.pyenv/versions/3.11.6/envs/PwC-Attrition-model-3.11/lib/python3.11/site-packages/xgboost/core.py:158: UserWarning: [19:24:12] WARNING: /Users/runner/work/xgboost/xgboost/src/learner.cc:740: \n",
      "Parameters: { \"use_label_encoder\" } are not used.\n",
      "\n",
      "  warnings.warn(smsg, UserWarning)\n"
     ]
    },
    {
     "name": "stdout",
     "output_type": "stream",
     "text": [
      "[CV] END classifier__colsample_bytree=1.0, classifier__learning_rate=0.2, classifier__max_depth=3, classifier__n_estimators=500, classifier__subsample=0.6; total time=   0.9s\n",
      "[CV] END classifier__colsample_bytree=1.0, classifier__learning_rate=0.2, classifier__max_depth=3, classifier__n_estimators=500, classifier__subsample=0.6; total time=   1.0s\n",
      "[CV] END classifier__colsample_bytree=0.8, classifier__learning_rate=0.01, classifier__max_depth=7, classifier__n_estimators=500, classifier__subsample=1.0; total time=   1.8s\n",
      "[CV] END classifier__colsample_bytree=0.8, classifier__learning_rate=0.01, classifier__max_depth=7, classifier__n_estimators=500, classifier__subsample=1.0; total time=   1.9s\n",
      "[CV] END classifier__colsample_bytree=0.8, classifier__learning_rate=0.01, classifier__max_depth=7, classifier__n_estimators=500, classifier__subsample=1.0; total time=   1.8s\n",
      "[CV] END classifier__colsample_bytree=1.0, classifier__learning_rate=0.2, classifier__max_depth=3, classifier__n_estimators=500, classifier__subsample=0.6; total time=   0.8s\n"
     ]
    },
    {
     "name": "stderr",
     "output_type": "stream",
     "text": [
      "/Users/ryanmccarlie/.pyenv/versions/3.11.6/envs/PwC-Attrition-model-3.11/lib/python3.11/site-packages/xgboost/core.py:158: UserWarning: [19:24:13] WARNING: /Users/runner/work/xgboost/xgboost/src/learner.cc:740: \n",
      "Parameters: { \"use_label_encoder\" } are not used.\n",
      "\n",
      "  warnings.warn(smsg, UserWarning)\n",
      "/Users/ryanmccarlie/.pyenv/versions/3.11.6/envs/PwC-Attrition-model-3.11/lib/python3.11/site-packages/xgboost/core.py:158: UserWarning: [19:24:13] WARNING: /Users/runner/work/xgboost/xgboost/src/learner.cc:740: \n",
      "Parameters: { \"use_label_encoder\" } are not used.\n",
      "\n",
      "  warnings.warn(smsg, UserWarning)\n",
      "/Users/ryanmccarlie/.pyenv/versions/3.11.6/envs/PwC-Attrition-model-3.11/lib/python3.11/site-packages/xgboost/core.py:158: UserWarning: [19:24:13] WARNING: /Users/runner/work/xgboost/xgboost/src/learner.cc:740: \n",
      "Parameters: { \"use_label_encoder\" } are not used.\n",
      "\n",
      "  warnings.warn(smsg, UserWarning)\n",
      "/Users/ryanmccarlie/.pyenv/versions/3.11.6/envs/PwC-Attrition-model-3.11/lib/python3.11/site-packages/xgboost/core.py:158: UserWarning: [19:24:13] WARNING: /Users/runner/work/xgboost/xgboost/src/learner.cc:740: \n",
      "Parameters: { \"use_label_encoder\" } are not used.\n",
      "\n",
      "  warnings.warn(smsg, UserWarning)\n",
      "/Users/ryanmccarlie/.pyenv/versions/3.11.6/envs/PwC-Attrition-model-3.11/lib/python3.11/site-packages/xgboost/core.py:158: UserWarning: [19:24:13] WARNING: /Users/runner/work/xgboost/xgboost/src/learner.cc:740: \n",
      "Parameters: { \"use_label_encoder\" } are not used.\n",
      "\n",
      "  warnings.warn(smsg, UserWarning)\n",
      "/Users/ryanmccarlie/.pyenv/versions/3.11.6/envs/PwC-Attrition-model-3.11/lib/python3.11/site-packages/xgboost/core.py:158: UserWarning: [19:24:13] WARNING: /Users/runner/work/xgboost/xgboost/src/learner.cc:740: \n",
      "Parameters: { \"use_label_encoder\" } are not used.\n",
      "\n",
      "  warnings.warn(smsg, UserWarning)\n",
      "/Users/ryanmccarlie/.pyenv/versions/3.11.6/envs/PwC-Attrition-model-3.11/lib/python3.11/site-packages/xgboost/core.py:158: UserWarning: [19:24:13] WARNING: /Users/runner/work/xgboost/xgboost/src/learner.cc:740: \n",
      "Parameters: { \"use_label_encoder\" } are not used.\n",
      "\n",
      "  warnings.warn(smsg, UserWarning)\n"
     ]
    },
    {
     "name": "stdout",
     "output_type": "stream",
     "text": [
      "[CV] END classifier__colsample_bytree=0.8, classifier__learning_rate=0.01, classifier__max_depth=7, classifier__n_estimators=500, classifier__subsample=1.0; total time=   1.9s\n",
      "[CV] END classifier__colsample_bytree=0.8, classifier__learning_rate=0.01, classifier__max_depth=7, classifier__n_estimators=500, classifier__subsample=1.0; total time=   2.0s\n"
     ]
    },
    {
     "name": "stderr",
     "output_type": "stream",
     "text": [
      "/Users/ryanmccarlie/.pyenv/versions/3.11.6/envs/PwC-Attrition-model-3.11/lib/python3.11/site-packages/xgboost/core.py:158: UserWarning: [19:24:13] WARNING: /Users/runner/work/xgboost/xgboost/src/learner.cc:740: \n",
      "Parameters: { \"use_label_encoder\" } are not used.\n",
      "\n",
      "  warnings.warn(smsg, UserWarning)\n",
      "/Users/ryanmccarlie/.pyenv/versions/3.11.6/envs/PwC-Attrition-model-3.11/lib/python3.11/site-packages/xgboost/core.py:158: UserWarning: [19:24:13] WARNING: /Users/runner/work/xgboost/xgboost/src/learner.cc:740: \n",
      "Parameters: { \"use_label_encoder\" } are not used.\n",
      "\n",
      "  warnings.warn(smsg, UserWarning)\n"
     ]
    },
    {
     "name": "stdout",
     "output_type": "stream",
     "text": [
      "[CV] END classifier__colsample_bytree=1.0, classifier__learning_rate=0.2, classifier__max_depth=3, classifier__n_estimators=500, classifier__subsample=0.6; total time=   0.6s\n",
      "[CV] END classifier__colsample_bytree=0.8, classifier__learning_rate=0.1, classifier__max_depth=11, classifier__n_estimators=500, classifier__subsample=0.6; total time=   1.4s\n",
      "[CV] END classifier__colsample_bytree=0.8, classifier__learning_rate=0.1, classifier__max_depth=11, classifier__n_estimators=500, classifier__subsample=0.6; total time=   1.3s\n"
     ]
    },
    {
     "name": "stderr",
     "output_type": "stream",
     "text": [
      "/Users/ryanmccarlie/.pyenv/versions/3.11.6/envs/PwC-Attrition-model-3.11/lib/python3.11/site-packages/xgboost/core.py:158: UserWarning: [19:24:14] WARNING: /Users/runner/work/xgboost/xgboost/src/learner.cc:740: \n",
      "Parameters: { \"use_label_encoder\" } are not used.\n",
      "\n",
      "  warnings.warn(smsg, UserWarning)\n",
      "/Users/ryanmccarlie/.pyenv/versions/3.11.6/envs/PwC-Attrition-model-3.11/lib/python3.11/site-packages/xgboost/core.py:158: UserWarning: [19:24:14] WARNING: /Users/runner/work/xgboost/xgboost/src/learner.cc:740: \n",
      "Parameters: { \"use_label_encoder\" } are not used.\n",
      "\n",
      "  warnings.warn(smsg, UserWarning)\n"
     ]
    },
    {
     "name": "stdout",
     "output_type": "stream",
     "text": [
      "[CV] END classifier__colsample_bytree=0.8, classifier__learning_rate=0.1, classifier__max_depth=11, classifier__n_estimators=500, classifier__subsample=0.6; total time=   1.4s\n"
     ]
    },
    {
     "name": "stderr",
     "output_type": "stream",
     "text": [
      "/Users/ryanmccarlie/.pyenv/versions/3.11.6/envs/PwC-Attrition-model-3.11/lib/python3.11/site-packages/xgboost/core.py:158: UserWarning: [19:24:14] WARNING: /Users/runner/work/xgboost/xgboost/src/learner.cc:740: \n",
      "Parameters: { \"use_label_encoder\" } are not used.\n",
      "\n",
      "  warnings.warn(smsg, UserWarning)\n"
     ]
    },
    {
     "name": "stdout",
     "output_type": "stream",
     "text": [
      "[CV] END classifier__colsample_bytree=1.0, classifier__learning_rate=0.01, classifier__max_depth=9, classifier__n_estimators=500, classifier__subsample=0.8; total time=   2.3s\n",
      "[CV] END classifier__colsample_bytree=0.6, classifier__learning_rate=0.2, classifier__max_depth=7, classifier__n_estimators=200, classifier__subsample=1.0; total time=   0.5s\n"
     ]
    },
    {
     "name": "stderr",
     "output_type": "stream",
     "text": [
      "/Users/ryanmccarlie/.pyenv/versions/3.11.6/envs/PwC-Attrition-model-3.11/lib/python3.11/site-packages/xgboost/core.py:158: UserWarning: [19:24:15] WARNING: /Users/runner/work/xgboost/xgboost/src/learner.cc:740: \n",
      "Parameters: { \"use_label_encoder\" } are not used.\n",
      "\n",
      "  warnings.warn(smsg, UserWarning)\n",
      "/Users/ryanmccarlie/.pyenv/versions/3.11.6/envs/PwC-Attrition-model-3.11/lib/python3.11/site-packages/xgboost/core.py:158: UserWarning: [19:24:15] WARNING: /Users/runner/work/xgboost/xgboost/src/learner.cc:740: \n",
      "Parameters: { \"use_label_encoder\" } are not used.\n",
      "\n",
      "  warnings.warn(smsg, UserWarning)\n"
     ]
    },
    {
     "name": "stdout",
     "output_type": "stream",
     "text": [
      "[CV] END classifier__colsample_bytree=1.0, classifier__learning_rate=0.01, classifier__max_depth=9, classifier__n_estimators=500, classifier__subsample=0.8; total time=   2.5s\n",
      "[CV] END classifier__colsample_bytree=1.0, classifier__learning_rate=0.01, classifier__max_depth=9, classifier__n_estimators=500, classifier__subsample=0.8; total time=   2.5s\n",
      "[CV] END classifier__colsample_bytree=1.0, classifier__learning_rate=0.01, classifier__max_depth=9, classifier__n_estimators=500, classifier__subsample=0.8; total time=   2.5s\n",
      "[CV] END classifier__colsample_bytree=1.0, classifier__learning_rate=0.01, classifier__max_depth=9, classifier__n_estimators=500, classifier__subsample=0.8; total time=   2.5s\n",
      "[CV] END classifier__colsample_bytree=0.6, classifier__learning_rate=0.2, classifier__max_depth=7, classifier__n_estimators=200, classifier__subsample=1.0; total time=   0.5s\n"
     ]
    },
    {
     "name": "stderr",
     "output_type": "stream",
     "text": [
      "/Users/ryanmccarlie/.pyenv/versions/3.11.6/envs/PwC-Attrition-model-3.11/lib/python3.11/site-packages/xgboost/core.py:158: UserWarning: [19:24:15] WARNING: /Users/runner/work/xgboost/xgboost/src/learner.cc:740: \n",
      "Parameters: { \"use_label_encoder\" } are not used.\n",
      "\n",
      "  warnings.warn(smsg, UserWarning)\n",
      "/Users/ryanmccarlie/.pyenv/versions/3.11.6/envs/PwC-Attrition-model-3.11/lib/python3.11/site-packages/xgboost/core.py:158: UserWarning: [19:24:15] WARNING: /Users/runner/work/xgboost/xgboost/src/learner.cc:740: \n",
      "Parameters: { \"use_label_encoder\" } are not used.\n",
      "\n",
      "  warnings.warn(smsg, UserWarning)\n",
      "/Users/ryanmccarlie/.pyenv/versions/3.11.6/envs/PwC-Attrition-model-3.11/lib/python3.11/site-packages/xgboost/core.py:158: UserWarning: [19:24:15] WARNING: /Users/runner/work/xgboost/xgboost/src/learner.cc:740: \n",
      "Parameters: { \"use_label_encoder\" } are not used.\n",
      "\n",
      "  warnings.warn(smsg, UserWarning)\n",
      "/Users/ryanmccarlie/.pyenv/versions/3.11.6/envs/PwC-Attrition-model-3.11/lib/python3.11/site-packages/xgboost/core.py:158: UserWarning: [19:24:15] WARNING: /Users/runner/work/xgboost/xgboost/src/learner.cc:740: \n",
      "Parameters: { \"use_label_encoder\" } are not used.\n",
      "\n",
      "  warnings.warn(smsg, UserWarning)\n",
      "/Users/ryanmccarlie/.pyenv/versions/3.11.6/envs/PwC-Attrition-model-3.11/lib/python3.11/site-packages/xgboost/core.py:158: UserWarning: [19:24:15] WARNING: /Users/runner/work/xgboost/xgboost/src/learner.cc:740: \n",
      "Parameters: { \"use_label_encoder\" } are not used.\n",
      "\n",
      "  warnings.warn(smsg, UserWarning)\n"
     ]
    },
    {
     "name": "stdout",
     "output_type": "stream",
     "text": [
      "[CV] END classifier__colsample_bytree=1.0, classifier__learning_rate=0.1, classifier__max_depth=3, classifier__n_estimators=300, classifier__subsample=0.6; total time=   0.4s\n",
      "[CV] END classifier__colsample_bytree=0.6, classifier__learning_rate=0.2, classifier__max_depth=7, classifier__n_estimators=200, classifier__subsample=1.0; total time=   0.6s\n",
      "[CV] END classifier__colsample_bytree=1.0, classifier__learning_rate=0.1, classifier__max_depth=3, classifier__n_estimators=300, classifier__subsample=0.6; total time=   0.4s\n",
      "[CV] END classifier__colsample_bytree=0.8, classifier__learning_rate=0.1, classifier__max_depth=11, classifier__n_estimators=500, classifier__subsample=0.6; total time=   1.4s\n",
      "[CV] END classifier__colsample_bytree=0.6, classifier__learning_rate=0.2, classifier__max_depth=7, classifier__n_estimators=200, classifier__subsample=1.0; total time=   0.5s\n",
      "[CV] END classifier__colsample_bytree=0.6, classifier__learning_rate=0.2, classifier__max_depth=7, classifier__n_estimators=200, classifier__subsample=1.0; total time=   0.5s\n",
      "[CV] END classifier__colsample_bytree=0.8, classifier__learning_rate=0.1, classifier__max_depth=11, classifier__n_estimators=500, classifier__subsample=0.6; total time=   1.4s\n",
      "[CV] END classifier__colsample_bytree=1.0, classifier__learning_rate=0.1, classifier__max_depth=3, classifier__n_estimators=300, classifier__subsample=0.6; total time=   0.4s\n"
     ]
    },
    {
     "name": "stderr",
     "output_type": "stream",
     "text": [
      "/Users/ryanmccarlie/.pyenv/versions/3.11.6/envs/PwC-Attrition-model-3.11/lib/python3.11/site-packages/xgboost/core.py:158: UserWarning: [19:24:16] WARNING: /Users/runner/work/xgboost/xgboost/src/learner.cc:740: \n",
      "Parameters: { \"use_label_encoder\" } are not used.\n",
      "\n",
      "  warnings.warn(smsg, UserWarning)\n",
      "/Users/ryanmccarlie/.pyenv/versions/3.11.6/envs/PwC-Attrition-model-3.11/lib/python3.11/site-packages/xgboost/core.py:158: UserWarning: [19:24:16] WARNING: /Users/runner/work/xgboost/xgboost/src/learner.cc:740: \n",
      "Parameters: { \"use_label_encoder\" } are not used.\n",
      "\n",
      "  warnings.warn(smsg, UserWarning)\n",
      "/Users/ryanmccarlie/.pyenv/versions/3.11.6/envs/PwC-Attrition-model-3.11/lib/python3.11/site-packages/xgboost/core.py:158: UserWarning: [19:24:16] WARNING: /Users/runner/work/xgboost/xgboost/src/learner.cc:740: \n",
      "Parameters: { \"use_label_encoder\" } are not used.\n",
      "\n",
      "  warnings.warn(smsg, UserWarning)\n",
      "/Users/ryanmccarlie/.pyenv/versions/3.11.6/envs/PwC-Attrition-model-3.11/lib/python3.11/site-packages/xgboost/core.py:158: UserWarning: [19:24:16] WARNING: /Users/runner/work/xgboost/xgboost/src/learner.cc:740: \n",
      "Parameters: { \"use_label_encoder\" } are not used.\n",
      "\n",
      "  warnings.warn(smsg, UserWarning)\n",
      "/Users/ryanmccarlie/.pyenv/versions/3.11.6/envs/PwC-Attrition-model-3.11/lib/python3.11/site-packages/xgboost/core.py:158: UserWarning: [19:24:16] WARNING: /Users/runner/work/xgboost/xgboost/src/learner.cc:740: \n",
      "Parameters: { \"use_label_encoder\" } are not used.\n",
      "\n",
      "  warnings.warn(smsg, UserWarning)\n",
      "/Users/ryanmccarlie/.pyenv/versions/3.11.6/envs/PwC-Attrition-model-3.11/lib/python3.11/site-packages/xgboost/core.py:158: UserWarning: [19:24:16] WARNING: /Users/runner/work/xgboost/xgboost/src/learner.cc:740: \n",
      "Parameters: { \"use_label_encoder\" } are not used.\n",
      "\n",
      "  warnings.warn(smsg, UserWarning)\n",
      "/Users/ryanmccarlie/.pyenv/versions/3.11.6/envs/PwC-Attrition-model-3.11/lib/python3.11/site-packages/xgboost/core.py:158: UserWarning: [19:24:16] WARNING: /Users/runner/work/xgboost/xgboost/src/learner.cc:740: \n",
      "Parameters: { \"use_label_encoder\" } are not used.\n",
      "\n",
      "  warnings.warn(smsg, UserWarning)\n",
      "/Users/ryanmccarlie/.pyenv/versions/3.11.6/envs/PwC-Attrition-model-3.11/lib/python3.11/site-packages/xgboost/core.py:158: UserWarning: [19:24:16] WARNING: /Users/runner/work/xgboost/xgboost/src/learner.cc:740: \n",
      "Parameters: { \"use_label_encoder\" } are not used.\n",
      "\n",
      "  warnings.warn(smsg, UserWarning)\n"
     ]
    },
    {
     "name": "stdout",
     "output_type": "stream",
     "text": [
      "[CV] END classifier__colsample_bytree=1.0, classifier__learning_rate=0.1, classifier__max_depth=3, classifier__n_estimators=300, classifier__subsample=0.6; total time=   0.3s\n",
      "[CV] END classifier__colsample_bytree=1.0, classifier__learning_rate=0.1, classifier__max_depth=3, classifier__n_estimators=300, classifier__subsample=0.6; total time=   0.4s\n",
      "[CV] END classifier__colsample_bytree=0.8, classifier__learning_rate=0.2, classifier__max_depth=3, classifier__n_estimators=300, classifier__subsample=0.6; total time=   0.3s\n"
     ]
    },
    {
     "name": "stderr",
     "output_type": "stream",
     "text": [
      "/Users/ryanmccarlie/.pyenv/versions/3.11.6/envs/PwC-Attrition-model-3.11/lib/python3.11/site-packages/xgboost/core.py:158: UserWarning: [19:24:16] WARNING: /Users/runner/work/xgboost/xgboost/src/learner.cc:740: \n",
      "Parameters: { \"use_label_encoder\" } are not used.\n",
      "\n",
      "  warnings.warn(smsg, UserWarning)\n",
      "/Users/ryanmccarlie/.pyenv/versions/3.11.6/envs/PwC-Attrition-model-3.11/lib/python3.11/site-packages/xgboost/core.py:158: UserWarning: [19:24:16] WARNING: /Users/runner/work/xgboost/xgboost/src/learner.cc:740: \n",
      "Parameters: { \"use_label_encoder\" } are not used.\n",
      "\n",
      "  warnings.warn(smsg, UserWarning)\n",
      "/Users/ryanmccarlie/.pyenv/versions/3.11.6/envs/PwC-Attrition-model-3.11/lib/python3.11/site-packages/xgboost/core.py:158: UserWarning: [19:24:16] WARNING: /Users/runner/work/xgboost/xgboost/src/learner.cc:740: \n",
      "Parameters: { \"use_label_encoder\" } are not used.\n",
      "\n",
      "  warnings.warn(smsg, UserWarning)\n"
     ]
    },
    {
     "name": "stdout",
     "output_type": "stream",
     "text": [
      "[CV] END classifier__colsample_bytree=0.8, classifier__learning_rate=0.2, classifier__max_depth=3, classifier__n_estimators=300, classifier__subsample=0.6; total time=   0.3s\n",
      "[CV] END classifier__colsample_bytree=0.8, classifier__learning_rate=0.2, classifier__max_depth=3, classifier__n_estimators=300, classifier__subsample=0.6; total time=   0.3s\n"
     ]
    },
    {
     "name": "stderr",
     "output_type": "stream",
     "text": [
      "/Users/ryanmccarlie/.pyenv/versions/3.11.6/envs/PwC-Attrition-model-3.11/lib/python3.11/site-packages/xgboost/core.py:158: UserWarning: [19:24:16] WARNING: /Users/runner/work/xgboost/xgboost/src/learner.cc:740: \n",
      "Parameters: { \"use_label_encoder\" } are not used.\n",
      "\n",
      "  warnings.warn(smsg, UserWarning)\n",
      "/Users/ryanmccarlie/.pyenv/versions/3.11.6/envs/PwC-Attrition-model-3.11/lib/python3.11/site-packages/xgboost/core.py:158: UserWarning: [19:24:16] WARNING: /Users/runner/work/xgboost/xgboost/src/learner.cc:740: \n",
      "Parameters: { \"use_label_encoder\" } are not used.\n",
      "\n",
      "  warnings.warn(smsg, UserWarning)\n"
     ]
    },
    {
     "name": "stdout",
     "output_type": "stream",
     "text": [
      "[CV] END classifier__colsample_bytree=0.8, classifier__learning_rate=0.2, classifier__max_depth=3, classifier__n_estimators=300, classifier__subsample=0.6; total time=   0.3s\n",
      "[CV] END classifier__colsample_bytree=1.0, classifier__learning_rate=0.01, classifier__max_depth=5, classifier__n_estimators=100, classifier__subsample=0.6; total time=   0.2s\n",
      "[CV] END classifier__colsample_bytree=0.8, classifier__learning_rate=0.2, classifier__max_depth=3, classifier__n_estimators=300, classifier__subsample=0.6; total time=   0.3s\n",
      "[CV] END classifier__colsample_bytree=0.6, classifier__learning_rate=0.2, classifier__max_depth=11, classifier__n_estimators=500, classifier__subsample=0.8; total time=   0.9s\n"
     ]
    },
    {
     "name": "stderr",
     "output_type": "stream",
     "text": [
      "/Users/ryanmccarlie/.pyenv/versions/3.11.6/envs/PwC-Attrition-model-3.11/lib/python3.11/site-packages/xgboost/core.py:158: UserWarning: [19:24:16] WARNING: /Users/runner/work/xgboost/xgboost/src/learner.cc:740: \n",
      "Parameters: { \"use_label_encoder\" } are not used.\n",
      "\n",
      "  warnings.warn(smsg, UserWarning)\n",
      "/Users/ryanmccarlie/.pyenv/versions/3.11.6/envs/PwC-Attrition-model-3.11/lib/python3.11/site-packages/xgboost/core.py:158: UserWarning: [19:24:16] WARNING: /Users/runner/work/xgboost/xgboost/src/learner.cc:740: \n",
      "Parameters: { \"use_label_encoder\" } are not used.\n",
      "\n",
      "  warnings.warn(smsg, UserWarning)\n",
      "/Users/ryanmccarlie/.pyenv/versions/3.11.6/envs/PwC-Attrition-model-3.11/lib/python3.11/site-packages/xgboost/core.py:158: UserWarning: [19:24:16] WARNING: /Users/runner/work/xgboost/xgboost/src/learner.cc:740: \n",
      "Parameters: { \"use_label_encoder\" } are not used.\n",
      "\n",
      "  warnings.warn(smsg, UserWarning)\n",
      "/Users/ryanmccarlie/.pyenv/versions/3.11.6/envs/PwC-Attrition-model-3.11/lib/python3.11/site-packages/xgboost/core.py:158: UserWarning: [19:24:16] WARNING: /Users/runner/work/xgboost/xgboost/src/learner.cc:740: \n",
      "Parameters: { \"use_label_encoder\" } are not used.\n",
      "\n",
      "  warnings.warn(smsg, UserWarning)\n",
      "/Users/ryanmccarlie/.pyenv/versions/3.11.6/envs/PwC-Attrition-model-3.11/lib/python3.11/site-packages/xgboost/core.py:158: UserWarning: [19:24:17] WARNING: /Users/runner/work/xgboost/xgboost/src/learner.cc:740: \n",
      "Parameters: { \"use_label_encoder\" } are not used.\n",
      "\n",
      "  warnings.warn(smsg, UserWarning)\n"
     ]
    },
    {
     "name": "stdout",
     "output_type": "stream",
     "text": [
      "[CV] END classifier__colsample_bytree=0.6, classifier__learning_rate=0.2, classifier__max_depth=11, classifier__n_estimators=500, classifier__subsample=0.8; total time=   1.0s\n",
      "[CV] END classifier__colsample_bytree=0.6, classifier__learning_rate=0.2, classifier__max_depth=11, classifier__n_estimators=500, classifier__subsample=0.8; total time=   1.0s\n",
      "[CV] END classifier__colsample_bytree=0.6, classifier__learning_rate=0.2, classifier__max_depth=11, classifier__n_estimators=500, classifier__subsample=0.8; total time=   1.0s\n",
      "[CV] END classifier__colsample_bytree=1.0, classifier__learning_rate=0.01, classifier__max_depth=5, classifier__n_estimators=100, classifier__subsample=0.6; total time=   0.2s\n",
      "[CV] END classifier__colsample_bytree=0.6, classifier__learning_rate=0.2, classifier__max_depth=11, classifier__n_estimators=500, classifier__subsample=0.8; total time=   1.0s\n",
      "[CV] END classifier__colsample_bytree=1.0, classifier__learning_rate=0.01, classifier__max_depth=5, classifier__n_estimators=100, classifier__subsample=0.6; total time=   0.2s\n",
      "[CV] END classifier__colsample_bytree=1.0, classifier__learning_rate=0.01, classifier__max_depth=5, classifier__n_estimators=100, classifier__subsample=0.6; total time=   0.2s\n",
      "[CV] END classifier__colsample_bytree=1.0, classifier__learning_rate=0.01, classifier__max_depth=5, classifier__n_estimators=100, classifier__subsample=0.6; total time=   0.2s\n"
     ]
    },
    {
     "name": "stderr",
     "output_type": "stream",
     "text": [
      "/Users/ryanmccarlie/.pyenv/versions/3.11.6/envs/PwC-Attrition-model-3.11/lib/python3.11/site-packages/xgboost/core.py:158: UserWarning: [19:24:17] WARNING: /Users/runner/work/xgboost/xgboost/src/learner.cc:740: \n",
      "Parameters: { \"use_label_encoder\" } are not used.\n",
      "\n",
      "  warnings.warn(smsg, UserWarning)\n",
      "/Users/ryanmccarlie/.pyenv/versions/3.11.6/envs/PwC-Attrition-model-3.11/lib/python3.11/site-packages/xgboost/core.py:158: UserWarning: [19:24:17] WARNING: /Users/runner/work/xgboost/xgboost/src/learner.cc:740: \n",
      "Parameters: { \"use_label_encoder\" } are not used.\n",
      "\n",
      "  warnings.warn(smsg, UserWarning)\n",
      "/Users/ryanmccarlie/.pyenv/versions/3.11.6/envs/PwC-Attrition-model-3.11/lib/python3.11/site-packages/xgboost/core.py:158: UserWarning: [19:24:17] WARNING: /Users/runner/work/xgboost/xgboost/src/learner.cc:740: \n",
      "Parameters: { \"use_label_encoder\" } are not used.\n",
      "\n",
      "  warnings.warn(smsg, UserWarning)\n",
      "/Users/ryanmccarlie/.pyenv/versions/3.11.6/envs/PwC-Attrition-model-3.11/lib/python3.11/site-packages/xgboost/core.py:158: UserWarning: [19:24:17] WARNING: /Users/runner/work/xgboost/xgboost/src/learner.cc:740: \n",
      "Parameters: { \"use_label_encoder\" } are not used.\n",
      "\n",
      "  warnings.warn(smsg, UserWarning)\n",
      "/Users/ryanmccarlie/.pyenv/versions/3.11.6/envs/PwC-Attrition-model-3.11/lib/python3.11/site-packages/xgboost/core.py:158: UserWarning: [19:24:17] WARNING: /Users/runner/work/xgboost/xgboost/src/learner.cc:740: \n",
      "Parameters: { \"use_label_encoder\" } are not used.\n",
      "\n",
      "  warnings.warn(smsg, UserWarning)\n",
      "/Users/ryanmccarlie/.pyenv/versions/3.11.6/envs/PwC-Attrition-model-3.11/lib/python3.11/site-packages/xgboost/core.py:158: UserWarning: [19:24:17] WARNING: /Users/runner/work/xgboost/xgboost/src/learner.cc:740: \n",
      "Parameters: { \"use_label_encoder\" } are not used.\n",
      "\n",
      "  warnings.warn(smsg, UserWarning)\n",
      "/Users/ryanmccarlie/.pyenv/versions/3.11.6/envs/PwC-Attrition-model-3.11/lib/python3.11/site-packages/xgboost/core.py:158: UserWarning: [19:24:17] WARNING: /Users/runner/work/xgboost/xgboost/src/learner.cc:740: \n",
      "Parameters: { \"use_label_encoder\" } are not used.\n",
      "\n",
      "  warnings.warn(smsg, UserWarning)\n"
     ]
    },
    {
     "name": "stdout",
     "output_type": "stream",
     "text": [
      "[CV] END classifier__colsample_bytree=1.0, classifier__learning_rate=0.05, classifier__max_depth=3, classifier__n_estimators=100, classifier__subsample=0.6; total time=   0.2s\n",
      "[CV] END classifier__colsample_bytree=1.0, classifier__learning_rate=0.05, classifier__max_depth=3, classifier__n_estimators=100, classifier__subsample=0.6; total time=   0.2s\n",
      "[CV] END classifier__colsample_bytree=1.0, classifier__learning_rate=0.05, classifier__max_depth=3, classifier__n_estimators=100, classifier__subsample=0.6; total time=   0.2s\n",
      "[CV] END classifier__colsample_bytree=1.0, classifier__learning_rate=0.05, classifier__max_depth=3, classifier__n_estimators=100, classifier__subsample=0.6; total time=   0.3s\n",
      "[CV] END classifier__colsample_bytree=1.0, classifier__learning_rate=0.05, classifier__max_depth=3, classifier__n_estimators=100, classifier__subsample=0.6; total time=   0.3s\n"
     ]
    },
    {
     "name": "stderr",
     "output_type": "stream",
     "text": [
      "/Users/ryanmccarlie/.pyenv/versions/3.11.6/envs/PwC-Attrition-model-3.11/lib/python3.11/site-packages/xgboost/core.py:158: UserWarning: [19:24:17] WARNING: /Users/runner/work/xgboost/xgboost/src/learner.cc:740: \n",
      "Parameters: { \"use_label_encoder\" } are not used.\n",
      "\n",
      "  warnings.warn(smsg, UserWarning)\n",
      "/Users/ryanmccarlie/.pyenv/versions/3.11.6/envs/PwC-Attrition-model-3.11/lib/python3.11/site-packages/xgboost/core.py:158: UserWarning: [19:24:17] WARNING: /Users/runner/work/xgboost/xgboost/src/learner.cc:740: \n",
      "Parameters: { \"use_label_encoder\" } are not used.\n",
      "\n",
      "  warnings.warn(smsg, UserWarning)\n",
      "/Users/ryanmccarlie/.pyenv/versions/3.11.6/envs/PwC-Attrition-model-3.11/lib/python3.11/site-packages/xgboost/core.py:158: UserWarning: [19:24:17] WARNING: /Users/runner/work/xgboost/xgboost/src/learner.cc:740: \n",
      "Parameters: { \"use_label_encoder\" } are not used.\n",
      "\n",
      "  warnings.warn(smsg, UserWarning)\n",
      "/Users/ryanmccarlie/.pyenv/versions/3.11.6/envs/PwC-Attrition-model-3.11/lib/python3.11/site-packages/xgboost/core.py:158: UserWarning: [19:24:17] WARNING: /Users/runner/work/xgboost/xgboost/src/learner.cc:740: \n",
      "Parameters: { \"use_label_encoder\" } are not used.\n",
      "\n",
      "  warnings.warn(smsg, UserWarning)\n",
      "/Users/ryanmccarlie/.pyenv/versions/3.11.6/envs/PwC-Attrition-model-3.11/lib/python3.11/site-packages/xgboost/core.py:158: UserWarning: [19:24:17] WARNING: /Users/runner/work/xgboost/xgboost/src/learner.cc:740: \n",
      "Parameters: { \"use_label_encoder\" } are not used.\n",
      "\n",
      "  warnings.warn(smsg, UserWarning)\n"
     ]
    },
    {
     "name": "stdout",
     "output_type": "stream",
     "text": [
      "[CV] END classifier__colsample_bytree=0.6, classifier__learning_rate=0.01, classifier__max_depth=5, classifier__n_estimators=300, classifier__subsample=1.0; total time=   0.6s\n",
      "[CV] END classifier__colsample_bytree=0.6, classifier__learning_rate=0.01, classifier__max_depth=5, classifier__n_estimators=300, classifier__subsample=1.0; total time=   0.6s\n",
      "[CV] END classifier__colsample_bytree=0.6, classifier__learning_rate=0.01, classifier__max_depth=5, classifier__n_estimators=300, classifier__subsample=1.0; total time=   0.7s\n",
      "[CV] END classifier__colsample_bytree=0.6, classifier__learning_rate=0.01, classifier__max_depth=5, classifier__n_estimators=300, classifier__subsample=1.0; total time=   0.6s\n",
      "[CV] END classifier__colsample_bytree=0.6, classifier__learning_rate=0.01, classifier__max_depth=5, classifier__n_estimators=300, classifier__subsample=1.0; total time=   0.6s\n"
     ]
    },
    {
     "name": "stderr",
     "output_type": "stream",
     "text": [
      "/Users/ryanmccarlie/.pyenv/versions/3.11.6/envs/PwC-Attrition-model-3.11/lib/python3.11/site-packages/xgboost/core.py:158: UserWarning: [19:24:17] WARNING: /Users/runner/work/xgboost/xgboost/src/learner.cc:740: \n",
      "Parameters: { \"use_label_encoder\" } are not used.\n",
      "\n",
      "  warnings.warn(smsg, UserWarning)\n",
      "/Users/ryanmccarlie/.pyenv/versions/3.11.6/envs/PwC-Attrition-model-3.11/lib/python3.11/site-packages/xgboost/core.py:158: UserWarning: [19:24:17] WARNING: /Users/runner/work/xgboost/xgboost/src/learner.cc:740: \n",
      "Parameters: { \"use_label_encoder\" } are not used.\n",
      "\n",
      "  warnings.warn(smsg, UserWarning)\n",
      "/Users/ryanmccarlie/.pyenv/versions/3.11.6/envs/PwC-Attrition-model-3.11/lib/python3.11/site-packages/xgboost/core.py:158: UserWarning: [19:24:17] WARNING: /Users/runner/work/xgboost/xgboost/src/learner.cc:740: \n",
      "Parameters: { \"use_label_encoder\" } are not used.\n",
      "\n",
      "  warnings.warn(smsg, UserWarning)\n",
      "/Users/ryanmccarlie/.pyenv/versions/3.11.6/envs/PwC-Attrition-model-3.11/lib/python3.11/site-packages/xgboost/core.py:158: UserWarning: [19:24:18] WARNING: /Users/runner/work/xgboost/xgboost/src/learner.cc:740: \n",
      "Parameters: { \"use_label_encoder\" } are not used.\n",
      "\n",
      "  warnings.warn(smsg, UserWarning)\n",
      "/Users/ryanmccarlie/.pyenv/versions/3.11.6/envs/PwC-Attrition-model-3.11/lib/python3.11/site-packages/xgboost/core.py:158: UserWarning: [19:24:18] WARNING: /Users/runner/work/xgboost/xgboost/src/learner.cc:740: \n",
      "Parameters: { \"use_label_encoder\" } are not used.\n",
      "\n",
      "  warnings.warn(smsg, UserWarning)\n"
     ]
    },
    {
     "name": "stdout",
     "output_type": "stream",
     "text": [
      "[CV] END classifier__colsample_bytree=0.8, classifier__learning_rate=0.2, classifier__max_depth=11, classifier__n_estimators=200, classifier__subsample=0.8; total time=   0.8s\n",
      "[CV] END classifier__colsample_bytree=0.8, classifier__learning_rate=0.2, classifier__max_depth=11, classifier__n_estimators=200, classifier__subsample=0.8; total time=   0.8s\n",
      "[CV] END classifier__colsample_bytree=0.8, classifier__learning_rate=0.2, classifier__max_depth=11, classifier__n_estimators=200, classifier__subsample=0.8; total time=   1.0s\n"
     ]
    },
    {
     "name": "stderr",
     "output_type": "stream",
     "text": [
      "/Users/ryanmccarlie/.pyenv/versions/3.11.6/envs/PwC-Attrition-model-3.11/lib/python3.11/site-packages/xgboost/core.py:158: UserWarning: [19:24:18] WARNING: /Users/runner/work/xgboost/xgboost/src/learner.cc:740: \n",
      "Parameters: { \"use_label_encoder\" } are not used.\n",
      "\n",
      "  warnings.warn(smsg, UserWarning)\n",
      "/Users/ryanmccarlie/.pyenv/versions/3.11.6/envs/PwC-Attrition-model-3.11/lib/python3.11/site-packages/xgboost/core.py:158: UserWarning: [19:24:18] WARNING: /Users/runner/work/xgboost/xgboost/src/learner.cc:740: \n",
      "Parameters: { \"use_label_encoder\" } are not used.\n",
      "\n",
      "  warnings.warn(smsg, UserWarning)\n",
      "/Users/ryanmccarlie/.pyenv/versions/3.11.6/envs/PwC-Attrition-model-3.11/lib/python3.11/site-packages/xgboost/core.py:158: UserWarning: [19:24:18] WARNING: /Users/runner/work/xgboost/xgboost/src/learner.cc:740: \n",
      "Parameters: { \"use_label_encoder\" } are not used.\n",
      "\n",
      "  warnings.warn(smsg, UserWarning)\n"
     ]
    },
    {
     "name": "stdout",
     "output_type": "stream",
     "text": [
      "[CV] END classifier__colsample_bytree=0.8, classifier__learning_rate=0.2, classifier__max_depth=11, classifier__n_estimators=200, classifier__subsample=0.8; total time=   0.7s\n",
      "[CV] END classifier__colsample_bytree=0.8, classifier__learning_rate=0.2, classifier__max_depth=11, classifier__n_estimators=200, classifier__subsample=0.8; total time=   0.8s\n"
     ]
    },
    {
     "name": "stderr",
     "output_type": "stream",
     "text": [
      "/Users/ryanmccarlie/.pyenv/versions/3.11.6/envs/PwC-Attrition-model-3.11/lib/python3.11/site-packages/xgboost/core.py:158: UserWarning: [19:24:18] WARNING: /Users/runner/work/xgboost/xgboost/src/learner.cc:740: \n",
      "Parameters: { \"use_label_encoder\" } are not used.\n",
      "\n",
      "  warnings.warn(smsg, UserWarning)\n",
      "/Users/ryanmccarlie/.pyenv/versions/3.11.6/envs/PwC-Attrition-model-3.11/lib/python3.11/site-packages/xgboost/core.py:158: UserWarning: [19:24:18] WARNING: /Users/runner/work/xgboost/xgboost/src/learner.cc:740: \n",
      "Parameters: { \"use_label_encoder\" } are not used.\n",
      "\n",
      "  warnings.warn(smsg, UserWarning)\n"
     ]
    },
    {
     "name": "stdout",
     "output_type": "stream",
     "text": [
      "[CV] END classifier__colsample_bytree=0.8, classifier__learning_rate=0.05, classifier__max_depth=9, classifier__n_estimators=400, classifier__subsample=1.0; total time=   1.3s\n",
      "[CV] END classifier__colsample_bytree=0.8, classifier__learning_rate=0.05, classifier__max_depth=9, classifier__n_estimators=400, classifier__subsample=1.0; total time=   1.4s\n",
      "[CV] END classifier__colsample_bytree=0.8, classifier__learning_rate=0.05, classifier__max_depth=9, classifier__n_estimators=400, classifier__subsample=1.0; total time=   1.2s\n"
     ]
    },
    {
     "name": "stderr",
     "output_type": "stream",
     "text": [
      "/Users/ryanmccarlie/.pyenv/versions/3.11.6/envs/PwC-Attrition-model-3.11/lib/python3.11/site-packages/xgboost/core.py:158: UserWarning: [19:24:19] WARNING: /Users/runner/work/xgboost/xgboost/src/learner.cc:740: \n",
      "Parameters: { \"use_label_encoder\" } are not used.\n",
      "\n",
      "  warnings.warn(smsg, UserWarning)\n",
      "/Users/ryanmccarlie/.pyenv/versions/3.11.6/envs/PwC-Attrition-model-3.11/lib/python3.11/site-packages/xgboost/core.py:158: UserWarning: [19:24:19] WARNING: /Users/runner/work/xgboost/xgboost/src/learner.cc:740: \n",
      "Parameters: { \"use_label_encoder\" } are not used.\n",
      "\n",
      "  warnings.warn(smsg, UserWarning)\n",
      "/Users/ryanmccarlie/.pyenv/versions/3.11.6/envs/PwC-Attrition-model-3.11/lib/python3.11/site-packages/xgboost/core.py:158: UserWarning: [19:24:19] WARNING: /Users/runner/work/xgboost/xgboost/src/learner.cc:740: \n",
      "Parameters: { \"use_label_encoder\" } are not used.\n",
      "\n",
      "  warnings.warn(smsg, UserWarning)\n"
     ]
    },
    {
     "name": "stdout",
     "output_type": "stream",
     "text": [
      "[CV] END classifier__colsample_bytree=0.6, classifier__learning_rate=0.1, classifier__max_depth=9, classifier__n_estimators=500, classifier__subsample=1.0; total time=   1.1s\n",
      "[CV] END classifier__colsample_bytree=0.8, classifier__learning_rate=0.05, classifier__max_depth=9, classifier__n_estimators=400, classifier__subsample=1.0; total time=   1.2s\n",
      "[CV] END classifier__colsample_bytree=0.8, classifier__learning_rate=0.05, classifier__max_depth=9, classifier__n_estimators=400, classifier__subsample=1.0; total time=   1.3s\n",
      "[CV] END classifier__colsample_bytree=0.6, classifier__learning_rate=0.1, classifier__max_depth=9, classifier__n_estimators=500, classifier__subsample=1.0; total time=   1.0s\n"
     ]
    },
    {
     "name": "stderr",
     "output_type": "stream",
     "text": [
      "/Users/ryanmccarlie/.pyenv/versions/3.11.6/envs/PwC-Attrition-model-3.11/lib/python3.11/site-packages/xgboost/core.py:158: UserWarning: [19:24:19] WARNING: /Users/runner/work/xgboost/xgboost/src/learner.cc:740: \n",
      "Parameters: { \"use_label_encoder\" } are not used.\n",
      "\n",
      "  warnings.warn(smsg, UserWarning)\n",
      "/Users/ryanmccarlie/.pyenv/versions/3.11.6/envs/PwC-Attrition-model-3.11/lib/python3.11/site-packages/xgboost/core.py:158: UserWarning: [19:24:19] WARNING: /Users/runner/work/xgboost/xgboost/src/learner.cc:740: \n",
      "Parameters: { \"use_label_encoder\" } are not used.\n",
      "\n",
      "  warnings.warn(smsg, UserWarning)\n",
      "/Users/ryanmccarlie/.pyenv/versions/3.11.6/envs/PwC-Attrition-model-3.11/lib/python3.11/site-packages/xgboost/core.py:158: UserWarning: [19:24:19] WARNING: /Users/runner/work/xgboost/xgboost/src/learner.cc:740: \n",
      "Parameters: { \"use_label_encoder\" } are not used.\n",
      "\n",
      "  warnings.warn(smsg, UserWarning)\n",
      "/Users/ryanmccarlie/.pyenv/versions/3.11.6/envs/PwC-Attrition-model-3.11/lib/python3.11/site-packages/xgboost/core.py:158: UserWarning: [19:24:19] WARNING: /Users/runner/work/xgboost/xgboost/src/learner.cc:740: \n",
      "Parameters: { \"use_label_encoder\" } are not used.\n",
      "\n",
      "  warnings.warn(smsg, UserWarning)\n"
     ]
    },
    {
     "name": "stdout",
     "output_type": "stream",
     "text": [
      "[CV] END classifier__colsample_bytree=0.6, classifier__learning_rate=0.1, classifier__max_depth=9, classifier__n_estimators=500, classifier__subsample=1.0; total time=   1.2s\n"
     ]
    },
    {
     "name": "stderr",
     "output_type": "stream",
     "text": [
      "/Users/ryanmccarlie/.pyenv/versions/3.11.6/envs/PwC-Attrition-model-3.11/lib/python3.11/site-packages/xgboost/core.py:158: UserWarning: [19:24:19] WARNING: /Users/runner/work/xgboost/xgboost/src/learner.cc:740: \n",
      "Parameters: { \"use_label_encoder\" } are not used.\n",
      "\n",
      "  warnings.warn(smsg, UserWarning)\n"
     ]
    },
    {
     "name": "stdout",
     "output_type": "stream",
     "text": [
      "[CV] END classifier__colsample_bytree=0.6, classifier__learning_rate=0.01, classifier__max_depth=11, classifier__n_estimators=200, classifier__subsample=0.6; total time=   0.9s\n",
      "[CV] END classifier__colsample_bytree=0.6, classifier__learning_rate=0.2, classifier__max_depth=3, classifier__n_estimators=500, classifier__subsample=1.0; total time=   0.5s\n",
      "[CV] END classifier__colsample_bytree=0.6, classifier__learning_rate=0.1, classifier__max_depth=9, classifier__n_estimators=500, classifier__subsample=1.0; total time=   1.1s\n",
      "[CV] END classifier__colsample_bytree=0.6, classifier__learning_rate=0.01, classifier__max_depth=11, classifier__n_estimators=200, classifier__subsample=0.6; total time=   0.9s\n",
      "[CV] END classifier__colsample_bytree=0.6, classifier__learning_rate=0.1, classifier__max_depth=9, classifier__n_estimators=500, classifier__subsample=1.0; total time=   1.1s\n",
      "[CV] END classifier__colsample_bytree=0.6, classifier__learning_rate=0.01, classifier__max_depth=11, classifier__n_estimators=200, classifier__subsample=0.6; total time=   0.9s\n"
     ]
    },
    {
     "name": "stderr",
     "output_type": "stream",
     "text": [
      "/Users/ryanmccarlie/.pyenv/versions/3.11.6/envs/PwC-Attrition-model-3.11/lib/python3.11/site-packages/xgboost/core.py:158: UserWarning: [19:24:20] WARNING: /Users/runner/work/xgboost/xgboost/src/learner.cc:740: \n",
      "Parameters: { \"use_label_encoder\" } are not used.\n",
      "\n",
      "  warnings.warn(smsg, UserWarning)\n",
      "/Users/ryanmccarlie/.pyenv/versions/3.11.6/envs/PwC-Attrition-model-3.11/lib/python3.11/site-packages/xgboost/core.py:158: UserWarning: [19:24:20] WARNING: /Users/runner/work/xgboost/xgboost/src/learner.cc:740: \n",
      "Parameters: { \"use_label_encoder\" } are not used.\n",
      "\n",
      "  warnings.warn(smsg, UserWarning)\n",
      "/Users/ryanmccarlie/.pyenv/versions/3.11.6/envs/PwC-Attrition-model-3.11/lib/python3.11/site-packages/xgboost/core.py:158: UserWarning: [19:24:20] WARNING: /Users/runner/work/xgboost/xgboost/src/learner.cc:740: \n",
      "Parameters: { \"use_label_encoder\" } are not used.\n",
      "\n",
      "  warnings.warn(smsg, UserWarning)\n",
      "/Users/ryanmccarlie/.pyenv/versions/3.11.6/envs/PwC-Attrition-model-3.11/lib/python3.11/site-packages/xgboost/core.py:158: UserWarning: [19:24:20] WARNING: /Users/runner/work/xgboost/xgboost/src/learner.cc:740: \n",
      "Parameters: { \"use_label_encoder\" } are not used.\n",
      "\n",
      "  warnings.warn(smsg, UserWarning)\n",
      "/Users/ryanmccarlie/.pyenv/versions/3.11.6/envs/PwC-Attrition-model-3.11/lib/python3.11/site-packages/xgboost/core.py:158: UserWarning: [19:24:20] WARNING: /Users/runner/work/xgboost/xgboost/src/learner.cc:740: \n",
      "Parameters: { \"use_label_encoder\" } are not used.\n",
      "\n",
      "  warnings.warn(smsg, UserWarning)\n",
      "/Users/ryanmccarlie/.pyenv/versions/3.11.6/envs/PwC-Attrition-model-3.11/lib/python3.11/site-packages/xgboost/core.py:158: UserWarning: [19:24:20] WARNING: /Users/runner/work/xgboost/xgboost/src/learner.cc:740: \n",
      "Parameters: { \"use_label_encoder\" } are not used.\n",
      "\n",
      "  warnings.warn(smsg, UserWarning)\n"
     ]
    },
    {
     "name": "stdout",
     "output_type": "stream",
     "text": [
      "[CV] END classifier__colsample_bytree=0.6, classifier__learning_rate=0.01, classifier__max_depth=11, classifier__n_estimators=200, classifier__subsample=0.6; total time=   0.9s\n",
      "[CV] END classifier__colsample_bytree=0.6, classifier__learning_rate=0.01, classifier__max_depth=11, classifier__n_estimators=200, classifier__subsample=0.6; total time=   0.9s\n",
      "[CV] END classifier__colsample_bytree=0.6, classifier__learning_rate=0.2, classifier__max_depth=3, classifier__n_estimators=500, classifier__subsample=1.0; total time=   0.4s\n",
      "[CV] END classifier__colsample_bytree=0.6, classifier__learning_rate=0.2, classifier__max_depth=3, classifier__n_estimators=500, classifier__subsample=1.0; total time=   0.4s\n"
     ]
    },
    {
     "name": "stderr",
     "output_type": "stream",
     "text": [
      "/Users/ryanmccarlie/.pyenv/versions/3.11.6/envs/PwC-Attrition-model-3.11/lib/python3.11/site-packages/xgboost/core.py:158: UserWarning: [19:24:20] WARNING: /Users/runner/work/xgboost/xgboost/src/learner.cc:740: \n",
      "Parameters: { \"use_label_encoder\" } are not used.\n",
      "\n",
      "  warnings.warn(smsg, UserWarning)\n",
      "/Users/ryanmccarlie/.pyenv/versions/3.11.6/envs/PwC-Attrition-model-3.11/lib/python3.11/site-packages/xgboost/core.py:158: UserWarning: [19:24:20] WARNING: /Users/runner/work/xgboost/xgboost/src/learner.cc:740: \n",
      "Parameters: { \"use_label_encoder\" } are not used.\n",
      "\n",
      "  warnings.warn(smsg, UserWarning)\n",
      "/Users/ryanmccarlie/.pyenv/versions/3.11.6/envs/PwC-Attrition-model-3.11/lib/python3.11/site-packages/xgboost/core.py:158: UserWarning: [19:24:20] WARNING: /Users/runner/work/xgboost/xgboost/src/learner.cc:740: \n",
      "Parameters: { \"use_label_encoder\" } are not used.\n",
      "\n",
      "  warnings.warn(smsg, UserWarning)\n",
      "/Users/ryanmccarlie/.pyenv/versions/3.11.6/envs/PwC-Attrition-model-3.11/lib/python3.11/site-packages/xgboost/core.py:158: UserWarning: [19:24:20] WARNING: /Users/runner/work/xgboost/xgboost/src/learner.cc:740: \n",
      "Parameters: { \"use_label_encoder\" } are not used.\n",
      "\n",
      "  warnings.warn(smsg, UserWarning)\n"
     ]
    },
    {
     "name": "stdout",
     "output_type": "stream",
     "text": [
      "[CV] END classifier__colsample_bytree=0.6, classifier__learning_rate=0.2, classifier__max_depth=3, classifier__n_estimators=500, classifier__subsample=1.0; total time=   0.4s\n",
      "[CV] END classifier__colsample_bytree=0.6, classifier__learning_rate=0.2, classifier__max_depth=3, classifier__n_estimators=500, classifier__subsample=1.0; total time=   0.4s\n"
     ]
    },
    {
     "name": "stderr",
     "output_type": "stream",
     "text": [
      "/Users/ryanmccarlie/.pyenv/versions/3.11.6/envs/PwC-Attrition-model-3.11/lib/python3.11/site-packages/xgboost/core.py:158: UserWarning: [19:24:20] WARNING: /Users/runner/work/xgboost/xgboost/src/learner.cc:740: \n",
      "Parameters: { \"use_label_encoder\" } are not used.\n",
      "\n",
      "  warnings.warn(smsg, UserWarning)\n",
      "/Users/ryanmccarlie/.pyenv/versions/3.11.6/envs/PwC-Attrition-model-3.11/lib/python3.11/site-packages/xgboost/core.py:158: UserWarning: [19:24:20] WARNING: /Users/runner/work/xgboost/xgboost/src/learner.cc:740: \n",
      "Parameters: { \"use_label_encoder\" } are not used.\n",
      "\n",
      "  warnings.warn(smsg, UserWarning)\n"
     ]
    },
    {
     "name": "stdout",
     "output_type": "stream",
     "text": [
      "[CV] END classifier__colsample_bytree=1.0, classifier__learning_rate=0.05, classifier__max_depth=11, classifier__n_estimators=400, classifier__subsample=0.6; total time=   1.5s\n",
      "[CV] END classifier__colsample_bytree=1.0, classifier__learning_rate=0.05, classifier__max_depth=11, classifier__n_estimators=400, classifier__subsample=0.6; total time=   1.5s\n"
     ]
    },
    {
     "name": "stderr",
     "output_type": "stream",
     "text": [
      "/Users/ryanmccarlie/.pyenv/versions/3.11.6/envs/PwC-Attrition-model-3.11/lib/python3.11/site-packages/xgboost/core.py:158: UserWarning: [19:24:22] WARNING: /Users/runner/work/xgboost/xgboost/src/learner.cc:740: \n",
      "Parameters: { \"use_label_encoder\" } are not used.\n",
      "\n",
      "  warnings.warn(smsg, UserWarning)\n",
      "/Users/ryanmccarlie/.pyenv/versions/3.11.6/envs/PwC-Attrition-model-3.11/lib/python3.11/site-packages/xgboost/core.py:158: UserWarning: [19:24:22] WARNING: /Users/runner/work/xgboost/xgboost/src/learner.cc:740: \n",
      "Parameters: { \"use_label_encoder\" } are not used.\n",
      "\n",
      "  warnings.warn(smsg, UserWarning)\n"
     ]
    },
    {
     "name": "stdout",
     "output_type": "stream",
     "text": [
      "[CV] END classifier__colsample_bytree=1.0, classifier__learning_rate=0.05, classifier__max_depth=11, classifier__n_estimators=400, classifier__subsample=0.6; total time=   1.7s\n",
      "[CV] END classifier__colsample_bytree=0.8, classifier__learning_rate=0.01, classifier__max_depth=11, classifier__n_estimators=400, classifier__subsample=0.8; total time=   2.2s\n",
      "[CV] END classifier__colsample_bytree=0.8, classifier__learning_rate=0.01, classifier__max_depth=11, classifier__n_estimators=400, classifier__subsample=0.8; total time=   2.2s\n"
     ]
    },
    {
     "name": "stderr",
     "output_type": "stream",
     "text": [
      "/Users/ryanmccarlie/.pyenv/versions/3.11.6/envs/PwC-Attrition-model-3.11/lib/python3.11/site-packages/xgboost/core.py:158: UserWarning: [19:24:22] WARNING: /Users/runner/work/xgboost/xgboost/src/learner.cc:740: \n",
      "Parameters: { \"use_label_encoder\" } are not used.\n",
      "\n",
      "  warnings.warn(smsg, UserWarning)\n",
      "/Users/ryanmccarlie/.pyenv/versions/3.11.6/envs/PwC-Attrition-model-3.11/lib/python3.11/site-packages/xgboost/core.py:158: UserWarning: [19:24:22] WARNING: /Users/runner/work/xgboost/xgboost/src/learner.cc:740: \n",
      "Parameters: { \"use_label_encoder\" } are not used.\n",
      "\n",
      "  warnings.warn(smsg, UserWarning)\n",
      "/Users/ryanmccarlie/.pyenv/versions/3.11.6/envs/PwC-Attrition-model-3.11/lib/python3.11/site-packages/xgboost/core.py:158: UserWarning: [19:24:22] WARNING: /Users/runner/work/xgboost/xgboost/src/learner.cc:740: \n",
      "Parameters: { \"use_label_encoder\" } are not used.\n",
      "\n",
      "  warnings.warn(smsg, UserWarning)\n",
      "/Users/ryanmccarlie/.pyenv/versions/3.11.6/envs/PwC-Attrition-model-3.11/lib/python3.11/site-packages/xgboost/core.py:158: UserWarning: [19:24:22] WARNING: /Users/runner/work/xgboost/xgboost/src/learner.cc:740: \n",
      "Parameters: { \"use_label_encoder\" } are not used.\n",
      "\n",
      "  warnings.warn(smsg, UserWarning)\n"
     ]
    },
    {
     "name": "stdout",
     "output_type": "stream",
     "text": [
      "[CV] END classifier__colsample_bytree=0.8, classifier__learning_rate=0.01, classifier__max_depth=11, classifier__n_estimators=400, classifier__subsample=0.8; total time=   2.2s\n",
      "[CV] END classifier__colsample_bytree=0.8, classifier__learning_rate=0.01, classifier__max_depth=11, classifier__n_estimators=400, classifier__subsample=0.8; total time=   2.3s\n",
      "[CV] END classifier__colsample_bytree=0.8, classifier__learning_rate=0.01, classifier__max_depth=11, classifier__n_estimators=400, classifier__subsample=0.8; total time=   2.2s\n"
     ]
    },
    {
     "name": "stderr",
     "output_type": "stream",
     "text": [
      "/Users/ryanmccarlie/.pyenv/versions/3.11.6/envs/PwC-Attrition-model-3.11/lib/python3.11/site-packages/xgboost/core.py:158: UserWarning: [19:24:22] WARNING: /Users/runner/work/xgboost/xgboost/src/learner.cc:740: \n",
      "Parameters: { \"use_label_encoder\" } are not used.\n",
      "\n",
      "  warnings.warn(smsg, UserWarning)\n",
      "/Users/ryanmccarlie/.pyenv/versions/3.11.6/envs/PwC-Attrition-model-3.11/lib/python3.11/site-packages/xgboost/core.py:158: UserWarning: [19:24:22] WARNING: /Users/runner/work/xgboost/xgboost/src/learner.cc:740: \n",
      "Parameters: { \"use_label_encoder\" } are not used.\n",
      "\n",
      "  warnings.warn(smsg, UserWarning)\n"
     ]
    },
    {
     "name": "stdout",
     "output_type": "stream",
     "text": [
      "[CV] END classifier__colsample_bytree=1.0, classifier__learning_rate=0.01, classifier__max_depth=5, classifier__n_estimators=400, classifier__subsample=0.8; total time=   0.7s\n"
     ]
    },
    {
     "name": "stderr",
     "output_type": "stream",
     "text": [
      "/Users/ryanmccarlie/.pyenv/versions/3.11.6/envs/PwC-Attrition-model-3.11/lib/python3.11/site-packages/xgboost/core.py:158: UserWarning: [19:24:23] WARNING: /Users/runner/work/xgboost/xgboost/src/learner.cc:740: \n",
      "Parameters: { \"use_label_encoder\" } are not used.\n",
      "\n",
      "  warnings.warn(smsg, UserWarning)\n"
     ]
    },
    {
     "name": "stdout",
     "output_type": "stream",
     "text": [
      "[CV] END classifier__colsample_bytree=1.0, classifier__learning_rate=0.05, classifier__max_depth=11, classifier__n_estimators=400, classifier__subsample=0.6; total time=   1.7s\n",
      "[CV] END classifier__colsample_bytree=1.0, classifier__learning_rate=0.01, classifier__max_depth=9, classifier__n_estimators=300, classifier__subsample=0.8; total time=   1.4s\n",
      "[CV] END classifier__colsample_bytree=1.0, classifier__learning_rate=0.05, classifier__max_depth=11, classifier__n_estimators=400, classifier__subsample=0.6; total time=   1.7s\n",
      "[CV] END classifier__colsample_bytree=1.0, classifier__learning_rate=0.01, classifier__max_depth=9, classifier__n_estimators=300, classifier__subsample=0.8; total time=   1.4s\n",
      "[CV] END classifier__colsample_bytree=1.0, classifier__learning_rate=0.01, classifier__max_depth=9, classifier__n_estimators=300, classifier__subsample=0.8; total time=   1.4s\n",
      "[CV] END classifier__colsample_bytree=1.0, classifier__learning_rate=0.01, classifier__max_depth=9, classifier__n_estimators=300, classifier__subsample=0.8; total time=   1.3s\n"
     ]
    },
    {
     "name": "stderr",
     "output_type": "stream",
     "text": [
      "/Users/ryanmccarlie/.pyenv/versions/3.11.6/envs/PwC-Attrition-model-3.11/lib/python3.11/site-packages/xgboost/core.py:158: UserWarning: [19:24:23] WARNING: /Users/runner/work/xgboost/xgboost/src/learner.cc:740: \n",
      "Parameters: { \"use_label_encoder\" } are not used.\n",
      "\n",
      "  warnings.warn(smsg, UserWarning)\n",
      "/Users/ryanmccarlie/.pyenv/versions/3.11.6/envs/PwC-Attrition-model-3.11/lib/python3.11/site-packages/xgboost/core.py:158: UserWarning: [19:24:23] WARNING: /Users/runner/work/xgboost/xgboost/src/learner.cc:740: \n",
      "Parameters: { \"use_label_encoder\" } are not used.\n",
      "\n",
      "  warnings.warn(smsg, UserWarning)\n",
      "/Users/ryanmccarlie/.pyenv/versions/3.11.6/envs/PwC-Attrition-model-3.11/lib/python3.11/site-packages/xgboost/core.py:158: UserWarning: [19:24:23] WARNING: /Users/runner/work/xgboost/xgboost/src/learner.cc:740: \n",
      "Parameters: { \"use_label_encoder\" } are not used.\n",
      "\n",
      "  warnings.warn(smsg, UserWarning)\n",
      "/Users/ryanmccarlie/.pyenv/versions/3.11.6/envs/PwC-Attrition-model-3.11/lib/python3.11/site-packages/xgboost/core.py:158: UserWarning: [19:24:24] WARNING: /Users/runner/work/xgboost/xgboost/src/learner.cc:740: \n",
      "Parameters: { \"use_label_encoder\" } are not used.\n",
      "\n",
      "  warnings.warn(smsg, UserWarning)\n",
      "/Users/ryanmccarlie/.pyenv/versions/3.11.6/envs/PwC-Attrition-model-3.11/lib/python3.11/site-packages/xgboost/core.py:158: UserWarning: [19:24:24] WARNING: /Users/runner/work/xgboost/xgboost/src/learner.cc:740: \n",
      "Parameters: { \"use_label_encoder\" } are not used.\n",
      "\n",
      "  warnings.warn(smsg, UserWarning)\n",
      "/Users/ryanmccarlie/.pyenv/versions/3.11.6/envs/PwC-Attrition-model-3.11/lib/python3.11/site-packages/xgboost/core.py:158: UserWarning: [19:24:24] WARNING: /Users/runner/work/xgboost/xgboost/src/learner.cc:740: \n",
      "Parameters: { \"use_label_encoder\" } are not used.\n",
      "\n",
      "  warnings.warn(smsg, UserWarning)\n"
     ]
    },
    {
     "name": "stdout",
     "output_type": "stream",
     "text": [
      "[CV] END classifier__colsample_bytree=1.0, classifier__learning_rate=0.01, classifier__max_depth=9, classifier__n_estimators=300, classifier__subsample=0.8; total time=   1.5s\n",
      "[CV] END classifier__colsample_bytree=1.0, classifier__learning_rate=0.01, classifier__max_depth=5, classifier__n_estimators=400, classifier__subsample=0.8; total time=   0.7s\n"
     ]
    },
    {
     "name": "stderr",
     "output_type": "stream",
     "text": [
      "/Users/ryanmccarlie/.pyenv/versions/3.11.6/envs/PwC-Attrition-model-3.11/lib/python3.11/site-packages/xgboost/core.py:158: UserWarning: [19:24:24] WARNING: /Users/runner/work/xgboost/xgboost/src/learner.cc:740: \n",
      "Parameters: { \"use_label_encoder\" } are not used.\n",
      "\n",
      "  warnings.warn(smsg, UserWarning)\n",
      "/Users/ryanmccarlie/.pyenv/versions/3.11.6/envs/PwC-Attrition-model-3.11/lib/python3.11/site-packages/xgboost/core.py:158: UserWarning: [19:24:24] WARNING: /Users/runner/work/xgboost/xgboost/src/learner.cc:740: \n",
      "Parameters: { \"use_label_encoder\" } are not used.\n",
      "\n",
      "  warnings.warn(smsg, UserWarning)\n"
     ]
    },
    {
     "name": "stdout",
     "output_type": "stream",
     "text": [
      "[CV] END classifier__colsample_bytree=1.0, classifier__learning_rate=0.01, classifier__max_depth=5, classifier__n_estimators=400, classifier__subsample=0.8; total time=   0.6s\n",
      "[CV] END classifier__colsample_bytree=1.0, classifier__learning_rate=0.01, classifier__max_depth=5, classifier__n_estimators=400, classifier__subsample=0.8; total time=   0.7s\n",
      "[CV] END classifier__colsample_bytree=0.6, classifier__learning_rate=0.1, classifier__max_depth=11, classifier__n_estimators=200, classifier__subsample=1.0; total time=   0.7s\n",
      "[CV] END classifier__colsample_bytree=1.0, classifier__learning_rate=0.01, classifier__max_depth=5, classifier__n_estimators=400, classifier__subsample=0.8; total time=   0.8s\n"
     ]
    },
    {
     "name": "stderr",
     "output_type": "stream",
     "text": [
      "/Users/ryanmccarlie/.pyenv/versions/3.11.6/envs/PwC-Attrition-model-3.11/lib/python3.11/site-packages/xgboost/core.py:158: UserWarning: [19:24:24] WARNING: /Users/runner/work/xgboost/xgboost/src/learner.cc:740: \n",
      "Parameters: { \"use_label_encoder\" } are not used.\n",
      "\n",
      "  warnings.warn(smsg, UserWarning)\n",
      "/Users/ryanmccarlie/.pyenv/versions/3.11.6/envs/PwC-Attrition-model-3.11/lib/python3.11/site-packages/xgboost/core.py:158: UserWarning: [19:24:24] WARNING: /Users/runner/work/xgboost/xgboost/src/learner.cc:740: \n",
      "Parameters: { \"use_label_encoder\" } are not used.\n",
      "\n",
      "  warnings.warn(smsg, UserWarning)\n",
      "/Users/ryanmccarlie/.pyenv/versions/3.11.6/envs/PwC-Attrition-model-3.11/lib/python3.11/site-packages/xgboost/core.py:158: UserWarning: [19:24:24] WARNING: /Users/runner/work/xgboost/xgboost/src/learner.cc:740: \n",
      "Parameters: { \"use_label_encoder\" } are not used.\n",
      "\n",
      "  warnings.warn(smsg, UserWarning)\n"
     ]
    },
    {
     "name": "stdout",
     "output_type": "stream",
     "text": [
      "[CV] END classifier__colsample_bytree=0.6, classifier__learning_rate=0.1, classifier__max_depth=11, classifier__n_estimators=200, classifier__subsample=1.0; total time=   0.7s\n",
      "[CV] END classifier__colsample_bytree=0.6, classifier__learning_rate=0.1, classifier__max_depth=11, classifier__n_estimators=200, classifier__subsample=1.0; total time=   0.7s\n"
     ]
    },
    {
     "name": "stderr",
     "output_type": "stream",
     "text": [
      "/Users/ryanmccarlie/.pyenv/versions/3.11.6/envs/PwC-Attrition-model-3.11/lib/python3.11/site-packages/xgboost/core.py:158: UserWarning: [19:24:24] WARNING: /Users/runner/work/xgboost/xgboost/src/learner.cc:740: \n",
      "Parameters: { \"use_label_encoder\" } are not used.\n",
      "\n",
      "  warnings.warn(smsg, UserWarning)\n",
      "/Users/ryanmccarlie/.pyenv/versions/3.11.6/envs/PwC-Attrition-model-3.11/lib/python3.11/site-packages/xgboost/core.py:158: UserWarning: [19:24:24] WARNING: /Users/runner/work/xgboost/xgboost/src/learner.cc:740: \n",
      "Parameters: { \"use_label_encoder\" } are not used.\n",
      "\n",
      "  warnings.warn(smsg, UserWarning)\n",
      "/Users/ryanmccarlie/.pyenv/versions/3.11.6/envs/PwC-Attrition-model-3.11/lib/python3.11/site-packages/xgboost/core.py:158: UserWarning: [19:24:24] WARNING: /Users/runner/work/xgboost/xgboost/src/learner.cc:740: \n",
      "Parameters: { \"use_label_encoder\" } are not used.\n",
      "\n",
      "  warnings.warn(smsg, UserWarning)\n"
     ]
    },
    {
     "name": "stdout",
     "output_type": "stream",
     "text": [
      "[CV] END classifier__colsample_bytree=0.6, classifier__learning_rate=0.1, classifier__max_depth=11, classifier__n_estimators=200, classifier__subsample=1.0; total time=   0.8s\n",
      "[CV] END classifier__colsample_bytree=0.6, classifier__learning_rate=0.1, classifier__max_depth=11, classifier__n_estimators=200, classifier__subsample=1.0; total time=   0.8s\n"
     ]
    },
    {
     "name": "stderr",
     "output_type": "stream",
     "text": [
      "/Users/ryanmccarlie/.pyenv/versions/3.11.6/envs/PwC-Attrition-model-3.11/lib/python3.11/site-packages/xgboost/core.py:158: UserWarning: [19:24:25] WARNING: /Users/runner/work/xgboost/xgboost/src/learner.cc:740: \n",
      "Parameters: { \"use_label_encoder\" } are not used.\n",
      "\n",
      "  warnings.warn(smsg, UserWarning)\n",
      "/Users/ryanmccarlie/.pyenv/versions/3.11.6/envs/PwC-Attrition-model-3.11/lib/python3.11/site-packages/xgboost/core.py:158: UserWarning: [19:24:25] WARNING: /Users/runner/work/xgboost/xgboost/src/learner.cc:740: \n",
      "Parameters: { \"use_label_encoder\" } are not used.\n",
      "\n",
      "  warnings.warn(smsg, UserWarning)\n"
     ]
    },
    {
     "name": "stdout",
     "output_type": "stream",
     "text": [
      "[CV] END classifier__colsample_bytree=0.8, classifier__learning_rate=0.1, classifier__max_depth=11, classifier__n_estimators=400, classifier__subsample=0.6; total time=   1.4s\n",
      "[CV] END classifier__colsample_bytree=0.8, classifier__learning_rate=0.1, classifier__max_depth=11, classifier__n_estimators=400, classifier__subsample=0.6; total time=   1.5s\n",
      "[CV] END classifier__colsample_bytree=0.8, classifier__learning_rate=0.1, classifier__max_depth=7, classifier__n_estimators=500, classifier__subsample=1.0; total time=   1.4s\n",
      "[CV] END classifier__colsample_bytree=0.8, classifier__learning_rate=0.1, classifier__max_depth=11, classifier__n_estimators=400, classifier__subsample=0.6; total time=   1.5s\n"
     ]
    },
    {
     "name": "stderr",
     "output_type": "stream",
     "text": [
      "/Users/ryanmccarlie/.pyenv/versions/3.11.6/envs/PwC-Attrition-model-3.11/lib/python3.11/site-packages/xgboost/core.py:158: UserWarning: [19:24:26] WARNING: /Users/runner/work/xgboost/xgboost/src/learner.cc:740: \n",
      "Parameters: { \"use_label_encoder\" } are not used.\n",
      "\n",
      "  warnings.warn(smsg, UserWarning)\n",
      "/Users/ryanmccarlie/.pyenv/versions/3.11.6/envs/PwC-Attrition-model-3.11/lib/python3.11/site-packages/xgboost/core.py:158: UserWarning: [19:24:26] WARNING: /Users/runner/work/xgboost/xgboost/src/learner.cc:740: \n",
      "Parameters: { \"use_label_encoder\" } are not used.\n",
      "\n",
      "  warnings.warn(smsg, UserWarning)\n",
      "/Users/ryanmccarlie/.pyenv/versions/3.11.6/envs/PwC-Attrition-model-3.11/lib/python3.11/site-packages/xgboost/core.py:158: UserWarning: [19:24:26] WARNING: /Users/runner/work/xgboost/xgboost/src/learner.cc:740: \n",
      "Parameters: { \"use_label_encoder\" } are not used.\n",
      "\n",
      "  warnings.warn(smsg, UserWarning)\n",
      "/Users/ryanmccarlie/.pyenv/versions/3.11.6/envs/PwC-Attrition-model-3.11/lib/python3.11/site-packages/xgboost/core.py:158: UserWarning: [19:24:26] WARNING: /Users/runner/work/xgboost/xgboost/src/learner.cc:740: \n",
      "Parameters: { \"use_label_encoder\" } are not used.\n",
      "\n",
      "  warnings.warn(smsg, UserWarning)\n"
     ]
    },
    {
     "name": "stdout",
     "output_type": "stream",
     "text": [
      "[CV] END classifier__colsample_bytree=0.8, classifier__learning_rate=0.1, classifier__max_depth=11, classifier__n_estimators=400, classifier__subsample=0.6; total time=   1.5s\n",
      "[CV] END classifier__colsample_bytree=0.8, classifier__learning_rate=0.1, classifier__max_depth=11, classifier__n_estimators=400, classifier__subsample=0.6; total time=   1.5s\n",
      "[CV] END classifier__colsample_bytree=0.8, classifier__learning_rate=0.1, classifier__max_depth=7, classifier__n_estimators=500, classifier__subsample=1.0; total time=   1.3s\n",
      "[CV] END classifier__colsample_bytree=0.8, classifier__learning_rate=0.1, classifier__max_depth=7, classifier__n_estimators=500, classifier__subsample=1.0; total time=   1.3s\n"
     ]
    },
    {
     "name": "stderr",
     "output_type": "stream",
     "text": [
      "/Users/ryanmccarlie/.pyenv/versions/3.11.6/envs/PwC-Attrition-model-3.11/lib/python3.11/site-packages/xgboost/core.py:158: UserWarning: [19:24:26] WARNING: /Users/runner/work/xgboost/xgboost/src/learner.cc:740: \n",
      "Parameters: { \"use_label_encoder\" } are not used.\n",
      "\n",
      "  warnings.warn(smsg, UserWarning)\n",
      "/Users/ryanmccarlie/.pyenv/versions/3.11.6/envs/PwC-Attrition-model-3.11/lib/python3.11/site-packages/xgboost/core.py:158: UserWarning: [19:24:26] WARNING: /Users/runner/work/xgboost/xgboost/src/learner.cc:740: \n",
      "Parameters: { \"use_label_encoder\" } are not used.\n",
      "\n",
      "  warnings.warn(smsg, UserWarning)\n",
      "/Users/ryanmccarlie/.pyenv/versions/3.11.6/envs/PwC-Attrition-model-3.11/lib/python3.11/site-packages/xgboost/core.py:158: UserWarning: [19:24:26] WARNING: /Users/runner/work/xgboost/xgboost/src/learner.cc:740: \n",
      "Parameters: { \"use_label_encoder\" } are not used.\n",
      "\n",
      "  warnings.warn(smsg, UserWarning)\n"
     ]
    },
    {
     "name": "stdout",
     "output_type": "stream",
     "text": [
      "[CV] END classifier__colsample_bytree=1.0, classifier__learning_rate=0.2, classifier__max_depth=3, classifier__n_estimators=300, classifier__subsample=0.8; total time=   0.3s\n",
      "[CV] END classifier__colsample_bytree=1.0, classifier__learning_rate=0.2, classifier__max_depth=3, classifier__n_estimators=300, classifier__subsample=0.8; total time=   0.3s\n",
      "[CV] END classifier__colsample_bytree=1.0, classifier__learning_rate=0.2, classifier__max_depth=3, classifier__n_estimators=300, classifier__subsample=0.8; total time=   0.3s\n",
      "[CV] END classifier__colsample_bytree=1.0, classifier__learning_rate=0.2, classifier__max_depth=3, classifier__n_estimators=300, classifier__subsample=0.8; total time=   0.3s\n",
      "[CV] END classifier__colsample_bytree=1.0, classifier__learning_rate=0.2, classifier__max_depth=3, classifier__n_estimators=300, classifier__subsample=0.8; total time=   0.2s\n",
      "[CV] END classifier__colsample_bytree=0.8, classifier__learning_rate=0.1, classifier__max_depth=7, classifier__n_estimators=500, classifier__subsample=1.0; total time=   0.8s\n",
      "[CV] END classifier__colsample_bytree=0.8, classifier__learning_rate=0.1, classifier__max_depth=7, classifier__n_estimators=500, classifier__subsample=1.0; total time=   0.8s\n"
     ]
    },
    {
     "name": "stderr",
     "output_type": "stream",
     "text": [
      "/Users/ryanmccarlie/.pyenv/versions/3.11.6/envs/PwC-Attrition-model-3.11/lib/python3.11/site-packages/xgboost/core.py:158: UserWarning: [19:24:26] WARNING: /Users/runner/work/xgboost/xgboost/src/learner.cc:740: \n",
      "Parameters: { \"use_label_encoder\" } are not used.\n",
      "\n",
      "  warnings.warn(smsg, UserWarning)\n",
      "2024/09/17 19:24:28 WARNING mlflow.models.model: Model logged without a signature and input example. Please set `input_example` parameter when logging the model to auto infer the model signature.\n",
      "/Users/ryanmccarlie/.pyenv/versions/3.11.6/envs/PwC-Attrition-model-3.11/lib/python3.11/site-packages/sklearn/metrics/_classification.py:1531: UndefinedMetricWarning: Precision is ill-defined and being set to 0.0 in labels with no predicted samples. Use `zero_division` parameter to control this behavior.\n",
      "  _warn_prf(average, modifier, f\"{metric.capitalize()} is\", len(result))\n",
      "/Users/ryanmccarlie/.pyenv/versions/3.11.6/envs/PwC-Attrition-model-3.11/lib/python3.11/site-packages/sklearn/metrics/_classification.py:1531: UndefinedMetricWarning: Precision is ill-defined and being set to 0.0 in labels with no predicted samples. Use `zero_division` parameter to control this behavior.\n",
      "  _warn_prf(average, modifier, f\"{metric.capitalize()} is\", len(result))\n",
      "/Users/ryanmccarlie/.pyenv/versions/3.11.6/envs/PwC-Attrition-model-3.11/lib/python3.11/site-packages/sklearn/metrics/_classification.py:1531: UndefinedMetricWarning: Precision is ill-defined and being set to 0.0 in labels with no predicted samples. Use `zero_division` parameter to control this behavior.\n",
      "  _warn_prf(average, modifier, f\"{metric.capitalize()} is\", len(result))\n"
     ]
    },
    {
     "name": "stdout",
     "output_type": "stream",
     "text": [
      "Fitting 5 folds for each of 50 candidates, totalling 250 fits\n",
      "[CV] END classifier__max_depth=None, classifier__max_features=log2, classifier__min_samples_leaf=2, classifier__min_samples_split=10, classifier__n_estimators=400; total time=   1.6s\n",
      "[CV] END classifier__max_depth=None, classifier__max_features=log2, classifier__min_samples_leaf=2, classifier__min_samples_split=10, classifier__n_estimators=400; total time=   1.6s\n",
      "[CV] END classifier__max_depth=None, classifier__max_features=log2, classifier__min_samples_leaf=2, classifier__min_samples_split=10, classifier__n_estimators=400; total time=   1.7s\n",
      "[CV] END classifier__max_depth=20, classifier__max_features=log2, classifier__min_samples_leaf=1, classifier__min_samples_split=2, classifier__n_estimators=500; total time=   2.4s\n",
      "[CV] END classifier__max_depth=20, classifier__max_features=log2, classifier__min_samples_leaf=1, classifier__min_samples_split=2, classifier__n_estimators=500; total time=   2.4s\n",
      "[CV] END classifier__max_depth=20, classifier__max_features=log2, classifier__min_samples_leaf=1, classifier__min_samples_split=2, classifier__n_estimators=500; total time=   2.4s\n",
      "[CV] END classifier__max_depth=20, classifier__max_features=log2, classifier__min_samples_leaf=1, classifier__min_samples_split=2, classifier__n_estimators=500; total time=   2.5s\n",
      "[CV] END classifier__max_depth=20, classifier__max_features=log2, classifier__min_samples_leaf=1, classifier__min_samples_split=2, classifier__n_estimators=500; total time=   2.5s\n",
      "[CV] END classifier__max_depth=50, classifier__max_features=log2, classifier__min_samples_leaf=2, classifier__min_samples_split=10, classifier__n_estimators=200; total time=   0.9s\n",
      "[CV] END classifier__max_depth=None, classifier__max_features=log2, classifier__min_samples_leaf=2, classifier__min_samples_split=10, classifier__n_estimators=400; total time=   1.5s\n",
      "[CV] END classifier__max_depth=50, classifier__max_features=log2, classifier__min_samples_leaf=2, classifier__min_samples_split=10, classifier__n_estimators=200; total time=   0.8s\n",
      "[CV] END classifier__max_depth=50, classifier__max_features=log2, classifier__min_samples_leaf=2, classifier__min_samples_split=10, classifier__n_estimators=200; total time=   0.7s\n",
      "[CV] END classifier__max_depth=None, classifier__max_features=log2, classifier__min_samples_leaf=2, classifier__min_samples_split=10, classifier__n_estimators=400; total time=   1.6s\n",
      "[CV] END classifier__max_depth=None, classifier__max_features=log2, classifier__min_samples_leaf=4, classifier__min_samples_split=10, classifier__n_estimators=200; total time=   0.7s\n",
      "[CV] END classifier__max_depth=50, classifier__max_features=log2, classifier__min_samples_leaf=2, classifier__min_samples_split=10, classifier__n_estimators=200; total time=   0.9s\n",
      "[CV] END classifier__max_depth=50, classifier__max_features=log2, classifier__min_samples_leaf=2, classifier__min_samples_split=10, classifier__n_estimators=200; total time=   0.8s\n",
      "[CV] END classifier__max_depth=None, classifier__max_features=log2, classifier__min_samples_leaf=4, classifier__min_samples_split=10, classifier__n_estimators=200; total time=   0.8s\n",
      "[CV] END classifier__max_depth=None, classifier__max_features=log2, classifier__min_samples_leaf=4, classifier__min_samples_split=10, classifier__n_estimators=200; total time=   0.7s\n",
      "[CV] END classifier__max_depth=None, classifier__max_features=log2, classifier__min_samples_leaf=4, classifier__min_samples_split=10, classifier__n_estimators=200; total time=   0.7s\n",
      "[CV] END classifier__max_depth=None, classifier__max_features=log2, classifier__min_samples_leaf=4, classifier__min_samples_split=10, classifier__n_estimators=200; total time=   0.7s\n",
      "[CV] END classifier__max_depth=None, classifier__max_features=log2, classifier__min_samples_leaf=4, classifier__min_samples_split=2, classifier__n_estimators=300; total time=   1.1s\n",
      "[CV] END classifier__max_depth=None, classifier__max_features=log2, classifier__min_samples_leaf=4, classifier__min_samples_split=2, classifier__n_estimators=300; total time=   1.1s\n",
      "[CV] END classifier__max_depth=None, classifier__max_features=log2, classifier__min_samples_leaf=4, classifier__min_samples_split=2, classifier__n_estimators=300; total time=   1.1s\n",
      "[CV] END classifier__max_depth=50, classifier__max_features=sqrt, classifier__min_samples_leaf=2, classifier__min_samples_split=2, classifier__n_estimators=500; total time=   2.6s\n",
      "[CV] END classifier__max_depth=50, classifier__max_features=sqrt, classifier__min_samples_leaf=2, classifier__min_samples_split=2, classifier__n_estimators=500; total time=   2.8s\n",
      "[CV] END classifier__max_depth=50, classifier__max_features=sqrt, classifier__min_samples_leaf=2, classifier__min_samples_split=2, classifier__n_estimators=500; total time=   2.9s\n",
      "[CV] END classifier__max_depth=50, classifier__max_features=sqrt, classifier__min_samples_leaf=2, classifier__min_samples_split=2, classifier__n_estimators=500; total time=   2.9s\n",
      "[CV] END classifier__max_depth=None, classifier__max_features=log2, classifier__min_samples_leaf=4, classifier__min_samples_split=2, classifier__n_estimators=300; total time=   1.4s\n",
      "[CV] END classifier__max_depth=None, classifier__max_features=log2, classifier__min_samples_leaf=4, classifier__min_samples_split=2, classifier__n_estimators=300; total time=   1.4s\n",
      "[CV] END classifier__max_depth=50, classifier__max_features=sqrt, classifier__min_samples_leaf=2, classifier__min_samples_split=2, classifier__n_estimators=500; total time=   2.9s\n",
      "[CV] END classifier__max_depth=30, classifier__max_features=sqrt, classifier__min_samples_leaf=2, classifier__min_samples_split=10, classifier__n_estimators=300; total time=   1.7s\n",
      "[CV] END classifier__max_depth=30, classifier__max_features=sqrt, classifier__min_samples_leaf=2, classifier__min_samples_split=10, classifier__n_estimators=300; total time=   1.5s\n",
      "[CV] END classifier__max_depth=30, classifier__max_features=sqrt, classifier__min_samples_leaf=2, classifier__min_samples_split=10, classifier__n_estimators=300; total time=   1.4s\n",
      "[CV] END classifier__max_depth=30, classifier__max_features=sqrt, classifier__min_samples_leaf=2, classifier__min_samples_split=10, classifier__n_estimators=300; total time=   1.3s\n",
      "[CV] END classifier__max_depth=30, classifier__max_features=sqrt, classifier__min_samples_leaf=2, classifier__min_samples_split=10, classifier__n_estimators=300; total time=   1.4s\n",
      "[CV] END classifier__max_depth=40, classifier__max_features=log2, classifier__min_samples_leaf=1, classifier__min_samples_split=10, classifier__n_estimators=400; total time=   1.6s\n",
      "[CV] END classifier__max_depth=40, classifier__max_features=log2, classifier__min_samples_leaf=1, classifier__min_samples_split=10, classifier__n_estimators=400; total time=   1.6s\n",
      "[CV] END classifier__max_depth=40, classifier__max_features=log2, classifier__min_samples_leaf=1, classifier__min_samples_split=10, classifier__n_estimators=400; total time=   1.6s\n",
      "[CV] END classifier__max_depth=40, classifier__max_features=log2, classifier__min_samples_leaf=1, classifier__min_samples_split=10, classifier__n_estimators=400; total time=   1.6s\n",
      "[CV] END classifier__max_depth=30, classifier__max_features=log2, classifier__min_samples_leaf=2, classifier__min_samples_split=10, classifier__n_estimators=300; total time=   1.1s\n",
      "[CV] END classifier__max_depth=30, classifier__max_features=log2, classifier__min_samples_leaf=2, classifier__min_samples_split=10, classifier__n_estimators=300; total time=   1.1s\n",
      "[CV] END classifier__max_depth=30, classifier__max_features=log2, classifier__min_samples_leaf=2, classifier__min_samples_split=10, classifier__n_estimators=300; total time=   1.1s\n",
      "[CV] END classifier__max_depth=40, classifier__max_features=log2, classifier__min_samples_leaf=1, classifier__min_samples_split=10, classifier__n_estimators=400; total time=   1.5s\n",
      "[CV] END classifier__max_depth=30, classifier__max_features=log2, classifier__min_samples_leaf=2, classifier__min_samples_split=10, classifier__n_estimators=300; total time=   1.1s\n",
      "[CV] END classifier__max_depth=30, classifier__max_features=log2, classifier__min_samples_leaf=2, classifier__min_samples_split=10, classifier__n_estimators=300; total time=   1.1s\n",
      "[CV] END classifier__max_depth=None, classifier__max_features=sqrt, classifier__min_samples_leaf=1, classifier__min_samples_split=5, classifier__n_estimators=200; total time=   1.0s\n",
      "[CV] END classifier__max_depth=40, classifier__max_features=sqrt, classifier__min_samples_leaf=2, classifier__min_samples_split=5, classifier__n_estimators=400; total time=   2.0s\n",
      "[CV] END classifier__max_depth=None, classifier__max_features=sqrt, classifier__min_samples_leaf=1, classifier__min_samples_split=5, classifier__n_estimators=200; total time=   0.9s\n",
      "[CV] END classifier__max_depth=None, classifier__max_features=sqrt, classifier__min_samples_leaf=1, classifier__min_samples_split=5, classifier__n_estimators=200; total time=   1.0s\n",
      "[CV] END classifier__max_depth=40, classifier__max_features=sqrt, classifier__min_samples_leaf=2, classifier__min_samples_split=5, classifier__n_estimators=400; total time=   2.0s\n",
      "[CV] END classifier__max_depth=40, classifier__max_features=sqrt, classifier__min_samples_leaf=2, classifier__min_samples_split=5, classifier__n_estimators=400; total time=   2.1s\n",
      "[CV] END classifier__max_depth=40, classifier__max_features=sqrt, classifier__min_samples_leaf=2, classifier__min_samples_split=5, classifier__n_estimators=400; total time=   2.0s\n",
      "[CV] END classifier__max_depth=40, classifier__max_features=sqrt, classifier__min_samples_leaf=2, classifier__min_samples_split=5, classifier__n_estimators=400; total time=   2.0s\n",
      "[CV] END classifier__max_depth=None, classifier__max_features=sqrt, classifier__min_samples_leaf=1, classifier__min_samples_split=5, classifier__n_estimators=200; total time=   1.1s\n",
      "[CV] END classifier__max_depth=None, classifier__max_features=sqrt, classifier__min_samples_leaf=1, classifier__min_samples_split=5, classifier__n_estimators=200; total time=   1.2s\n",
      "[CV] END classifier__max_depth=40, classifier__max_features=log2, classifier__min_samples_leaf=1, classifier__min_samples_split=5, classifier__n_estimators=100; total time=   0.4s\n",
      "[CV] END classifier__max_depth=10, classifier__max_features=sqrt, classifier__min_samples_leaf=2, classifier__min_samples_split=10, classifier__n_estimators=300; total time=   1.2s\n",
      "[CV] END classifier__max_depth=10, classifier__max_features=sqrt, classifier__min_samples_leaf=2, classifier__min_samples_split=10, classifier__n_estimators=300; total time=   1.2s\n",
      "[CV] END classifier__max_depth=40, classifier__max_features=log2, classifier__min_samples_leaf=1, classifier__min_samples_split=5, classifier__n_estimators=100; total time=   0.5s\n",
      "[CV] END classifier__max_depth=10, classifier__max_features=sqrt, classifier__min_samples_leaf=2, classifier__min_samples_split=10, classifier__n_estimators=300; total time=   1.2s\n",
      "[CV] END classifier__max_depth=40, classifier__max_features=log2, classifier__min_samples_leaf=1, classifier__min_samples_split=5, classifier__n_estimators=100; total time=   0.4s\n",
      "[CV] END classifier__max_depth=40, classifier__max_features=log2, classifier__min_samples_leaf=1, classifier__min_samples_split=5, classifier__n_estimators=100; total time=   0.4s\n",
      "[CV] END classifier__max_depth=40, classifier__max_features=log2, classifier__min_samples_leaf=1, classifier__min_samples_split=5, classifier__n_estimators=100; total time=   0.6s\n",
      "[CV] END classifier__max_depth=None, classifier__max_features=log2, classifier__min_samples_leaf=4, classifier__min_samples_split=2, classifier__n_estimators=100; total time=   0.5s\n",
      "[CV] END classifier__max_depth=10, classifier__max_features=sqrt, classifier__min_samples_leaf=2, classifier__min_samples_split=10, classifier__n_estimators=300; total time=   1.5s\n",
      "[CV] END classifier__max_depth=10, classifier__max_features=sqrt, classifier__min_samples_leaf=2, classifier__min_samples_split=10, classifier__n_estimators=300; total time=   1.5s\n",
      "[CV] END classifier__max_depth=None, classifier__max_features=log2, classifier__min_samples_leaf=4, classifier__min_samples_split=2, classifier__n_estimators=100; total time=   0.7s\n",
      "[CV] END classifier__max_depth=None, classifier__max_features=log2, classifier__min_samples_leaf=4, classifier__min_samples_split=2, classifier__n_estimators=100; total time=   0.7s\n",
      "[CV] END classifier__max_depth=None, classifier__max_features=log2, classifier__min_samples_leaf=4, classifier__min_samples_split=2, classifier__n_estimators=100; total time=   0.7s\n",
      "[CV] END classifier__max_depth=None, classifier__max_features=log2, classifier__min_samples_leaf=4, classifier__min_samples_split=2, classifier__n_estimators=100; total time=   0.7s\n",
      "[CV] END classifier__max_depth=20, classifier__max_features=sqrt, classifier__min_samples_leaf=2, classifier__min_samples_split=2, classifier__n_estimators=100; total time=   0.6s\n",
      "[CV] END classifier__max_depth=20, classifier__max_features=sqrt, classifier__min_samples_leaf=2, classifier__min_samples_split=2, classifier__n_estimators=100; total time=   0.5s\n",
      "[CV] END classifier__max_depth=20, classifier__max_features=sqrt, classifier__min_samples_leaf=2, classifier__min_samples_split=2, classifier__n_estimators=100; total time=   0.5s\n",
      "[CV] END classifier__max_depth=20, classifier__max_features=sqrt, classifier__min_samples_leaf=2, classifier__min_samples_split=2, classifier__n_estimators=100; total time=   0.6s\n",
      "[CV] END classifier__max_depth=20, classifier__max_features=sqrt, classifier__min_samples_leaf=2, classifier__min_samples_split=2, classifier__n_estimators=100; total time=   0.5s\n",
      "[CV] END classifier__max_depth=30, classifier__max_features=sqrt, classifier__min_samples_leaf=1, classifier__min_samples_split=2, classifier__n_estimators=300; total time=   2.0s\n",
      "[CV] END classifier__max_depth=30, classifier__max_features=sqrt, classifier__min_samples_leaf=1, classifier__min_samples_split=2, classifier__n_estimators=300; total time=   2.1s\n",
      "[CV] END classifier__max_depth=30, classifier__max_features=sqrt, classifier__min_samples_leaf=1, classifier__min_samples_split=2, classifier__n_estimators=300; total time=   1.8s\n",
      "[CV] END classifier__max_depth=30, classifier__max_features=sqrt, classifier__min_samples_leaf=1, classifier__min_samples_split=2, classifier__n_estimators=300; total time=   1.9s\n",
      "[CV] END classifier__max_depth=30, classifier__max_features=sqrt, classifier__min_samples_leaf=1, classifier__min_samples_split=2, classifier__n_estimators=300; total time=   1.8s\n",
      "[CV] END classifier__max_depth=10, classifier__max_features=sqrt, classifier__min_samples_leaf=1, classifier__min_samples_split=10, classifier__n_estimators=200; total time=   0.8s\n",
      "[CV] END classifier__max_depth=10, classifier__max_features=sqrt, classifier__min_samples_leaf=1, classifier__min_samples_split=10, classifier__n_estimators=200; total time=   0.8s\n",
      "[CV] END classifier__max_depth=10, classifier__max_features=sqrt, classifier__min_samples_leaf=1, classifier__min_samples_split=10, classifier__n_estimators=200; total time=   0.8s\n",
      "[CV] END classifier__max_depth=50, classifier__max_features=sqrt, classifier__min_samples_leaf=4, classifier__min_samples_split=10, classifier__n_estimators=500; total time=   2.3s\n",
      "[CV] END classifier__max_depth=50, classifier__max_features=sqrt, classifier__min_samples_leaf=4, classifier__min_samples_split=10, classifier__n_estimators=500; total time=   2.2s\n",
      "[CV] END classifier__max_depth=50, classifier__max_features=sqrt, classifier__min_samples_leaf=4, classifier__min_samples_split=10, classifier__n_estimators=500; total time=   2.2s\n",
      "[CV] END classifier__max_depth=10, classifier__max_features=sqrt, classifier__min_samples_leaf=1, classifier__min_samples_split=10, classifier__n_estimators=200; total time=   0.8s\n",
      "[CV] END classifier__max_depth=10, classifier__max_features=sqrt, classifier__min_samples_leaf=1, classifier__min_samples_split=10, classifier__n_estimators=200; total time=   0.9s\n",
      "[CV] END classifier__max_depth=50, classifier__max_features=log2, classifier__min_samples_leaf=4, classifier__min_samples_split=2, classifier__n_estimators=200; total time=   0.9s\n",
      "[CV] END classifier__max_depth=50, classifier__max_features=log2, classifier__min_samples_leaf=4, classifier__min_samples_split=2, classifier__n_estimators=200; total time=   0.8s\n",
      "[CV] END classifier__max_depth=None, classifier__max_features=log2, classifier__min_samples_leaf=1, classifier__min_samples_split=10, classifier__n_estimators=100; total time=   0.4s\n",
      "[CV] END classifier__max_depth=50, classifier__max_features=sqrt, classifier__min_samples_leaf=4, classifier__min_samples_split=10, classifier__n_estimators=500; total time=   2.2s\n",
      "[CV] END classifier__max_depth=None, classifier__max_features=log2, classifier__min_samples_leaf=1, classifier__min_samples_split=10, classifier__n_estimators=100; total time=   0.4s\n",
      "[CV] END classifier__max_depth=50, classifier__max_features=sqrt, classifier__min_samples_leaf=4, classifier__min_samples_split=10, classifier__n_estimators=500; total time=   2.5s\n",
      "[CV] END classifier__max_depth=50, classifier__max_features=log2, classifier__min_samples_leaf=4, classifier__min_samples_split=2, classifier__n_estimators=200; total time=   0.7s\n",
      "[CV] END classifier__max_depth=50, classifier__max_features=log2, classifier__min_samples_leaf=4, classifier__min_samples_split=2, classifier__n_estimators=200; total time=   0.8s\n",
      "[CV] END classifier__max_depth=50, classifier__max_features=log2, classifier__min_samples_leaf=4, classifier__min_samples_split=2, classifier__n_estimators=200; total time=   0.8s\n",
      "[CV] END classifier__max_depth=None, classifier__max_features=log2, classifier__min_samples_leaf=1, classifier__min_samples_split=10, classifier__n_estimators=100; total time=   0.4s\n",
      "[CV] END classifier__max_depth=None, classifier__max_features=log2, classifier__min_samples_leaf=1, classifier__min_samples_split=10, classifier__n_estimators=100; total time=   0.4s\n",
      "[CV] END classifier__max_depth=None, classifier__max_features=log2, classifier__min_samples_leaf=1, classifier__min_samples_split=10, classifier__n_estimators=100; total time=   0.4s\n",
      "[CV] END classifier__max_depth=20, classifier__max_features=sqrt, classifier__min_samples_leaf=1, classifier__min_samples_split=5, classifier__n_estimators=100; total time=   0.6s\n",
      "[CV] END classifier__max_depth=20, classifier__max_features=sqrt, classifier__min_samples_leaf=1, classifier__min_samples_split=5, classifier__n_estimators=100; total time=   0.6s\n",
      "[CV] END classifier__max_depth=20, classifier__max_features=sqrt, classifier__min_samples_leaf=1, classifier__min_samples_split=5, classifier__n_estimators=100; total time=   0.6s\n",
      "[CV] END classifier__max_depth=20, classifier__max_features=sqrt, classifier__min_samples_leaf=1, classifier__min_samples_split=5, classifier__n_estimators=100; total time=   0.5s\n",
      "[CV] END classifier__max_depth=20, classifier__max_features=sqrt, classifier__min_samples_leaf=1, classifier__min_samples_split=5, classifier__n_estimators=100; total time=   0.5s\n",
      "[CV] END classifier__max_depth=40, classifier__max_features=sqrt, classifier__min_samples_leaf=1, classifier__min_samples_split=10, classifier__n_estimators=400; total time=   1.9s\n",
      "[CV] END classifier__max_depth=40, classifier__max_features=sqrt, classifier__min_samples_leaf=1, classifier__min_samples_split=10, classifier__n_estimators=400; total time=   1.9s\n",
      "[CV] END classifier__max_depth=40, classifier__max_features=sqrt, classifier__min_samples_leaf=1, classifier__min_samples_split=10, classifier__n_estimators=400; total time=   1.9s\n",
      "[CV] END classifier__max_depth=40, classifier__max_features=sqrt, classifier__min_samples_leaf=1, classifier__min_samples_split=10, classifier__n_estimators=400; total time=   1.9s\n",
      "[CV] END classifier__max_depth=40, classifier__max_features=sqrt, classifier__min_samples_leaf=1, classifier__min_samples_split=10, classifier__n_estimators=400; total time=   2.1s\n",
      "[CV] END classifier__max_depth=30, classifier__max_features=sqrt, classifier__min_samples_leaf=2, classifier__min_samples_split=10, classifier__n_estimators=400; total time=   1.8s\n",
      "[CV] END classifier__max_depth=10, classifier__max_features=log2, classifier__min_samples_leaf=4, classifier__min_samples_split=2, classifier__n_estimators=300; total time=   0.9s\n",
      "[CV] END classifier__max_depth=10, classifier__max_features=log2, classifier__min_samples_leaf=4, classifier__min_samples_split=2, classifier__n_estimators=300; total time=   1.0s\n",
      "[CV] END classifier__max_depth=30, classifier__max_features=sqrt, classifier__min_samples_leaf=2, classifier__min_samples_split=10, classifier__n_estimators=400; total time=   1.8s\n",
      "[CV] END classifier__max_depth=30, classifier__max_features=sqrt, classifier__min_samples_leaf=2, classifier__min_samples_split=10, classifier__n_estimators=400; total time=   1.8s\n",
      "[CV] END classifier__max_depth=10, classifier__max_features=log2, classifier__min_samples_leaf=4, classifier__min_samples_split=2, classifier__n_estimators=300; total time=   0.9s\n",
      "[CV] END classifier__max_depth=10, classifier__max_features=log2, classifier__min_samples_leaf=4, classifier__min_samples_split=2, classifier__n_estimators=300; total time=   0.8s\n",
      "[CV] END classifier__max_depth=30, classifier__max_features=sqrt, classifier__min_samples_leaf=2, classifier__min_samples_split=10, classifier__n_estimators=400; total time=   1.8s\n",
      "[CV] END classifier__max_depth=30, classifier__max_features=sqrt, classifier__min_samples_leaf=2, classifier__min_samples_split=10, classifier__n_estimators=400; total time=   1.9s\n",
      "[CV] END classifier__max_depth=10, classifier__max_features=log2, classifier__min_samples_leaf=4, classifier__min_samples_split=2, classifier__n_estimators=300; total time=   1.0s\n",
      "[CV] END classifier__max_depth=None, classifier__max_features=sqrt, classifier__min_samples_leaf=1, classifier__min_samples_split=2, classifier__n_estimators=300; total time=   1.6s\n",
      "[CV] END classifier__max_depth=50, classifier__max_features=sqrt, classifier__min_samples_leaf=2, classifier__min_samples_split=10, classifier__n_estimators=500; total time=   2.1s\n",
      "[CV] END classifier__max_depth=50, classifier__max_features=sqrt, classifier__min_samples_leaf=2, classifier__min_samples_split=10, classifier__n_estimators=500; total time=   2.3s\n",
      "[CV] END classifier__max_depth=50, classifier__max_features=sqrt, classifier__min_samples_leaf=2, classifier__min_samples_split=10, classifier__n_estimators=500; total time=   2.3s\n",
      "[CV] END classifier__max_depth=50, classifier__max_features=sqrt, classifier__min_samples_leaf=2, classifier__min_samples_split=10, classifier__n_estimators=500; total time=   2.2s\n",
      "[CV] END classifier__max_depth=None, classifier__max_features=sqrt, classifier__min_samples_leaf=1, classifier__min_samples_split=2, classifier__n_estimators=300; total time=   1.5s\n",
      "[CV] END classifier__max_depth=50, classifier__max_features=sqrt, classifier__min_samples_leaf=2, classifier__min_samples_split=10, classifier__n_estimators=500; total time=   2.1s\n",
      "[CV] END classifier__max_depth=None, classifier__max_features=sqrt, classifier__min_samples_leaf=1, classifier__min_samples_split=2, classifier__n_estimators=300; total time=   1.6s\n",
      "[CV] END classifier__max_depth=20, classifier__max_features=sqrt, classifier__min_samples_leaf=1, classifier__min_samples_split=2, classifier__n_estimators=100; total time=   0.5s\n",
      "[CV] END classifier__max_depth=20, classifier__max_features=sqrt, classifier__min_samples_leaf=1, classifier__min_samples_split=2, classifier__n_estimators=100; total time=   0.6s\n",
      "[CV] END classifier__max_depth=20, classifier__max_features=sqrt, classifier__min_samples_leaf=1, classifier__min_samples_split=2, classifier__n_estimators=100; total time=   0.6s\n",
      "[CV] END classifier__max_depth=20, classifier__max_features=sqrt, classifier__min_samples_leaf=1, classifier__min_samples_split=2, classifier__n_estimators=100; total time=   0.6s\n",
      "[CV] END classifier__max_depth=20, classifier__max_features=sqrt, classifier__min_samples_leaf=1, classifier__min_samples_split=2, classifier__n_estimators=100; total time=   0.5s\n",
      "[CV] END classifier__max_depth=None, classifier__max_features=sqrt, classifier__min_samples_leaf=1, classifier__min_samples_split=10, classifier__n_estimators=100; total time=   0.5s\n",
      "[CV] END classifier__max_depth=30, classifier__max_features=log2, classifier__min_samples_leaf=4, classifier__min_samples_split=10, classifier__n_estimators=300; total time=   1.1s\n",
      "[CV] END classifier__max_depth=None, classifier__max_features=sqrt, classifier__min_samples_leaf=1, classifier__min_samples_split=2, classifier__n_estimators=300; total time=   1.7s\n",
      "[CV] END classifier__max_depth=None, classifier__max_features=sqrt, classifier__min_samples_leaf=1, classifier__min_samples_split=2, classifier__n_estimators=300; total time=   1.7s\n",
      "[CV] END classifier__max_depth=30, classifier__max_features=log2, classifier__min_samples_leaf=4, classifier__min_samples_split=10, classifier__n_estimators=300; total time=   1.1s\n",
      "[CV] END classifier__max_depth=30, classifier__max_features=log2, classifier__min_samples_leaf=4, classifier__min_samples_split=10, classifier__n_estimators=300; total time=   1.1s\n",
      "[CV] END classifier__max_depth=30, classifier__max_features=log2, classifier__min_samples_leaf=4, classifier__min_samples_split=10, classifier__n_estimators=300; total time=   1.2s\n",
      "[CV] END classifier__max_depth=None, classifier__max_features=sqrt, classifier__min_samples_leaf=1, classifier__min_samples_split=10, classifier__n_estimators=100; total time=   0.5s\n",
      "[CV] END classifier__max_depth=30, classifier__max_features=log2, classifier__min_samples_leaf=4, classifier__min_samples_split=10, classifier__n_estimators=300; total time=   1.1s\n",
      "[CV] END classifier__max_depth=None, classifier__max_features=sqrt, classifier__min_samples_leaf=1, classifier__min_samples_split=10, classifier__n_estimators=100; total time=   0.5s\n",
      "[CV] END classifier__max_depth=None, classifier__max_features=sqrt, classifier__min_samples_leaf=1, classifier__min_samples_split=10, classifier__n_estimators=100; total time=   0.4s\n",
      "[CV] END classifier__max_depth=None, classifier__max_features=sqrt, classifier__min_samples_leaf=1, classifier__min_samples_split=10, classifier__n_estimators=100; total time=   0.5s\n",
      "[CV] END classifier__max_depth=30, classifier__max_features=sqrt, classifier__min_samples_leaf=4, classifier__min_samples_split=10, classifier__n_estimators=200; total time=   0.9s\n",
      "[CV] END classifier__max_depth=30, classifier__max_features=sqrt, classifier__min_samples_leaf=4, classifier__min_samples_split=10, classifier__n_estimators=200; total time=   0.9s\n",
      "[CV] END classifier__max_depth=30, classifier__max_features=sqrt, classifier__min_samples_leaf=4, classifier__min_samples_split=10, classifier__n_estimators=200; total time=   0.9s\n",
      "[CV] END classifier__max_depth=30, classifier__max_features=sqrt, classifier__min_samples_leaf=4, classifier__min_samples_split=10, classifier__n_estimators=200; total time=   0.9s\n",
      "[CV] END classifier__max_depth=40, classifier__max_features=sqrt, classifier__min_samples_leaf=1, classifier__min_samples_split=10, classifier__n_estimators=200; total time=   1.0s\n",
      "[CV] END classifier__max_depth=30, classifier__max_features=sqrt, classifier__min_samples_leaf=4, classifier__min_samples_split=10, classifier__n_estimators=200; total time=   1.0s\n",
      "[CV] END classifier__max_depth=40, classifier__max_features=sqrt, classifier__min_samples_leaf=1, classifier__min_samples_split=10, classifier__n_estimators=200; total time=   1.0s\n",
      "[CV] END classifier__max_depth=40, classifier__max_features=sqrt, classifier__min_samples_leaf=1, classifier__min_samples_split=10, classifier__n_estimators=200; total time=   1.0s\n",
      "[CV] END classifier__max_depth=10, classifier__max_features=log2, classifier__min_samples_leaf=4, classifier__min_samples_split=10, classifier__n_estimators=200; total time=   0.6s\n",
      "[CV] END classifier__max_depth=10, classifier__max_features=log2, classifier__min_samples_leaf=4, classifier__min_samples_split=10, classifier__n_estimators=200; total time=   0.6s\n",
      "[CV] END classifier__max_depth=20, classifier__max_features=log2, classifier__min_samples_leaf=2, classifier__min_samples_split=5, classifier__n_estimators=100; total time=   0.4s\n",
      "[CV] END classifier__max_depth=10, classifier__max_features=log2, classifier__min_samples_leaf=4, classifier__min_samples_split=10, classifier__n_estimators=200; total time=   0.6s\n",
      "[CV] END classifier__max_depth=40, classifier__max_features=sqrt, classifier__min_samples_leaf=1, classifier__min_samples_split=10, classifier__n_estimators=200; total time=   0.9s\n",
      "[CV] END classifier__max_depth=10, classifier__max_features=log2, classifier__min_samples_leaf=4, classifier__min_samples_split=10, classifier__n_estimators=200; total time=   0.7s\n",
      "[CV] END classifier__max_depth=40, classifier__max_features=sqrt, classifier__min_samples_leaf=1, classifier__min_samples_split=10, classifier__n_estimators=200; total time=   0.9s\n",
      "[CV] END classifier__max_depth=10, classifier__max_features=log2, classifier__min_samples_leaf=4, classifier__min_samples_split=10, classifier__n_estimators=200; total time=   0.7s\n",
      "[CV] END classifier__max_depth=20, classifier__max_features=log2, classifier__min_samples_leaf=2, classifier__min_samples_split=5, classifier__n_estimators=100; total time=   0.4s\n",
      "[CV] END classifier__max_depth=20, classifier__max_features=log2, classifier__min_samples_leaf=2, classifier__min_samples_split=5, classifier__n_estimators=100; total time=   0.4s\n",
      "[CV] END classifier__max_depth=20, classifier__max_features=log2, classifier__min_samples_leaf=2, classifier__min_samples_split=5, classifier__n_estimators=100; total time=   0.4s\n",
      "[CV] END classifier__max_depth=20, classifier__max_features=log2, classifier__min_samples_leaf=2, classifier__min_samples_split=5, classifier__n_estimators=100; total time=   0.4s\n",
      "[CV] END classifier__max_depth=30, classifier__max_features=log2, classifier__min_samples_leaf=4, classifier__min_samples_split=2, classifier__n_estimators=500; total time=   1.8s\n",
      "[CV] END classifier__max_depth=30, classifier__max_features=log2, classifier__min_samples_leaf=4, classifier__min_samples_split=2, classifier__n_estimators=500; total time=   2.0s\n",
      "[CV] END classifier__max_depth=30, classifier__max_features=log2, classifier__min_samples_leaf=4, classifier__min_samples_split=2, classifier__n_estimators=500; total time=   2.0s\n",
      "[CV] END classifier__max_depth=50, classifier__max_features=sqrt, classifier__min_samples_leaf=1, classifier__min_samples_split=10, classifier__n_estimators=500; total time=   2.3s\n",
      "[CV] END classifier__max_depth=50, classifier__max_features=sqrt, classifier__min_samples_leaf=1, classifier__min_samples_split=10, classifier__n_estimators=500; total time=   2.4s\n",
      "[CV] END classifier__max_depth=50, classifier__max_features=sqrt, classifier__min_samples_leaf=1, classifier__min_samples_split=10, classifier__n_estimators=500; total time=   2.4s\n",
      "[CV] END classifier__max_depth=50, classifier__max_features=sqrt, classifier__min_samples_leaf=1, classifier__min_samples_split=10, classifier__n_estimators=500; total time=   2.5s\n",
      "[CV] END classifier__max_depth=50, classifier__max_features=sqrt, classifier__min_samples_leaf=1, classifier__min_samples_split=10, classifier__n_estimators=500; total time=   2.3s\n",
      "[CV] END classifier__max_depth=30, classifier__max_features=log2, classifier__min_samples_leaf=4, classifier__min_samples_split=2, classifier__n_estimators=500; total time=   1.9s\n",
      "[CV] END classifier__max_depth=30, classifier__max_features=log2, classifier__min_samples_leaf=4, classifier__min_samples_split=2, classifier__n_estimators=500; total time=   2.0s\n",
      "[CV] END classifier__max_depth=50, classifier__max_features=log2, classifier__min_samples_leaf=2, classifier__min_samples_split=10, classifier__n_estimators=500; total time=   1.9s\n",
      "[CV] END classifier__max_depth=50, classifier__max_features=log2, classifier__min_samples_leaf=2, classifier__min_samples_split=10, classifier__n_estimators=500; total time=   2.0s\n",
      "[CV] END classifier__max_depth=50, classifier__max_features=log2, classifier__min_samples_leaf=2, classifier__min_samples_split=10, classifier__n_estimators=500; total time=   2.1s\n",
      "[CV] END classifier__max_depth=50, classifier__max_features=log2, classifier__min_samples_leaf=2, classifier__min_samples_split=10, classifier__n_estimators=500; total time=   2.1s\n",
      "[CV] END classifier__max_depth=50, classifier__max_features=log2, classifier__min_samples_leaf=2, classifier__min_samples_split=10, classifier__n_estimators=500; total time=   2.2s\n",
      "[CV] END classifier__max_depth=40, classifier__max_features=log2, classifier__min_samples_leaf=1, classifier__min_samples_split=5, classifier__n_estimators=500; total time=   2.5s\n",
      "[CV] END classifier__max_depth=None, classifier__max_features=log2, classifier__min_samples_leaf=2, classifier__min_samples_split=10, classifier__n_estimators=300; total time=   1.2s\n",
      "[CV] END classifier__max_depth=None, classifier__max_features=log2, classifier__min_samples_leaf=2, classifier__min_samples_split=10, classifier__n_estimators=300; total time=   1.3s\n",
      "[CV] END classifier__max_depth=None, classifier__max_features=log2, classifier__min_samples_leaf=2, classifier__min_samples_split=10, classifier__n_estimators=300; total time=   1.2s\n",
      "[CV] END classifier__max_depth=40, classifier__max_features=log2, classifier__min_samples_leaf=1, classifier__min_samples_split=5, classifier__n_estimators=500; total time=   2.1s\n",
      "[CV] END classifier__max_depth=None, classifier__max_features=log2, classifier__min_samples_leaf=2, classifier__min_samples_split=10, classifier__n_estimators=300; total time=   1.3s\n",
      "[CV] END classifier__max_depth=40, classifier__max_features=log2, classifier__min_samples_leaf=1, classifier__min_samples_split=5, classifier__n_estimators=500; total time=   2.2s\n",
      "[CV] END classifier__max_depth=40, classifier__max_features=log2, classifier__min_samples_leaf=1, classifier__min_samples_split=5, classifier__n_estimators=500; total time=   2.3s\n",
      "[CV] END classifier__max_depth=40, classifier__max_features=log2, classifier__min_samples_leaf=1, classifier__min_samples_split=5, classifier__n_estimators=500; total time=   2.2s\n",
      "[CV] END classifier__max_depth=None, classifier__max_features=log2, classifier__min_samples_leaf=2, classifier__min_samples_split=10, classifier__n_estimators=300; total time=   1.3s\n",
      "[CV] END classifier__max_depth=20, classifier__max_features=sqrt, classifier__min_samples_leaf=2, classifier__min_samples_split=2, classifier__n_estimators=200; total time=   1.1s\n",
      "[CV] END classifier__max_depth=20, classifier__max_features=sqrt, classifier__min_samples_leaf=2, classifier__min_samples_split=2, classifier__n_estimators=200; total time=   1.1s\n",
      "[CV] END classifier__max_depth=20, classifier__max_features=sqrt, classifier__min_samples_leaf=2, classifier__min_samples_split=2, classifier__n_estimators=200; total time=   1.0s\n",
      "[CV] END classifier__max_depth=20, classifier__max_features=sqrt, classifier__min_samples_leaf=2, classifier__min_samples_split=2, classifier__n_estimators=200; total time=   1.0s\n",
      "[CV] END classifier__max_depth=20, classifier__max_features=sqrt, classifier__min_samples_leaf=2, classifier__min_samples_split=2, classifier__n_estimators=200; total time=   1.0s\n",
      "[CV] END classifier__max_depth=20, classifier__max_features=log2, classifier__min_samples_leaf=4, classifier__min_samples_split=10, classifier__n_estimators=400; total time=   1.6s\n",
      "[CV] END classifier__max_depth=30, classifier__max_features=log2, classifier__min_samples_leaf=1, classifier__min_samples_split=5, classifier__n_estimators=200; total time=   0.9s\n",
      "[CV] END classifier__max_depth=20, classifier__max_features=log2, classifier__min_samples_leaf=4, classifier__min_samples_split=10, classifier__n_estimators=400; total time=   1.7s\n",
      "[CV] END classifier__max_depth=30, classifier__max_features=log2, classifier__min_samples_leaf=1, classifier__min_samples_split=5, classifier__n_estimators=200; total time=   0.9s\n",
      "[CV] END classifier__max_depth=30, classifier__max_features=log2, classifier__min_samples_leaf=1, classifier__min_samples_split=5, classifier__n_estimators=200; total time=   1.0s\n",
      "[CV] END classifier__max_depth=20, classifier__max_features=log2, classifier__min_samples_leaf=4, classifier__min_samples_split=10, classifier__n_estimators=400; total time=   1.6s\n",
      "[CV] END classifier__max_depth=20, classifier__max_features=log2, classifier__min_samples_leaf=4, classifier__min_samples_split=10, classifier__n_estimators=400; total time=   1.6s\n",
      "[CV] END classifier__max_depth=20, classifier__max_features=log2, classifier__min_samples_leaf=4, classifier__min_samples_split=10, classifier__n_estimators=400; total time=   1.6s\n",
      "[CV] END classifier__max_depth=10, classifier__max_features=log2, classifier__min_samples_leaf=1, classifier__min_samples_split=5, classifier__n_estimators=100; total time=   0.3s\n",
      "[CV] END classifier__max_depth=30, classifier__max_features=log2, classifier__min_samples_leaf=1, classifier__min_samples_split=5, classifier__n_estimators=200; total time=   0.8s\n",
      "[CV] END classifier__max_depth=30, classifier__max_features=log2, classifier__min_samples_leaf=1, classifier__min_samples_split=5, classifier__n_estimators=200; total time=   0.8s\n",
      "[CV] END classifier__max_depth=10, classifier__max_features=log2, classifier__min_samples_leaf=1, classifier__min_samples_split=5, classifier__n_estimators=100; total time=   0.3s\n",
      "[CV] END classifier__max_depth=10, classifier__max_features=log2, classifier__min_samples_leaf=1, classifier__min_samples_split=5, classifier__n_estimators=100; total time=   0.3s\n",
      "[CV] END classifier__max_depth=10, classifier__max_features=log2, classifier__min_samples_leaf=1, classifier__min_samples_split=5, classifier__n_estimators=100; total time=   0.3s\n",
      "[CV] END classifier__max_depth=10, classifier__max_features=log2, classifier__min_samples_leaf=1, classifier__min_samples_split=5, classifier__n_estimators=100; total time=   0.4s\n",
      "[CV] END classifier__max_depth=50, classifier__max_features=sqrt, classifier__min_samples_leaf=4, classifier__min_samples_split=5, classifier__n_estimators=400; total time=   1.9s\n",
      "[CV] END classifier__max_depth=50, classifier__max_features=sqrt, classifier__min_samples_leaf=4, classifier__min_samples_split=5, classifier__n_estimators=400; total time=   1.9s\n",
      "[CV] END classifier__max_depth=50, classifier__max_features=sqrt, classifier__min_samples_leaf=4, classifier__min_samples_split=5, classifier__n_estimators=400; total time=   1.9s\n",
      "[CV] END classifier__max_depth=50, classifier__max_features=sqrt, classifier__min_samples_leaf=4, classifier__min_samples_split=5, classifier__n_estimators=400; total time=   1.8s\n",
      "[CV] END classifier__max_depth=50, classifier__max_features=sqrt, classifier__min_samples_leaf=4, classifier__min_samples_split=5, classifier__n_estimators=400; total time=   1.8s\n",
      "[CV] END classifier__max_depth=50, classifier__max_features=sqrt, classifier__min_samples_leaf=1, classifier__min_samples_split=5, classifier__n_estimators=300; total time=   1.5s\n",
      "[CV] END classifier__max_depth=50, classifier__max_features=sqrt, classifier__min_samples_leaf=1, classifier__min_samples_split=5, classifier__n_estimators=300; total time=   1.6s\n",
      "[CV] END classifier__max_depth=50, classifier__max_features=sqrt, classifier__min_samples_leaf=1, classifier__min_samples_split=5, classifier__n_estimators=300; total time=   1.6s\n",
      "[CV] END classifier__max_depth=10, classifier__max_features=log2, classifier__min_samples_leaf=4, classifier__min_samples_split=5, classifier__n_estimators=400; total time=   1.3s\n",
      "[CV] END classifier__max_depth=10, classifier__max_features=log2, classifier__min_samples_leaf=4, classifier__min_samples_split=5, classifier__n_estimators=400; total time=   1.3s\n",
      "[CV] END classifier__max_depth=10, classifier__max_features=log2, classifier__min_samples_leaf=4, classifier__min_samples_split=5, classifier__n_estimators=400; total time=   1.3s\n",
      "[CV] END classifier__max_depth=50, classifier__max_features=sqrt, classifier__min_samples_leaf=1, classifier__min_samples_split=5, classifier__n_estimators=300; total time=   1.5s\n",
      "[CV] END classifier__max_depth=50, classifier__max_features=sqrt, classifier__min_samples_leaf=1, classifier__min_samples_split=5, classifier__n_estimators=300; total time=   1.6s\n",
      "[CV] END classifier__max_depth=10, classifier__max_features=log2, classifier__min_samples_leaf=4, classifier__min_samples_split=5, classifier__n_estimators=400; total time=   1.3s\n",
      "[CV] END classifier__max_depth=10, classifier__max_features=log2, classifier__min_samples_leaf=4, classifier__min_samples_split=5, classifier__n_estimators=400; total time=   1.2s\n",
      "[CV] END classifier__max_depth=None, classifier__max_features=log2, classifier__min_samples_leaf=4, classifier__min_samples_split=2, classifier__n_estimators=500; total time=   2.0s\n",
      "[CV] END classifier__max_depth=40, classifier__max_features=sqrt, classifier__min_samples_leaf=1, classifier__min_samples_split=2, classifier__n_estimators=300; total time=   1.9s\n",
      "[CV] END classifier__max_depth=None, classifier__max_features=log2, classifier__min_samples_leaf=4, classifier__min_samples_split=2, classifier__n_estimators=500; total time=   2.2s\n",
      "[CV] END classifier__max_depth=None, classifier__max_features=log2, classifier__min_samples_leaf=4, classifier__min_samples_split=2, classifier__n_estimators=500; total time=   2.2s\n",
      "[CV] END classifier__max_depth=None, classifier__max_features=log2, classifier__min_samples_leaf=4, classifier__min_samples_split=2, classifier__n_estimators=500; total time=   2.2s\n",
      "[CV] END classifier__max_depth=None, classifier__max_features=log2, classifier__min_samples_leaf=4, classifier__min_samples_split=2, classifier__n_estimators=500; total time=   2.4s\n",
      "[CV] END classifier__max_depth=40, classifier__max_features=sqrt, classifier__min_samples_leaf=1, classifier__min_samples_split=2, classifier__n_estimators=300; total time=   1.9s\n",
      "[CV] END classifier__max_depth=40, classifier__max_features=sqrt, classifier__min_samples_leaf=1, classifier__min_samples_split=2, classifier__n_estimators=300; total time=   1.9s\n",
      "[CV] END classifier__max_depth=40, classifier__max_features=sqrt, classifier__min_samples_leaf=4, classifier__min_samples_split=5, classifier__n_estimators=200; total time=   1.0s\n",
      "[CV] END classifier__max_depth=40, classifier__max_features=sqrt, classifier__min_samples_leaf=4, classifier__min_samples_split=5, classifier__n_estimators=200; total time=   1.0s\n",
      "[CV] END classifier__max_depth=40, classifier__max_features=sqrt, classifier__min_samples_leaf=4, classifier__min_samples_split=5, classifier__n_estimators=200; total time=   0.9s\n",
      "[CV] END classifier__max_depth=40, classifier__max_features=sqrt, classifier__min_samples_leaf=4, classifier__min_samples_split=5, classifier__n_estimators=200; total time=   0.9s\n",
      "[CV] END classifier__max_depth=40, classifier__max_features=sqrt, classifier__min_samples_leaf=4, classifier__min_samples_split=5, classifier__n_estimators=200; total time=   1.0s\n",
      "[CV] END classifier__max_depth=40, classifier__max_features=sqrt, classifier__min_samples_leaf=1, classifier__min_samples_split=2, classifier__n_estimators=300; total time=   2.1s\n",
      "[CV] END classifier__max_depth=40, classifier__max_features=sqrt, classifier__min_samples_leaf=1, classifier__min_samples_split=2, classifier__n_estimators=300; total time=   1.8s\n",
      "[CV] END classifier__max_depth=50, classifier__max_features=log2, classifier__min_samples_leaf=4, classifier__min_samples_split=5, classifier__n_estimators=400; total time=   1.4s\n",
      "[CV] END classifier__max_depth=None, classifier__max_features=sqrt, classifier__min_samples_leaf=4, classifier__min_samples_split=2, classifier__n_estimators=100; total time=   0.5s\n",
      "[CV] END classifier__max_depth=None, classifier__max_features=sqrt, classifier__min_samples_leaf=4, classifier__min_samples_split=2, classifier__n_estimators=100; total time=   0.4s\n",
      "[CV] END classifier__max_depth=None, classifier__max_features=sqrt, classifier__min_samples_leaf=4, classifier__min_samples_split=2, classifier__n_estimators=100; total time=   0.4s\n",
      "[CV] END classifier__max_depth=None, classifier__max_features=sqrt, classifier__min_samples_leaf=4, classifier__min_samples_split=2, classifier__n_estimators=100; total time=   0.5s\n",
      "[CV] END classifier__max_depth=None, classifier__max_features=sqrt, classifier__min_samples_leaf=4, classifier__min_samples_split=2, classifier__n_estimators=100; total time=   0.4s\n",
      "[CV] END classifier__max_depth=50, classifier__max_features=log2, classifier__min_samples_leaf=4, classifier__min_samples_split=5, classifier__n_estimators=400; total time=   1.4s\n",
      "[CV] END classifier__max_depth=50, classifier__max_features=log2, classifier__min_samples_leaf=4, classifier__min_samples_split=5, classifier__n_estimators=400; total time=   1.5s\n",
      "[CV] END classifier__max_depth=50, classifier__max_features=log2, classifier__min_samples_leaf=4, classifier__min_samples_split=5, classifier__n_estimators=400; total time=   1.4s\n",
      "[CV] END classifier__max_depth=50, classifier__max_features=log2, classifier__min_samples_leaf=4, classifier__min_samples_split=5, classifier__n_estimators=400; total time=   1.4s\n"
     ]
    },
    {
     "name": "stderr",
     "output_type": "stream",
     "text": [
      "2024/09/17 19:25:13 WARNING mlflow.models.model: Model logged without a signature and input example. Please set `input_example` parameter when logging the model to auto infer the model signature.\n"
     ]
    }
   ],
   "source": [
    "# Models to train\n",
    "models_to_train = ['XGBoost', 'RandomForest']\n",
    "evaluation_results = {}\n",
    "\n",
    "preprocessing = Pipeline(steps=[\n",
    "    ('imputer', SimpleImputer(strategy='median'))\n",
    "])\n",
    "\n",
    "for model_name in models_to_train:\n",
    "    # Train the model with hyperparameter tuning\n",
    "    best_search = train_model(\n",
    "        model_name=model_name,\n",
    "        X_train=X_train,\n",
    "        y_train=y_train,\n",
    "        preprocessing_pipeline=preprocessing,\n",
    "        param_distributions=None,  # Already handled in train_model\n",
    "        cv=5,\n",
    "        n_iter=50,\n",
    "        random_state=random_state_var\n",
    "    )\n",
    "    \n",
    "    # Retrieve the best model\n",
    "    best_model = best_search.best_estimator_\n",
    "    \n",
    "    # Save the best model using joblib\n",
    "    model_filename = f'best_model_{model_name.lower()}.pkl'\n",
    "    joblib.dump(best_model, os.path.join(models_dir, model_filename))\n",
    "    mlflow.log_artifact(os.path.join(models_dir, model_filename))\n",
    "    \n",
    "    # Evaluate on test set\n",
    "    eval_metrics_test = evaluate_model(best_model, X_test, y_test, model_name=model_name, dataset_name=\"test\")\n",
    "    \n",
    "    # Log evaluation metrics\n",
    "    evaluation_results[model_name] = eval_metrics_test\n",
    "    \n",
    "    # Prepare dashboard data\n",
    "    # feature_importance_df, metrics_df = prepare_dashboard_data(model_name, best_model, X_test, y_test)\n",
    "    \n",
    "    # # Log feature importance and metrics to MLflow\n",
    "    # mlflow.log_artifact(f'reports/feature_importance_{model_name.lower()}.png')\n",
    "    # mlflow.log_artifact(f'reports/shap_summary_{model_name.lower()}.png')\n",
    "    # mlflow.log_artifact(f'reports/dashboard_feature_importance_{model_name.lower()}.csv')\n",
    "    # mlflow.log_artifact(f'reports/dashboard_metrics_{model_name.lower()}.csv')\n",
    "    \n",
    "    mlflow.end_run()\n"
   ]
  },
  {
   "cell_type": "code",
   "execution_count": 58,
   "metadata": {},
   "outputs": [],
   "source": [
    "import matplotlib.pyplot as plt\n",
    "import seaborn as sns\n",
    "import pandas as pd\n",
    "import mlflow\n",
    "from sklearn.metrics import roc_auc_score, classification_report\n",
    "\n",
    "\n",
    "def plot_feature_importance(model, feature_names, top_n=20, save_path='reports/feature_importance.png'):\n",
    "    # Extract feature importances\n",
    "    importances = model.named_steps['classifier'].feature_importances_\n",
    "    feature_importance = pd.Series(importances, index=feature_names)\n",
    "    top_features = feature_importance.sort_values(ascending=False).head(top_n)\n",
    "    \n",
    "    # Plot\n",
    "    plt.figure(figsize=(10,8))\n",
    "    sns.barplot(x=top_features.values, y=top_features.index)\n",
    "    plt.title('Top Feature Importances')\n",
    "    plt.xlabel('Importance Score')\n",
    "    plt.ylabel('Features')\n",
    "    plt.tight_layout()\n",
    "    plt.savefig(save_path)\n",
    "    plt.close()\n",
    "    \n",
    "    # Log the plot as an MLflow artifact\n",
    "    # mlflow.log_artifact(save_path)\n",
    "    \n",
    "\n",
    "# import shap\n",
    "# def shap_explain(model, X, save_path='reports/shap_summary.png'):\n",
    "#     # Initialize SHAP explainer\n",
    "#     # Apply preprocessing pipeline\n",
    "#     X_transformed = model.named_steps['preprocessing'].transform(X)\n",
    "#     if hasattr(model.named_steps['classifier'], 'get_booster'):  # XGBoost specific\n",
    "#         explainer = shap.Explainer(model.named_steps['classifier'])\n",
    "#         shap_values = explainer(X_transformed)\n",
    "#     else:\n",
    "#         explainer = shap.Explainer(model.named_steps['classifier'], X_transformed)\n",
    "#         shap_values = explainer(X_transformed)\n",
    "    \n",
    "#     # Summary plot\n",
    "#     plt.figure(figsize=(10, 8))\n",
    "#     shap.summary_plot(shap_values, X, show=False)\n",
    "#     plt.savefig(save_path, bbox_inches='tight')\n",
    "#     plt.close()\n",
    "    \n",
    "#     # Log the SHAP summary plot\n",
    "#     # mlflow.log_artifact(save_path)"
   ]
  },
  {
   "cell_type": "code",
   "execution_count": null,
   "metadata": {},
   "outputs": [],
   "source": []
  },
  {
   "cell_type": "code",
   "execution_count": 64,
   "metadata": {},
   "outputs": [],
   "source": [
    "def prepare_dashboard_data(model_name, model, X, y):\n",
    "    # Feature Importance\n",
    "    fi_png_path = os.path.join(output_data_dir, f\"feature_importance_{model_name.lower()}.png\")\n",
    "    plot_feature_importance(model, X.columns, top_n=20, save_path=fi_png_path)\n",
    "    \n",
    "    # SHAP Summary Plot\n",
    "    # shap_explain(model, X, save_path=f'{save_path_prefix}shap_summary_{model_name.lower()}.png')\n",
    "    \n",
    "    # Prepare dashboard metrics\n",
    "    importances = model.named_steps['classifier'].feature_importances_\n",
    "    feature_names = X.columns\n",
    "    feature_importance_df = pd.DataFrame({\n",
    "        'Feature': feature_names,\n",
    "        'Importance': importances\n",
    "    }).sort_values(by='Importance', ascending=False)\n",
    "    \n",
    "    # Model performance metrics\n",
    "    y_proba = model.predict_proba(X)[:,1]\n",
    "    roc_auc = roc_auc_score(y, y_proba)\n",
    "    report = classification_report(y, model.predict(X), output_dict=True)\n",
    "    \n",
    "    # Save feature importance\n",
    "    feat_imp_out = os.path.join(output_data_dir, f\"dashboard_feature_importance_{model_name.lower()}.csv\")\n",
    "    feature_importance_df.to_csv(feat_imp_out, index=False)\n",
    "    \n",
    "    # Save metrics\n",
    "    metrics = {\n",
    "        'Model': model_name,\n",
    "        'ROC_AUC': roc_auc,\n",
    "        'Precision': report['1']['precision'],\n",
    "        'Recall': report['1']['recall'],\n",
    "        'F1_Score': report['1']['f1-score']\n",
    "    }\n",
    "    metrics_df = pd.DataFrame([metrics])\n",
    "    dm_csv_path = os.path.join(report_dir, f\"dashboard_metrics_{model_name.lower()}.csv\")\n",
    "    metrics_df.to_csv(dm_csv_path, index=False)\n",
    "    \n",
    "    return feature_importance_df, metrics_df"
   ]
  },
  {
   "cell_type": "code",
   "execution_count": 65,
   "metadata": {},
   "outputs": [],
   "source": [
    "feature_importance_df, metrics_df = prepare_dashboard_data(model_name, best_model, X_test, y_test)"
   ]
  },
  {
   "cell_type": "code",
   "execution_count": 76,
   "metadata": {},
   "outputs": [
    {
     "data": {
      "text/plain": [
       "{'classification_report': {'0': {'precision': 0.633693972179289,\n",
       "   'recall': 1.0,\n",
       "   'f1-score': 0.7757805108798487,\n",
       "   'support': 410.0},\n",
       "  '1': {'precision': 0.0, 'recall': 0.0, 'f1-score': 0.0, 'support': 237.0},\n",
       "  'accuracy': 0.633693972179289,\n",
       "  'macro avg': {'precision': 0.3168469860896445,\n",
       "   'recall': 0.5,\n",
       "   'f1-score': 0.38789025543992434,\n",
       "   'support': 647.0},\n",
       "  'weighted avg': {'precision': 0.4015680503763655,\n",
       "   'recall': 0.633693972179289,\n",
       "   'f1-score': 0.4916074334787294,\n",
       "   'support': 647.0}},\n",
       " 'roc_auc_score': np.float64(0.6181022949470001),\n",
       " 'confusion_matrix': [[410, 0], [237, 0]]}"
      ]
     },
     "execution_count": 76,
     "metadata": {},
     "output_type": "execute_result"
    }
   ],
   "source": [
    "for model, metrics in evaluation_results.items():\n",
    "    break\n",
    "\n",
    "metrics"
   ]
  },
  {
   "cell_type": "code",
   "execution_count": 78,
   "metadata": {},
   "outputs": [
    {
     "name": "stdout",
     "output_type": "stream",
     "text": [
      "\n",
      "=== Model Evaluation on Test Set ===\n",
      "\n",
      "Model: XGBoost\n",
      "ROC AUC Score: 0.6181\n",
      "Classification Report:\n",
      "              precision    recall  f1-score     support\n",
      "0              0.633694  1.000000  0.775781  410.000000\n",
      "1              0.000000  0.000000  0.000000  237.000000\n",
      "accuracy       0.633694  0.633694  0.633694    0.633694\n",
      "macro avg      0.316847  0.500000  0.387890  647.000000\n",
      "weighted avg   0.401568  0.633694  0.491607  647.000000\n",
      "Confusion Matrix:\n",
      "          Predicted 0  Predicted 1\n",
      "Actual 0          410            0\n",
      "Actual 1          237            0\n",
      "\n",
      "Model: RandomForest\n",
      "ROC AUC Score: 0.5767\n",
      "Classification Report:\n",
      "              precision    recall  f1-score     support\n",
      "0              0.656250  0.870732  0.748428  410.000000\n",
      "1              0.485437  0.210970  0.294118  237.000000\n",
      "accuracy       0.629057  0.629057  0.629057    0.629057\n",
      "macro avg      0.570843  0.540851  0.521273  647.000000\n",
      "weighted avg   0.593680  0.629057  0.582011  647.000000\n",
      "Confusion Matrix:\n",
      "          Predicted 0  Predicted 1\n",
      "Actual 0          357           53\n",
      "Actual 1          187           50\n",
      "\n",
      "All models have been trained, evaluated, and logged to MLflow.\n"
     ]
    }
   ],
   "source": [
    "# Save all evaluation metrics to a JSON file\n",
    "import json\n",
    "json_out = os.path.join(output_data_dir, 'evaluation_metrics.json')\n",
    "with open(json_out, 'w') as f:\n",
    "    json.dump(evaluation_results, f, indent=4)\n",
    "# mlflow.log_artifact('reports/evaluation_metrics.json')\n",
    "\n",
    "# Optionally, save a summary report\n",
    "summary_df = pd.DataFrame([\n",
    "    {\n",
    "        'Model': model,\n",
    "        'ROC_AUC': metrics['roc_auc_score'],\n",
    "        'Precision': metrics['classification_report']['0']['precision'],\n",
    "        'Recall': metrics['classification_report']['0']['recall'],\n",
    "        'F1_Score': metrics['classification_report']['0']['f1-score']\n",
    "    } for model, metrics in evaluation_results.items()\n",
    "])\n",
    "summ_fname = os.path.join(output_data_dir, \"model_comparison.csv\")\n",
    "summary_df.to_csv(summ_fname, index=False)\n",
    "\n",
    "# mlflow.log_artifact('reports/model_comparison.csv')\n",
    "\n",
    "# Print evaluation scores for test set\n",
    "print(\"\\n=== Model Evaluation on Test Set ===\")\n",
    "for model, metrics in evaluation_results.items():\n",
    "    print(f\"\\nModel: {model}\")\n",
    "    print(f\"ROC AUC Score: {metrics['roc_auc_score']:.4f}\")\n",
    "    print(\"Classification Report:\")\n",
    "    print(pd.DataFrame(metrics['classification_report']).transpose())\n",
    "    print(\"Confusion Matrix:\")\n",
    "    print(pd.DataFrame(metrics['confusion_matrix'], \n",
    "                        index=['Actual 0', 'Actual 1'], \n",
    "                        columns=['Predicted 0', 'Predicted 1']))\n",
    "\n",
    "print(\"\\nAll models have been trained, evaluated, and logged to MLflow.\")"
   ]
  },
  {
   "cell_type": "code",
   "execution_count": null,
   "metadata": {},
   "outputs": [],
   "source": [
    "mlflow.end_run()"
   ]
  },
  {
   "cell_type": "code",
   "execution_count": null,
   "metadata": {},
   "outputs": [],
   "source": []
  },
  {
   "cell_type": "code",
   "execution_count": null,
   "metadata": {},
   "outputs": [],
   "source": []
  },
  {
   "cell_type": "code",
   "execution_count": null,
   "metadata": {},
   "outputs": [],
   "source": []
  },
  {
   "cell_type": "markdown",
   "metadata": {},
   "source": [
    "## Generate Dashboard"
   ]
  },
  {
   "cell_type": "code",
   "execution_count": null,
   "metadata": {},
   "outputs": [],
   "source": [
    "# src/mlflow_integration.py\n",
    "import mlflow\n",
    "from src.data_preprocessing import split_and_save_data\n",
    "from src.model import train_model\n",
    "from src.evaluate_model import evaluate_model\n",
    "from src.visualize import plot_feature_importance, shap_explain\n",
    "import pandas as pd\n",
    "import joblib\n",
    "\n",
    "\n",
    "# Start a top-level MLflow run\n",
    "with mlflow.start_run(run_name=\"Employee Attrition Pipeline\") as run:\n",
    "    # Data Splitting\n",
    "    data_splits = split_and_save_data()\n",
    "    X_train = data_splits['X_train']\n",
    "    y_train = data_splits['y_train']\n",
    "    X_valid = data_splits['X_valid']\n",
    "    y_valid = data_splits['y_valid']\n",
    "    X_test = data_splits['X_test']\n",
    "    y_test = data_splits['y_test']\n",
    "    \n",
    "    # Define preprocessing pipeline\n",
    "    from sklearn.pipeline import Pipeline\n",
    "    from sklearn.impute import SimpleImputer\n",
    "    \n",
    "    preprocessing = Pipeline(steps=[\n",
    "        ('imputer', SimpleImputer(strategy='median'))\n",
    "    ])\n",
    "    \n",
    "    # Define hyperparameter grid\n",
    "    param_distributions = {\n",
    "        'classifier__n_estimators': [100, 200, 300, 400, 500],\n",
    "        'classifier__max_depth': [None, 10, 20, 30, 40, 50],\n",
    "        'classifier__min_samples_split': [2, 5, 10],\n",
    "        'classifier__min_samples_leaf': [1, 2, 4],\n",
    "        'classifier__max_features': ['auto', 'sqrt', 'log2']\n",
    "    }\n",
    "    \n",
    "    # Train the model with hyperparameter tuning\n",
    "    best_search = train_model(\n",
    "        X_train, y_train, preprocessing, param_distributions\n",
    "    )\n",
    "    \n",
    "    # Retrieve the best model\n",
    "    best_model = best_search.best_estimator_\n",
    "    \n",
    "    # Log the model as an artifact in the top-level run\n",
    "    mlflow.sklearn.log_model(best_model, \"best_model_pipeline\")\n",
    "    \n",
    "    # Evaluate on validation set\n",
    "    eval_metrics_valid = evaluate_model(best_model, X_valid, y_valid, dataset_name=\"validation\")\n",
    "    \n",
    "    # Evaluate on test set\n",
    "    eval_metrics_test = evaluate_model(best_model, X_test, y_test, dataset_name=\"test\")\n",
    "    \n",
    "    # Feature Importance\n",
    "    plot_feature_importance(best_model, X_train.columns, save_path='reports/feature_importance.png')\n",
    "    \n",
    "    # SHAP Summary Plot\n",
    "    # shap_explain(best_model, X_valid, save_path='reports/shap_summary.png')\n",
    "    \n",
    "    # Log evaluation metrics as artifacts\n",
    "    import json\n",
    "    with open('reports/evaluation_metrics.json', 'w') as f:\n",
    "        json.dump({\n",
    "            'validation': eval_metrics_valid,\n",
    "            'test': eval_metrics_test\n",
    "        }, f, indent=4)\n",
    "    mlflow.log_artifact('reports/evaluation_metrics.json')\n",
    "    \n",
    "    # Log feature importance and SHAP plots as artifacts\n",
    "    mlflow.log_artifact('reports/feature_importance.png')\n",
    "    mlflow.log_artifact('reports/shap_summary.png')\n",
    "    \n",
    "    # Save Dashboard Data\n",
    "    def prepare_dashboard_data(model, X, y, save_path='reports/dashboard_metrics.csv'):\n",
    "        importances = model.named_steps['classifier'].feature_importances_\n",
    "        feature_names = X.columns\n",
    "        feature_importance = pd.DataFrame({\n",
    "            'Feature': feature_names,\n",
    "            'Importance': importances\n",
    "        }).sort_values(by='Importance', ascending=False)\n",
    "        \n",
    "        # Add model performance metrics\n",
    "        from sklearn.metrics import roc_auc_score, classification_report\n",
    "        y_proba = model.predict_proba(X)[:,1]\n",
    "        roc_auc = roc_auc_score(y, y_proba)\n",
    "        report = classification_report(y, model.predict(X), output_dict=True)\n",
    "        \n",
    "        # Save feature importance\n",
    "        feature_importance.to_csv('reports/dashboard_feature_importance.csv', index=False)\n",
    "        mlflow.log_artifact('reports/dashboard_feature_importance.csv')\n",
    "        \n",
    "        # Save metrics\n",
    "        metrics = {\n",
    "            'ROC_AUC': roc_auc,\n",
    "            'Precision': report['1']['precision'],\n",
    "            'Recall': report['1']['recall'],\n",
    "            'F1_Score': report['1']['f1-score']\n",
    "        }\n",
    "        pd.DataFrame([metrics]).to_csv(save_path, index=False)\n",
    "        mlflow.log_artifact(save_path)\n",
    "    \n",
    "    prepare_dashboard_data(best_model, X_valid, y_valid)\n",
    "    \n",
    "    # Optionally, save the model using joblib\n",
    "    joblib.dump(best_model, 'models/best_model.pkl')\n",
    "    mlflow.log_artifact('models/best_model.pkl')\n"
   ]
  },
  {
   "cell_type": "code",
   "execution_count": null,
   "metadata": {},
   "outputs": [],
   "source": []
  },
  {
   "cell_type": "code",
   "execution_count": null,
   "metadata": {},
   "outputs": [],
   "source": []
  }
 ],
 "metadata": {
  "kernelspec": {
   "display_name": "PwC-Attrition-model-3.11",
   "language": "python",
   "name": "python3"
  },
  "language_info": {
   "codemirror_mode": {
    "name": "ipython",
    "version": 3
   },
   "file_extension": ".py",
   "mimetype": "text/x-python",
   "name": "python",
   "nbconvert_exporter": "python",
   "pygments_lexer": "ipython3",
   "version": "3.11.6"
  }
 },
 "nbformat": 4,
 "nbformat_minor": 2
}
